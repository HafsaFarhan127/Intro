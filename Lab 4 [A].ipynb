{
 "cells": [
  {
   "cell_type": "markdown",
   "metadata": {
    "id": "vmsNFs1Up4CI"
   },
   "source": [
    "#Use the customer.csv dataset to answer the following questions."
   ]
  },
  {
   "cell_type": "markdown",
   "metadata": {
    "id": "-zKgKORtqS-o"
   },
   "source": [
    "##Types of data and levels of measurement\n",
    "\n",
    "What are the types of data and the levels of measurement of the following variables: **Cust ID**, **Mortgage**, **Year of sale**"
   ]
  },
  {
   "cell_type": "code",
   "execution_count": null,
   "metadata": {
    "id": "QEDhqlXDuqHV"
   },
   "outputs": [],
   "source": []
  },
  {
   "cell_type": "markdown",
   "metadata": {
    "id": "c7_oUiYgqx5l"
   },
   "source": [
    "##Write your answer here\n",
    "\n",
    "Solution:"
   ]
  },
  {
   "cell_type": "markdown",
   "metadata": {
    "id": "eYVlkaT8tIti"
   },
   "source": [
    "#### Calculate the mean, median, mode, variance and standard deviation of Price for all properties, no matter if sold or not."
   ]
  },
  {
   "cell_type": "code",
   "execution_count": 2,
   "metadata": {
    "id": "gIo50PAxsbtj",
    "tags": []
   },
   "outputs": [],
   "source": [
    "#Load the dataset into a DataFrame\n",
    "import pandas as pd\n",
    "import numpy as np"
   ]
  },
  {
   "cell_type": "code",
   "execution_count": 9,
   "metadata": {
    "id": "gIo50PAxsbtj",
    "tags": []
   },
   "outputs": [
    {
     "name": "stdout",
     "output_type": "stream",
     "text": [
      "Index(['ID', 'Building', 'Year of sale', 'Month of sale', 'Type of property',\n",
      "       'Property #', 'Area (ft.)', 'Price', 'Status', 'Unnamed: 9',\n",
      "       'Customer ID', 'Entity', 'Name', 'Surname', 'Age at time of purchase',\n",
      "       'Interval', 'Y', 'M', 'D', 'Gender', 'Country', 'State', 'Purpose',\n",
      "       'Deal satisfaction', 'Mortgage', 'Source'],\n",
      "      dtype='object')\n"
     ]
    },
    {
     "data": {
      "text/plain": [
       "RangeIndex(start=0, stop=267, step=1)"
      ]
     },
     "execution_count": 9,
     "metadata": {},
     "output_type": "execute_result"
    }
   ],
   "source": [
    "#Load the dataset into a DataFrame\n",
    "cust_df=pd.read_csv('customer.csv',sep=',')\n",
    "print(cust_df.columns)\n",
    "cust_df.index"
   ]
  },
  {
   "cell_type": "markdown",
   "metadata": {
    "id": "UIFOh32oxP8u"
   },
   "source": [
    "#Solution (use pandas)\n",
    "You can access individual columns as df['column name']\n"
   ]
  },
  {
   "cell_type": "code",
   "execution_count": 7,
   "metadata": {
    "id": "CeMS63dmyEZb",
    "tags": []
   },
   "outputs": [
    {
     "data": {
      "text/plain": [
       "281171.9015011236"
      ]
     },
     "execution_count": 7,
     "metadata": {},
     "output_type": "execute_result"
    }
   ],
   "source": [
    "#mean = ??\n",
    "calc_col=cust_df['Price']  #calc_col is now a series\n",
    "calc_col.mean()"
   ]
  },
  {
   "cell_type": "code",
   "execution_count": 18,
   "metadata": {
    "tags": []
   },
   "outputs": [
    {
     "ename": "TypeError",
     "evalue": "'str' object is not callable",
     "output_type": "error",
     "traceback": [
      "\u001b[1;31m---------------------------------------------------------------------------\u001b[0m",
      "\u001b[1;31mTypeError\u001b[0m                                 Traceback (most recent call last)",
      "Cell \u001b[1;32mIn[18], line 1\u001b[0m\n\u001b[1;32m----> 1\u001b[0m cust_df\u001b[38;5;241m.\u001b[39mset_index(\u001b[38;5;124m'\u001b[39m\u001b[38;5;124mID\u001b[39m\u001b[38;5;124m'\u001b[39m)\n\u001b[0;32m      3\u001b[0m \u001b[38;5;28mprint\u001b[39m(cust_df)\n",
      "\u001b[1;31mTypeError\u001b[0m: 'str' object is not callable"
     ]
    }
   ],
   "source": [
    "cust_df.set_index('ID')\n",
    "\n",
    "print(cust_df)"
   ]
  },
  {
   "cell_type": "code",
   "execution_count": 8,
   "metadata": {
    "id": "YhNlVgSZ6_TX",
    "tags": []
   },
   "outputs": [
    {
     "data": {
      "text/plain": [
       "249075.6568"
      ]
     },
     "execution_count": 8,
     "metadata": {},
     "output_type": "execute_result"
    }
   ],
   "source": [
    "#median = ??\n",
    "calc_col.median()"
   ]
  },
  {
   "cell_type": "code",
   "execution_count": 9,
   "metadata": {
    "id": "n6piC9N6zw-E",
    "tags": []
   },
   "outputs": [
    {
     "data": {
      "text/plain": [
       "0    460001.256\n",
       "Name: Price, dtype: float64"
      ]
     },
     "execution_count": 9,
     "metadata": {},
     "output_type": "execute_result"
    }
   ],
   "source": [
    "#mode = ??\n",
    "calc_col.mode()"
   ]
  },
  {
   "cell_type": "code",
   "execution_count": 10,
   "metadata": {
    "id": "bYljZZLR1Io4",
    "tags": []
   },
   "outputs": [
    {
     "data": {
      "text/plain": [
       "460001.256"
      ]
     },
     "execution_count": 10,
     "metadata": {},
     "output_type": "execute_result"
    }
   ],
   "source": [
    "#mode = ?? if we have more than one mode, find the first one\n",
    "mod=calc_col.mode()\n",
    "mod[0]  #the brackets THE BRACKETS and the inedex is what we put inside"
   ]
  },
  {
   "cell_type": "markdown",
   "metadata": {
    "id": "8yhiSRsc1yD_"
   },
   "source": [
    "#Find variance, and std"
   ]
  },
  {
   "cell_type": "code",
   "execution_count": 11,
   "metadata": {
    "id": "N0OjSjTa1xWK",
    "tags": []
   },
   "outputs": [
    {
     "data": {
      "text/plain": [
       "7942217700.920891"
      ]
     },
     "execution_count": 11,
     "metadata": {},
     "output_type": "execute_result"
    }
   ],
   "source": [
    "#variarnce = ??\n",
    "calc_col.var()"
   ]
  },
  {
   "cell_type": "code",
   "execution_count": 18,
   "metadata": {
    "id": "wYyX8sA72pRY",
    "tags": []
   },
   "outputs": [
    {
     "data": {
      "text/plain": [
       "89119.1208491247"
      ]
     },
     "execution_count": 18,
     "metadata": {},
     "output_type": "execute_result"
    }
   ],
   "source": [
    "# standard deviation = ??\n",
    "calc_col.std()\n",
    "\n",
    "#Another way to do the same in one line,from documentation it wotn work cuz it takes the indices instead of the actual values numpy would work\n",
    "#calc_col.aggregate(['mean','median','mode','var','std']) "
   ]
  },
  {
   "cell_type": "code",
   "execution_count": 24,
   "metadata": {
    "id": "LrcphnTR289F"
   },
   "outputs": [
    {
     "name": "stdout",
     "output_type": "stream",
     "text": [
      "This is true\n",
      "7942217700\n"
     ]
    }
   ],
   "source": [
    "#What is the relationship between the variance and the standard deviation. Would you be able to confirm this relation.\n",
    "#var=square of std\n",
    "import math\n",
    "if math.floor(pow(calc_col.std(),2))==math.floor(calc_col.var()): #we round down both the operations to get accurate comparison,ask if doing this is valid tho\n",
    "    print('This is true')\n",
    "else:\n",
    "    print('no')\n"
   ]
  },
  {
   "cell_type": "markdown",
   "metadata": {
    "id": "NKld4oRe3Ldw"
   },
   "source": [
    "## Use **numpy** to find the above values"
   ]
  },
  {
   "cell_type": "code",
   "execution_count": 14,
   "metadata": {
    "colab": {
     "base_uri": "https://localhost:8080/"
    },
    "id": "Wdim1Qoq3x8Z",
    "outputId": "c13bbf47-3a40-49f2-9e5f-35dabdef3253"
   },
   "outputs": [],
   "source": [
    "#output shoud be similar to what is displayed next"
   ]
  },
  {
   "cell_type": "markdown",
   "metadata": {
    "id": "qzmllJ7PuNRS"
   },
   "source": [
    "## What can you conclude from the mean and the median values?"
   ]
  },
  {
   "cell_type": "markdown",
   "metadata": {
    "id": "G8Wo6jA076sh"
   },
   "source": [
    "Solution:\n"
   ]
  },
  {
   "cell_type": "code",
   "execution_count": 15,
   "metadata": {
    "id": "GaDoOI6-5jQO",
    "tags": []
   },
   "outputs": [
    {
     "name": "stdout",
     "output_type": "stream",
     "text": [
      "<class 'numpy.ndarray'>\n"
     ]
    }
   ],
   "source": [
    "#two ways; 1. i can convert the series to numpy OR make a new numpy object from df\n",
    "calc_col.to_numpy()\n",
    "print(type(calc_col.to_numpy()))\n",
    "\n"
   ]
  },
  {
   "cell_type": "code",
   "execution_count": 16,
   "metadata": {},
   "outputs": [],
   "source": [
    "#Another way to do the same\n",
    "price_nump=np.array(cust_df['Price'])"
   ]
  },
  {
   "cell_type": "code",
   "execution_count": 17,
   "metadata": {
    "tags": []
   },
   "outputs": [
    {
     "name": "stdout",
     "output_type": "stream",
     "text": [
      "Mean: 281171.9015011236\n",
      "Median: 249075.6568\n",
      "Mode: ModeResult(mode=array([460001.256]), count=array([2]))\n",
      "Mode: 460001.256\n",
      "Variance: 7912471567.209579\n",
      "Standard Deviation: 88952.07455259027\n"
     ]
    },
    {
     "name": "stderr",
     "output_type": "stream",
     "text": [
      "C:\\Users\\hafsa\\AppData\\Local\\Temp\\ipykernel_22644\\1441476448.py:5: FutureWarning: Unlike other reduction functions (e.g. `skew`, `kurtosis`), the default behavior of `mode` typically preserves the axis it acts along. In SciPy 1.11.0, this behavior will change: the default value of `keepdims` will become False, the `axis` over which the statistic is taken will be eliminated, and the value None will no longer be accepted. Set `keepdims` to True or False to avoid this warning.\n",
      "  print(\"Mode:\",st.mode(price_nump))    #ugly and uses from scipy import stats\n"
     ]
    }
   ],
   "source": [
    "from scipy import stats as st \n",
    "import statistics as stat\n",
    "print(\"Mean:\",np.mean(price_nump))\n",
    "print(\"Median:\",np.median(price_nump))\n",
    "print(\"Mode:\",st.mode(price_nump))    #ugly and uses from scipy import stats\n",
    "print(\"Mode:\",stat.mode(price_nump))    #i like this more because it shows the output nicely using import statistics\n",
    "print(\"Variance:\",np.var(price_nump))\n",
    "print(\"Standard Deviation:\",np.std(price_nump))\n"
   ]
  },
  {
   "cell_type": "code",
   "execution_count": null,
   "metadata": {},
   "outputs": [],
   "source": []
  }
 ],
 "metadata": {
  "colab": {
   "name": "Week04_Lab01_Student.ipynb",
   "provenance": []
  },
  "kernelspec": {
   "display_name": "Python 3 (ipykernel)",
   "language": "python",
   "name": "python3"
  },
  "language_info": {
   "codemirror_mode": {
    "name": "ipython",
    "version": 3
   },
   "file_extension": ".py",
   "mimetype": "text/x-python",
   "name": "python",
   "nbconvert_exporter": "python",
   "pygments_lexer": "ipython3",
   "version": "3.11.4"
  }
 },
 "nbformat": 4,
 "nbformat_minor": 4
}
