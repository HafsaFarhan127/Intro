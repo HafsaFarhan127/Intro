{
 "cells": [
  {
   "cell_type": "markdown",
   "metadata": {
    "id": "_xv1xmMqiBsU"
   },
   "source": [
    "## Introduction to Pandas"
   ]
  },
  {
   "cell_type": "markdown",
   "metadata": {
    "id": "OiktfOmMq5ka"
   },
   "source": [
    "#### **EXERCISE 1:** Introduction to Series"
   ]
  },
  {
   "cell_type": "markdown",
   "metadata": {
    "id": "u_1OlHZ0iVjr"
   },
   "source": [
    "To start working with pandas package, we will be importing it. Import Pandas in the cell below."
   ]
  },
  {
   "cell_type": "code",
   "execution_count": 1,
   "metadata": {
    "id": "sAdtUoGnerBi"
   },
   "outputs": [],
   "source": [
    "#import the pandas library here\n",
    "import pandas as pd"
   ]
  },
  {
   "cell_type": "markdown",
   "metadata": {
    "id": "IpC5uHgLijh0"
   },
   "source": [
    "**Series** and **DataFrame** are two major data structures that we will explain in this session."
   ]
  },
  {
   "cell_type": "markdown",
   "metadata": {
    "id": "oO8rv-T7ixoQ"
   },
   "source": [
    "### Series"
   ]
  },
  {
   "cell_type": "markdown",
   "metadata": {
    "id": "xYOGzTori1WG"
   },
   "source": [
    "Pandas **Series** is *a one-dimensional array that can hold indexed data of any type (integers, strings, floating point numbers, Python objects, etc.)*. Series can be created using: \n",
    "\n",
    "* Python dictionary\n",
    "* NumPy ndarray (more on this later)\n",
    "* Scalar value\n",
    "* List\n",
    "\n",
    "By using the following list, create a pandas Series:"
   ]
  },
  {
   "cell_type": "markdown",
   "metadata": {
    "id": "BcR4u33cjLW0"
   },
   "source": [
    "list_ser = [45, 123, 67, 1, 14]"
   ]
  },
  {
   "cell_type": "code",
   "execution_count": 2,
   "metadata": {
    "colab": {
     "base_uri": "https://localhost:8080/"
    },
    "id": "cWSxuXC2iqGR",
    "outputId": "d8a86b07-992b-4105-ff88-1d541d3ec760"
   },
   "outputs": [
    {
     "data": {
      "text/plain": [
       "0     45\n",
       "1    123\n",
       "2     67\n",
       "3      1\n",
       "4     14\n",
       "dtype: int64"
      ]
     },
     "execution_count": 2,
     "metadata": {},
     "output_type": "execute_result"
    }
   ],
   "source": [
    "#Create a pandas series using the given list\n",
    "list_ser = [45, 123, 67, 1, 14]\n",
    "serA = pd.Series(list_ser)\n",
    "serA"
   ]
  },
  {
   "cell_type": "code",
   "execution_count": 3,
   "metadata": {
    "colab": {
     "base_uri": "https://localhost:8080/"
    },
    "id": "SRZ5n_U5jbEx",
    "outputId": "1dad9463-a62e-4db0-cecd-101c2546a2e6"
   },
   "outputs": [
    {
     "data": {
      "text/plain": [
       "pandas.core.series.Series"
      ]
     },
     "execution_count": 3,
     "metadata": {},
     "output_type": "execute_result"
    }
   ],
   "source": [
    "#Check the type of created series\n",
    "type(serA)"
   ]
  },
  {
   "cell_type": "markdown",
   "metadata": {
    "id": "dtjhi4xVjsMF"
   },
   "source": [
    "Two columns will be displayed when you print the created series. Investigate column one. Check its values. After that create another pandas series with the same above given list but with ['Num1','Num2','Num3','Num4','Num5'] as indices, float as a data type, and \"Numbers\" as a name."
   ]
  },
  {
   "cell_type": "code",
   "execution_count": 4,
   "metadata": {},
   "outputs": [
    {
     "data": {
      "text/plain": [
       "Num1     45.0\n",
       "Num2    123.0\n",
       "Num3     67.0\n",
       "Num4      1.0\n",
       "Num5     14.0\n",
       "Name: Numbers, dtype: float64"
      ]
     },
     "execution_count": 4,
     "metadata": {},
     "output_type": "execute_result"
    }
   ],
   "source": [
    "serB = pd.Series(list_ser, \n",
    "                 index=['Num1','Num2','Num3','Num4','Num5'],  # indices can be strings\n",
    "                 dtype='float',     # even though the list contains integers, we want the Series to be floating point\n",
    "                 name='Numbers')\n",
    "serB"
   ]
  },
  {
   "cell_type": "markdown",
   "metadata": {
    "id": "u-Y9BYsLm0xS"
   },
   "source": [
    "Pandas created a `Series` using the list `list_ser`, the `dtype` of the `Series` is `int64`. The type of data was inferred since we didn't provide a parameter and didn't specify explicitly what type of the data we are planning to use. `pandas` determined that all numbers in the original list were integers, making the resulting `Series` a 64-bit integer.\n",
    "\n",
    "The first column of numbers from 0 to 4 is the **index**. When we created a `Series`, we didn't specify if we want an index to be something specific, hence `pandas` used default values. \n",
    "\n",
    "**NOTE:** The default index in pandas **always starts with 0 (zero)**."
   ]
  },
  {
   "cell_type": "markdown",
   "metadata": {
    "id": "E_ZyEc4tlfPx"
   },
   "source": [
    "Print the index of the new series."
   ]
  },
  {
   "cell_type": "code",
   "execution_count": null,
   "metadata": {},
   "outputs": [],
   "source": []
  },
  {
   "cell_type": "code",
   "execution_count": 5,
   "metadata": {
    "colab": {
     "base_uri": "https://localhost:8080/"
    },
    "id": "davej6x8ljiw",
    "outputId": "39b883c5-9747-4cb3-a5f2-56108711145d"
   },
   "outputs": [
    {
     "data": {
      "text/plain": [
       "RangeIndex(start=0, stop=5, step=1)"
      ]
     },
     "execution_count": 5,
     "metadata": {},
     "output_type": "execute_result"
    }
   ],
   "source": [
    "serA.index"
   ]
  },
  {
   "cell_type": "code",
   "execution_count": 6,
   "metadata": {},
   "outputs": [
    {
     "data": {
      "text/plain": [
       "Index(['Num1', 'Num2', 'Num3', 'Num4', 'Num5'], dtype='object')"
      ]
     },
     "execution_count": 6,
     "metadata": {},
     "output_type": "execute_result"
    }
   ],
   "source": [
    "serB.index"
   ]
  },
  {
   "cell_type": "markdown",
   "metadata": {
    "id": "mJg11x4dlkBD"
   },
   "source": [
    "Print the values of the new series"
   ]
  },
  {
   "cell_type": "code",
   "execution_count": 7,
   "metadata": {
    "colab": {
     "base_uri": "https://localhost:8080/"
    },
    "id": "zEv2LxoHlmIo",
    "outputId": "1e686dba-f336-4b5f-e086-4ceb4c53ba78"
   },
   "outputs": [
    {
     "data": {
      "text/plain": [
       "array([ 45, 123,  67,   1,  14], dtype=int64)"
      ]
     },
     "execution_count": 7,
     "metadata": {},
     "output_type": "execute_result"
    }
   ],
   "source": [
    "serA.values"
   ]
  },
  {
   "cell_type": "markdown",
   "metadata": {
    "id": "usHrUqTImkH6"
   },
   "source": [
    "In the next exercise we will create a `Series` from a dictionary. You will use population of the top 5 Canadian provinces (retrieved from [Statistics Canada](https://www150.statcan.gc.ca/n1/pub/12-581-x/2018000/pop-eng.htm) web site, the 2017 column of data has been used):"
   ]
  },
  {
   "cell_type": "code",
   "execution_count": 8,
   "metadata": {
    "id": "A4mKcS9inABP"
   },
   "outputs": [],
   "source": [
    "population_dict = { 'QC': 8394034,'ON': 14193384, 'BC': 4817160, 'AB': 4286134, 'MB': 1338109}"
   ]
  },
  {
   "cell_type": "code",
   "execution_count": 9,
   "metadata": {
    "id": "Of-FtwwfnI0n"
   },
   "outputs": [],
   "source": [
    "#Create a pandas series using the given above dictionary\n",
    "provinces_population = pd.Series(population_dict, name='Top 5 provinces by population')"
   ]
  },
  {
   "cell_type": "code",
   "execution_count": 10,
   "metadata": {
    "colab": {
     "base_uri": "https://localhost:8080/"
    },
    "id": "HTOkqhrznQKx",
    "outputId": "3ec03863-8346-4dff-a812-f2d0bb4368db"
   },
   "outputs": [
    {
     "data": {
      "text/plain": [
       "QC     8394034\n",
       "ON    14193384\n",
       "BC     4817160\n",
       "AB     4286134\n",
       "MB     1338109\n",
       "Name: Top 5 provinces by population, dtype: int64"
      ]
     },
     "execution_count": 10,
     "metadata": {},
     "output_type": "execute_result"
    }
   ],
   "source": [
    "#print out the newly created series.\n",
    "provinces_population"
   ]
  },
  {
   "cell_type": "markdown",
   "metadata": {
    "id": "s-a0KsXAnuai"
   },
   "source": [
    "Determine the indices and the values.\n",
    "Are the indices sorted by default. What if you want the indices to be sorted by population?"
   ]
  },
  {
   "cell_type": "markdown",
   "metadata": {
    "id": "-22S2uTun2hu"
   },
   "source": [
    "When dictionary is used to create a `Series`, dictionary keys become indices. You can also notice that `pandas` sorted the elements of the series alphabetically by the key value. We can override this default behaviour by passing the index values in the order we want them to appear."
   ]
  },
  {
   "cell_type": "code",
   "execution_count": 11,
   "metadata": {
    "colab": {
     "base_uri": "https://localhost:8080/"
    },
    "id": "pqxck39Cnt0g",
    "outputId": "a9c3f3e9-41ca-45cf-ccd0-7056a1171b5e"
   },
   "outputs": [
    {
     "data": {
      "text/plain": [
       "ON    14193384\n",
       "QC     8394034\n",
       "BC     4817160\n",
       "AB     4286134\n",
       "MB     1338109\n",
       "Name: Top 5 provinces by population, dtype: int64"
      ]
     },
     "execution_count": 11,
     "metadata": {},
     "output_type": "execute_result"
    }
   ],
   "source": [
    "#Recreate the series, but this time sort the indices by poplution of the provinces.\n",
    "provinces = ['ON', 'QC', 'BC', 'AB', 'MB']\n",
    "\n",
    "provinces_population = pd.Series(population_dict, index = provinces, name='Top 5 provinces by population')\n",
    "provinces_population"
   ]
  },
  {
   "cell_type": "code",
   "execution_count": null,
   "metadata": {
    "id": "vqF2Bk2borCP"
   },
   "outputs": [],
   "source": []
  },
  {
   "cell_type": "markdown",
   "metadata": {
    "id": "0MZiDwtGotPb"
   },
   "source": [
    "We can use the index to select values from a Series. Answer the following questions."
   ]
  },
  {
   "cell_type": "code",
   "execution_count": 12,
   "metadata": {
    "colab": {
     "base_uri": "https://localhost:8080/"
    },
    "id": "LRoacLPko3AH",
    "outputId": "844574c8-ef7e-4dc0-ac11-14a19133deeb"
   },
   "outputs": [
    {
     "data": {
      "text/plain": [
       "14193384"
      ]
     },
     "execution_count": 12,
     "metadata": {},
     "output_type": "execute_result"
    }
   ],
   "source": [
    "# Population of Ontario\n",
    "provinces_population['ON']"
   ]
  },
  {
   "cell_type": "code",
   "execution_count": 13,
   "metadata": {
    "colab": {
     "base_uri": "https://localhost:8080/"
    },
    "id": "C-iy1BQdo8WX",
    "outputId": "a68e4487-3780-42c0-cccc-c838daf19324"
   },
   "outputs": [
    {
     "data": {
      "text/plain": [
       "ON    14193384\n",
       "QC     8394034\n",
       "Name: Top 5 provinces by population, dtype: int64"
      ]
     },
     "execution_count": 13,
     "metadata": {},
     "output_type": "execute_result"
    }
   ],
   "source": [
    "# Selecting only provinces with population greater than 5 million.\n",
    "# This type of selection is called boolean indexing:\n",
    "provinces_population[provinces_population > 5000000]"
   ]
  },
  {
   "cell_type": "code",
   "execution_count": 14,
   "metadata": {
    "colab": {
     "base_uri": "https://localhost:8080/"
    },
    "id": "gKsqPXUeo_7f",
    "outputId": "4ffbcc90-276c-48e2-98c1-fd7eaea8f302"
   },
   "outputs": [
    {
     "data": {
      "text/plain": [
       "BC    4817160\n",
       "AB    4286134\n",
       "Name: Top 5 provinces by population, dtype: int64"
      ]
     },
     "execution_count": 14,
     "metadata": {},
     "output_type": "execute_result"
    }
   ],
   "source": [
    "# Entries with index positions of 2 and 3, should return British Columbia and Alberta: (Use the integer position as an index key)\n",
    "provinces_population[2:4]"
   ]
  },
  {
   "cell_type": "code",
   "execution_count": 15,
   "metadata": {
    "colab": {
     "base_uri": "https://localhost:8080/"
    },
    "id": "G6KEpdLypESv",
    "outputId": "6b511968-9097-4ec0-cdd1-7c76a7128b06"
   },
   "outputs": [
    {
     "data": {
      "text/plain": [
       "BC    4817160\n",
       "AB    4286134\n",
       "MB    1338109\n",
       "Name: Top 5 provinces by population, dtype: int64"
      ]
     },
     "execution_count": 15,
     "metadata": {},
     "output_type": "execute_result"
    }
   ],
   "source": [
    "# The result of this command should be 3 provinces,\n",
    "# British Columbia, Alberta and Manitoba (use the strings as indices)\n",
    "provinces_population['BC':'MB']"
   ]
  },
  {
   "cell_type": "code",
   "execution_count": null,
   "metadata": {
    "id": "2tm5JVtep06_"
   },
   "outputs": [],
   "source": []
  },
  {
   "cell_type": "markdown",
   "metadata": {
    "id": "GYauzBnOqDov"
   },
   "source": [
    "Check if Quebec is within the top 5 provinces (by population):"
   ]
  },
  {
   "cell_type": "code",
   "execution_count": 16,
   "metadata": {
    "colab": {
     "base_uri": "https://localhost:8080/"
    },
    "id": "T8f6feEoqFdn",
    "outputId": "b685be3f-3e4b-4e1a-b4ed-6d0340fe0583"
   },
   "outputs": [
    {
     "data": {
      "text/plain": [
       "True"
      ]
     },
     "execution_count": 16,
     "metadata": {},
     "output_type": "execute_result"
    }
   ],
   "source": [
    "'QC' in provinces_population"
   ]
  },
  {
   "cell_type": "markdown",
   "metadata": {
    "id": "3mw3D2_JqINA"
   },
   "source": [
    "And what about Nova Scotia:"
   ]
  },
  {
   "cell_type": "code",
   "execution_count": 17,
   "metadata": {
    "colab": {
     "base_uri": "https://localhost:8080/"
    },
    "id": "WXUuwxQDqKr_",
    "outputId": "5f98bb77-5dbd-42ff-fc22-ba80b137f9c9"
   },
   "outputs": [
    {
     "data": {
      "text/plain": [
       "False"
      ]
     },
     "execution_count": 17,
     "metadata": {},
     "output_type": "execute_result"
    }
   ],
   "source": [
    "'NS' in provinces_population"
   ]
  },
  {
   "cell_type": "markdown",
   "metadata": {
    "id": "L_gZN-TaqTPj"
   },
   "source": [
    "Use a built-in function to find the sum of all elements in the above created series"
   ]
  },
  {
   "cell_type": "code",
   "execution_count": 18,
   "metadata": {
    "colab": {
     "base_uri": "https://localhost:8080/"
    },
    "id": "CHUX0MxGql-X",
    "outputId": "cbc41fd6-7a2f-4116-a3be-8ba616ffb8ef"
   },
   "outputs": [
    {
     "data": {
      "text/plain": [
       "33028821"
      ]
     },
     "execution_count": 18,
     "metadata": {},
     "output_type": "execute_result"
    }
   ],
   "source": [
    "provinces_population.sum()"
   ]
  },
  {
   "cell_type": "markdown",
   "metadata": {
    "id": "khBl8VgXqmiz"
   },
   "source": [
    "What about the mean?"
   ]
  },
  {
   "cell_type": "code",
   "execution_count": 19,
   "metadata": {
    "colab": {
     "base_uri": "https://localhost:8080/"
    },
    "id": "wjPzqwvZqoen",
    "outputId": "d0f86734-6b8c-4f45-eb25-e33d526b4852"
   },
   "outputs": [
    {
     "data": {
      "text/plain": [
       "6605764.2"
      ]
     },
     "execution_count": 19,
     "metadata": {},
     "output_type": "execute_result"
    }
   ],
   "source": [
    "provinces_population.mean()"
   ]
  },
  {
   "cell_type": "markdown",
   "metadata": {
    "id": "r9oe0DrSqub4"
   },
   "source": [
    "#### **EXERCISE 2:** Series manipulation "
   ]
  },
  {
   "cell_type": "markdown",
   "metadata": {
    "id": "suU301DrrJeX"
   },
   "source": [
    "**Task 1**: Create a new `Series` object which will contain population of Nova Scotia and New Brunswick. Use the data from the [Statistics Canada website](https://www150.statcan.gc.ca/n1/pub/12-581-x/2018000/pop-eng.htm)."
   ]
  },
  {
   "cell_type": "code",
   "execution_count": 20,
   "metadata": {
    "colab": {
     "base_uri": "https://localhost:8080/"
    },
    "id": "MOS55woirJJC",
    "outputId": "32084d28-d4ff-4ec3-e39f-e2b78a6e0562"
   },
   "outputs": [
    {
     "data": {
      "text/plain": [
       "NS    953869\n",
       "NB    759655\n",
       "dtype: int64"
      ]
     },
     "execution_count": 20,
     "metadata": {},
     "output_type": "execute_result"
    }
   ],
   "source": [
    "# Type your code here\n",
    "NS_NB_dict = {'NS': 953869, 'NB': 759655}\n",
    "\n",
    "NS_NB_population = pd.Series(NS_NB_dict)\n",
    "NS_NB_population"
   ]
  },
  {
   "cell_type": "code",
   "execution_count": null,
   "metadata": {
    "id": "KQS44M5orN4G"
   },
   "outputs": [],
   "source": []
  },
  {
   "cell_type": "markdown",
   "metadata": {
    "id": "kCPiuvPyrOmM"
   },
   "source": [
    "**Task 2:** Merge your new `Series` and the `provinces_population` into a single `Series` object. Use the [`append()` function](https://pandas.pydata.org/pandas-docs/stable/generated/pandas.Series.append.html)"
   ]
  },
  {
   "cell_type": "code",
   "execution_count": 34,
   "metadata": {
    "colab": {
     "base_uri": "https://localhost:8080/"
    },
    "id": "d754brXsrQ0V",
    "outputId": "f6e03230-a045-461b-d74d-bd5e65187e13",
    "tags": []
   },
   "outputs": [
    {
     "name": "stderr",
     "output_type": "stream",
     "text": [
      "C:\\Users\\hafsa\\AppData\\Local\\Temp\\ipykernel_4312\\734530010.py:2: FutureWarning: The series.append method is deprecated and will be removed from pandas in a future version. Use pandas.concat instead.\n",
      "  provinces_population = provinces_population.append(NS_NB_population)\n"
     ]
    },
    {
     "data": {
      "text/plain": [
       "ON    14193384\n",
       "QC     8394034\n",
       "BC     4817160\n",
       "AB     4286134\n",
       "MB     1338109\n",
       "NS      953869\n",
       "NB      759655\n",
       "NS      953869\n",
       "NB      759655\n",
       "NS      953869\n",
       "NB      759655\n",
       "dtype: int64"
      ]
     },
     "execution_count": 34,
     "metadata": {},
     "output_type": "execute_result"
    }
   ],
   "source": [
    "# Type your code here\n",
    "provinces_population = provinces_population.append(NS_NB_population)\n",
    "provinces_population"
   ]
  },
  {
   "cell_type": "code",
   "execution_count": null,
   "metadata": {
    "id": "l3xtTRGarTh_"
   },
   "outputs": [],
   "source": []
  },
  {
   "cell_type": "code",
   "execution_count": null,
   "metadata": {
    "id": "i2KvXVEqrTPh"
   },
   "outputs": [],
   "source": []
  },
  {
   "cell_type": "markdown",
   "metadata": {
    "id": "zcVBffeor7oN"
   },
   "source": [
    "### DataFrames"
   ]
  },
  {
   "cell_type": "markdown",
   "metadata": {
    "id": "vO6Dsb-MsAs0"
   },
   "source": [
    "A pandas **DataFrame** is a *2-dimensional tabular data structure with labeled columns and rows*. Columns in `DataFrame` can be of different data types. \n",
    "\n",
    "You can think of a `DataFrame` as a group of `pandas` `Series` where each `Series` represents a column of data. You can also think of a `DataFrame` as a collection of columns with the same index rather than a collection of rows. This view will also help in understanding some of `pandas` `DataFrame` functionality."
   ]
  },
  {
   "cell_type": "markdown",
   "metadata": {
    "id": "pRYjBJwJsEwc"
   },
   "source": [
    "#### Creating a DataFrame"
   ]
  },
  {
   "cell_type": "markdown",
   "metadata": {
    "id": "1kFshErRsJ84"
   },
   "source": [
    "A `DataFrame` can be created from:\n",
    "\n",
    "- Dictionary of 1-D structures (`ndarray`s, `list`s, dictionaries, tuples or `Series`)\n",
    "- List of 1-D structures\n",
    "- 2-D NumPy `ndarray`\n",
    "- A `Series`\n",
    "- Another `DataFrame`\n",
    "\n",
    "Create a `DataFrame` from the my_data and my_columns:"
   ]
  },
  {
   "cell_type": "code",
   "execution_count": 22,
   "metadata": {
    "id": "63iF4y0ar-hm"
   },
   "outputs": [],
   "source": [
    "my_data = [[8, 128, 27.5], [10, 138.9, 34.5], [16, 157.3, 91.1], [6, 116.6, 21.4], [14, 159.2, 54.4]]\n",
    "\n",
    "my_columns = ['Age', 'Height', 'Weight']"
   ]
  },
  {
   "cell_type": "code",
   "execution_count": 23,
   "metadata": {},
   "outputs": [],
   "source": [
    "df = pd.DataFrame(data=my_data,columns=my_columns)"
   ]
  },
  {
   "cell_type": "code",
   "execution_count": null,
   "metadata": {
    "id": "EFvMheIZtGSC"
   },
   "outputs": [],
   "source": []
  },
  {
   "cell_type": "code",
   "execution_count": 24,
   "metadata": {
    "colab": {
     "base_uri": "https://localhost:8080/",
     "height": 206
    },
    "id": "DyW9svEOoz7K",
    "outputId": "03a813df-1950-4165-8b86-bba2ded75e78"
   },
   "outputs": [
    {
     "data": {
      "text/html": [
       "<div>\n",
       "<style scoped>\n",
       "    .dataframe tbody tr th:only-of-type {\n",
       "        vertical-align: middle;\n",
       "    }\n",
       "\n",
       "    .dataframe tbody tr th {\n",
       "        vertical-align: top;\n",
       "    }\n",
       "\n",
       "    .dataframe thead th {\n",
       "        text-align: right;\n",
       "    }\n",
       "</style>\n",
       "<table border=\"1\" class=\"dataframe\">\n",
       "  <thead>\n",
       "    <tr style=\"text-align: right;\">\n",
       "      <th></th>\n",
       "      <th>Age</th>\n",
       "      <th>Height</th>\n",
       "      <th>Weight</th>\n",
       "    </tr>\n",
       "  </thead>\n",
       "  <tbody>\n",
       "    <tr>\n",
       "      <th>0</th>\n",
       "      <td>8</td>\n",
       "      <td>128.0</td>\n",
       "      <td>27.5</td>\n",
       "    </tr>\n",
       "    <tr>\n",
       "      <th>1</th>\n",
       "      <td>10</td>\n",
       "      <td>138.9</td>\n",
       "      <td>34.5</td>\n",
       "    </tr>\n",
       "    <tr>\n",
       "      <th>2</th>\n",
       "      <td>16</td>\n",
       "      <td>157.3</td>\n",
       "      <td>91.1</td>\n",
       "    </tr>\n",
       "    <tr>\n",
       "      <th>3</th>\n",
       "      <td>6</td>\n",
       "      <td>116.6</td>\n",
       "      <td>21.4</td>\n",
       "    </tr>\n",
       "    <tr>\n",
       "      <th>4</th>\n",
       "      <td>14</td>\n",
       "      <td>159.2</td>\n",
       "      <td>54.4</td>\n",
       "    </tr>\n",
       "  </tbody>\n",
       "</table>\n",
       "</div>"
      ],
      "text/plain": [
       "   Age  Height  Weight\n",
       "0    8   128.0    27.5\n",
       "1   10   138.9    34.5\n",
       "2   16   157.3    91.1\n",
       "3    6   116.6    21.4\n",
       "4   14   159.2    54.4"
      ]
     },
     "execution_count": 24,
     "metadata": {},
     "output_type": "execute_result"
    }
   ],
   "source": [
    "df"
   ]
  },
  {
   "cell_type": "markdown",
   "metadata": {
    "id": "h5BFCWXKtQWw"
   },
   "source": [
    "Use info() function to output the summary information about the DataFrame"
   ]
  },
  {
   "cell_type": "code",
   "execution_count": 25,
   "metadata": {
    "colab": {
     "base_uri": "https://localhost:8080/"
    },
    "id": "04u0wjq5tKNP",
    "outputId": "ad4a3ccc-ed98-46c1-83b4-4b063bfc9c2b"
   },
   "outputs": [
    {
     "name": "stdout",
     "output_type": "stream",
     "text": [
      "<class 'pandas.core.frame.DataFrame'>\n",
      "RangeIndex: 5 entries, 0 to 4\n",
      "Data columns (total 3 columns):\n",
      " #   Column  Non-Null Count  Dtype  \n",
      "---  ------  --------------  -----  \n",
      " 0   Age     5 non-null      int64  \n",
      " 1   Height  5 non-null      float64\n",
      " 2   Weight  5 non-null      float64\n",
      "dtypes: float64(2), int64(1)\n",
      "memory usage: 252.0 bytes\n"
     ]
    }
   ],
   "source": [
    "df.info()"
   ]
  },
  {
   "cell_type": "markdown",
   "metadata": {
    "id": "TzogJ3VZtZ2E"
   },
   "source": [
    "Examine the DataFrame's indices:"
   ]
  },
  {
   "cell_type": "code",
   "execution_count": 26,
   "metadata": {
    "colab": {
     "base_uri": "https://localhost:8080/"
    },
    "id": "0DGacsMCtpXO",
    "outputId": "7cf51154-4df1-4c74-ebff-dc648c31682b"
   },
   "outputs": [
    {
     "data": {
      "text/plain": [
       "RangeIndex(start=0, stop=5, step=1)"
      ]
     },
     "execution_count": 26,
     "metadata": {},
     "output_type": "execute_result"
    }
   ],
   "source": [
    "# Index labels\n",
    "df.index"
   ]
  },
  {
   "cell_type": "markdown",
   "metadata": {
    "id": "tPBkziFStuy9"
   },
   "source": [
    "Examine the DataFrame's columns:"
   ]
  },
  {
   "cell_type": "code",
   "execution_count": 27,
   "metadata": {
    "colab": {
     "base_uri": "https://localhost:8080/"
    },
    "id": "0BA-hjOjtr0e",
    "outputId": "686ab237-7c17-4f65-c1d5-62d6aa291faa"
   },
   "outputs": [
    {
     "data": {
      "text/plain": [
       "Index(['Age', 'Height', 'Weight'], dtype='object')"
      ]
     },
     "execution_count": 27,
     "metadata": {},
     "output_type": "execute_result"
    }
   ],
   "source": [
    "df.columns"
   ]
  },
  {
   "cell_type": "markdown",
   "metadata": {
    "id": "6IW7KE8bt6jA"
   },
   "source": [
    " Create a DataFrame from a dictionary.\n",
    " Given the following dictionary. Create a dataframe."
   ]
  },
  {
   "cell_type": "code",
   "execution_count": 28,
   "metadata": {
    "id": "8_ZfG-gYuNRt"
   },
   "outputs": [],
   "source": [
    "area = {'province':['ON', 'QC', 'BC', 'AB', 'MB'],\n",
    "        'area_land': [917741, 1356128, 925186, 642317, 553556],\n",
    "        'area_water': [158654, 185928, 19549, 19531, 94241]}"
   ]
  },
  {
   "cell_type": "code",
   "execution_count": 29,
   "metadata": {
    "colab": {
     "base_uri": "https://localhost:8080/",
     "height": 206
    },
    "id": "0yDuMw-FuO_d",
    "outputId": "dba09610-83a8-4bca-861c-73ed211f0e51"
   },
   "outputs": [
    {
     "data": {
      "text/html": [
       "<div>\n",
       "<style scoped>\n",
       "    .dataframe tbody tr th:only-of-type {\n",
       "        vertical-align: middle;\n",
       "    }\n",
       "\n",
       "    .dataframe tbody tr th {\n",
       "        vertical-align: top;\n",
       "    }\n",
       "\n",
       "    .dataframe thead th {\n",
       "        text-align: right;\n",
       "    }\n",
       "</style>\n",
       "<table border=\"1\" class=\"dataframe\">\n",
       "  <thead>\n",
       "    <tr style=\"text-align: right;\">\n",
       "      <th></th>\n",
       "      <th>province</th>\n",
       "      <th>area_land</th>\n",
       "      <th>area_water</th>\n",
       "    </tr>\n",
       "  </thead>\n",
       "  <tbody>\n",
       "    <tr>\n",
       "      <th>0</th>\n",
       "      <td>ON</td>\n",
       "      <td>917741</td>\n",
       "      <td>158654</td>\n",
       "    </tr>\n",
       "    <tr>\n",
       "      <th>1</th>\n",
       "      <td>QC</td>\n",
       "      <td>1356128</td>\n",
       "      <td>185928</td>\n",
       "    </tr>\n",
       "    <tr>\n",
       "      <th>2</th>\n",
       "      <td>BC</td>\n",
       "      <td>925186</td>\n",
       "      <td>19549</td>\n",
       "    </tr>\n",
       "    <tr>\n",
       "      <th>3</th>\n",
       "      <td>AB</td>\n",
       "      <td>642317</td>\n",
       "      <td>19531</td>\n",
       "    </tr>\n",
       "    <tr>\n",
       "      <th>4</th>\n",
       "      <td>MB</td>\n",
       "      <td>553556</td>\n",
       "      <td>94241</td>\n",
       "    </tr>\n",
       "  </tbody>\n",
       "</table>\n",
       "</div>"
      ],
      "text/plain": [
       "  province  area_land  area_water\n",
       "0       ON     917741      158654\n",
       "1       QC    1356128      185928\n",
       "2       BC     925186       19549\n",
       "3       AB     642317       19531\n",
       "4       MB     553556       94241"
      ]
     },
     "execution_count": 29,
     "metadata": {},
     "output_type": "execute_result"
    }
   ],
   "source": [
    "provinces_area = pd.DataFrame(area)\n",
    "provinces_area"
   ]
  },
  {
   "cell_type": "markdown",
   "metadata": {
    "id": "gJFXiAqCuTih"
   },
   "source": [
    "Set province to be an index for this DataFrame."
   ]
  },
  {
   "cell_type": "code",
   "execution_count": 30,
   "metadata": {
    "colab": {
     "base_uri": "https://localhost:8080/",
     "height": 237
    },
    "id": "3heKfJXBuaw2",
    "outputId": "f0692de3-ffd6-47a7-b775-7336f7162ac3"
   },
   "outputs": [
    {
     "data": {
      "text/html": [
       "<div>\n",
       "<style scoped>\n",
       "    .dataframe tbody tr th:only-of-type {\n",
       "        vertical-align: middle;\n",
       "    }\n",
       "\n",
       "    .dataframe tbody tr th {\n",
       "        vertical-align: top;\n",
       "    }\n",
       "\n",
       "    .dataframe thead th {\n",
       "        text-align: right;\n",
       "    }\n",
       "</style>\n",
       "<table border=\"1\" class=\"dataframe\">\n",
       "  <thead>\n",
       "    <tr style=\"text-align: right;\">\n",
       "      <th></th>\n",
       "      <th>area_land</th>\n",
       "      <th>area_water</th>\n",
       "    </tr>\n",
       "    <tr>\n",
       "      <th>province</th>\n",
       "      <th></th>\n",
       "      <th></th>\n",
       "    </tr>\n",
       "  </thead>\n",
       "  <tbody>\n",
       "    <tr>\n",
       "      <th>ON</th>\n",
       "      <td>917741</td>\n",
       "      <td>158654</td>\n",
       "    </tr>\n",
       "    <tr>\n",
       "      <th>QC</th>\n",
       "      <td>1356128</td>\n",
       "      <td>185928</td>\n",
       "    </tr>\n",
       "    <tr>\n",
       "      <th>BC</th>\n",
       "      <td>925186</td>\n",
       "      <td>19549</td>\n",
       "    </tr>\n",
       "    <tr>\n",
       "      <th>AB</th>\n",
       "      <td>642317</td>\n",
       "      <td>19531</td>\n",
       "    </tr>\n",
       "    <tr>\n",
       "      <th>MB</th>\n",
       "      <td>553556</td>\n",
       "      <td>94241</td>\n",
       "    </tr>\n",
       "  </tbody>\n",
       "</table>\n",
       "</div>"
      ],
      "text/plain": [
       "          area_land  area_water\n",
       "province                       \n",
       "ON           917741      158654\n",
       "QC          1356128      185928\n",
       "BC           925186       19549\n",
       "AB           642317       19531\n",
       "MB           553556       94241"
      ]
     },
     "execution_count": 30,
     "metadata": {},
     "output_type": "execute_result"
    }
   ],
   "source": [
    "provinces_area = provinces_area.set_index('province')\n",
    "provinces_area"
   ]
  },
  {
   "cell_type": "markdown",
   "metadata": {
    "id": "_adndr-QumA4"
   },
   "source": [
    "### Loading/Saving DataFrames\n",
    "\n",
    "During your career as a data scientists, you will be analysing the data that will come from different systems, you will receive the data stored in many different formats. Some datasets will be stored in `csv` format or as plain text (`.txt` or no extension plain text), data will be in Excel files (i.e., `.xlsx `), sometimes it will be even stored as documents in `.doc` or `.pdf` formats. You will be retrieving the data from relational and noSQL datastores. \n",
    "\n",
    "Most of the time, regardless of the source of the data and its current format, one of the first steps in the data analysis would be to load the data into a `pandas` `DataFrame` and perform exploratory analysis.\n",
    "\n",
    "In this section, we will learn how to read the data stored in `.csv` format and load it into a `DataFrame`. We will also learn how to save a `DataFrame` to `.csv` format after the processing of the data is complete."
   ]
  },
  {
   "cell_type": "markdown",
   "metadata": {
    "id": "3w4yR3B9b2-7"
   },
   "source": [
    "#### Loading DataFrames\n",
    "\n",
    "For this exercise, we will continue looking into the data that describes Canadian provinces. This time, we will use the data of the last 3 years of [Federal Support to all Canadian Provinces and Territories](https://www.fin.gc.ca/fedprov/mtp-eng.asp). All numbers are in millions of dollars.\n",
    "\n",
    "Pandas has a `read_csv()` function which we will use. There are quite a few parameters that can be specified to either filter out the characters or even lines within the file which are not relevant or make sure that the data is read in a proper format. For example, by default, the `read_csv()` function expects the column separator to be a comma, but you can change that using the `sep=` parameter, or you can skip rows with `skiprows=` parameter. A complete list of all parameter can be found on the corresponding documentation page for [`read_csv()` function](https://pandas.pydata.org/pandas-docs/stable/generated/pandas.read_csv.html).\n",
    "\n",
    "The dataset that we are planning to use in this section is stored in the `pandas_ex1.csv` file, we assume that the file is in the same folder as the notebook working directory. You can open the file in any text editor, which you have installed on your system, and validate the data. The first six rows will look as follows: "
   ]
  },
  {
   "cell_type": "markdown",
   "metadata": {
    "id": "MIUFPc8cb_uB"
   },
   "source": [
    "```\n",
    "Canadian Provinces and Territories,Two-Letter Abbreviation,2016-17,2017-18,2018-19\n",
    "Newfoundland and Labrador,NL,724,734,750\n",
    "Prince Edward Island,PE,584,601,638\n",
    "Nova Scotia,NS,3060,3138,3201\n",
    "New Brunswick,NB,2741,2814,2956\n",
    "Quebec,QC,21372,22720,23749\n",
    "```"
   ]
  },
  {
   "cell_type": "markdown",
   "metadata": {
    "id": "MuDydC4lcCM3"
   },
   "source": [
    "As you can see, the data is formatted perfectly, it contains what looks like a header row and the fields are separated by comma. In this case, we can simply specify the name of the file, and have only one more parameter, separator `sep=`, to make sure that the Python interpreter reads the data correctly:"
   ]
  },
  {
   "cell_type": "code",
   "execution_count": 31,
   "metadata": {
    "colab": {
     "base_uri": "https://localhost:8080/",
     "height": 456
    },
    "id": "8u2iQqNjurfV",
    "outputId": "3e8e8653-141e-44f0-c614-798cd3b34f6c"
   },
   "outputs": [
    {
     "ename": "FileNotFoundError",
     "evalue": "[Errno 2] No such file or directory: 'pandas_ex1.csv'",
     "output_type": "error",
     "traceback": [
      "\u001b[1;31m---------------------------------------------------------------------------\u001b[0m",
      "\u001b[1;31mFileNotFoundError\u001b[0m                         Traceback (most recent call last)",
      "Cell \u001b[1;32mIn[31], line 2\u001b[0m\n\u001b[0;32m      1\u001b[0m \u001b[38;5;66;03m# Reading a csv\u001b[39;00m\n\u001b[1;32m----> 2\u001b[0m prov_support \u001b[38;5;241m=\u001b[39m pd\u001b[38;5;241m.\u001b[39mread_csv(\u001b[38;5;124m'\u001b[39m\u001b[38;5;124mpandas_ex1.csv\u001b[39m\u001b[38;5;124m'\u001b[39m, sep\u001b[38;5;241m=\u001b[39m\u001b[38;5;124m'\u001b[39m\u001b[38;5;124m,\u001b[39m\u001b[38;5;124m'\u001b[39m) \n\u001b[0;32m      3\u001b[0m prov_support\n",
      "File \u001b[1;32m~\\anaconda3\\Lib\\site-packages\\pandas\\util\\_decorators.py:211\u001b[0m, in \u001b[0;36mdeprecate_kwarg.<locals>._deprecate_kwarg.<locals>.wrapper\u001b[1;34m(*args, **kwargs)\u001b[0m\n\u001b[0;32m    209\u001b[0m     \u001b[38;5;28;01melse\u001b[39;00m:\n\u001b[0;32m    210\u001b[0m         kwargs[new_arg_name] \u001b[38;5;241m=\u001b[39m new_arg_value\n\u001b[1;32m--> 211\u001b[0m \u001b[38;5;28;01mreturn\u001b[39;00m func(\u001b[38;5;241m*\u001b[39margs, \u001b[38;5;241m*\u001b[39m\u001b[38;5;241m*\u001b[39mkwargs)\n",
      "File \u001b[1;32m~\\anaconda3\\Lib\\site-packages\\pandas\\util\\_decorators.py:331\u001b[0m, in \u001b[0;36mdeprecate_nonkeyword_arguments.<locals>.decorate.<locals>.wrapper\u001b[1;34m(*args, **kwargs)\u001b[0m\n\u001b[0;32m    325\u001b[0m \u001b[38;5;28;01mif\u001b[39;00m \u001b[38;5;28mlen\u001b[39m(args) \u001b[38;5;241m>\u001b[39m num_allow_args:\n\u001b[0;32m    326\u001b[0m     warnings\u001b[38;5;241m.\u001b[39mwarn(\n\u001b[0;32m    327\u001b[0m         msg\u001b[38;5;241m.\u001b[39mformat(arguments\u001b[38;5;241m=\u001b[39m_format_argument_list(allow_args)),\n\u001b[0;32m    328\u001b[0m         \u001b[38;5;167;01mFutureWarning\u001b[39;00m,\n\u001b[0;32m    329\u001b[0m         stacklevel\u001b[38;5;241m=\u001b[39mfind_stack_level(),\n\u001b[0;32m    330\u001b[0m     )\n\u001b[1;32m--> 331\u001b[0m \u001b[38;5;28;01mreturn\u001b[39;00m func(\u001b[38;5;241m*\u001b[39margs, \u001b[38;5;241m*\u001b[39m\u001b[38;5;241m*\u001b[39mkwargs)\n",
      "File \u001b[1;32m~\\anaconda3\\Lib\\site-packages\\pandas\\io\\parsers\\readers.py:950\u001b[0m, in \u001b[0;36mread_csv\u001b[1;34m(filepath_or_buffer, sep, delimiter, header, names, index_col, usecols, squeeze, prefix, mangle_dupe_cols, dtype, engine, converters, true_values, false_values, skipinitialspace, skiprows, skipfooter, nrows, na_values, keep_default_na, na_filter, verbose, skip_blank_lines, parse_dates, infer_datetime_format, keep_date_col, date_parser, dayfirst, cache_dates, iterator, chunksize, compression, thousands, decimal, lineterminator, quotechar, quoting, doublequote, escapechar, comment, encoding, encoding_errors, dialect, error_bad_lines, warn_bad_lines, on_bad_lines, delim_whitespace, low_memory, memory_map, float_precision, storage_options)\u001b[0m\n\u001b[0;32m    935\u001b[0m kwds_defaults \u001b[38;5;241m=\u001b[39m _refine_defaults_read(\n\u001b[0;32m    936\u001b[0m     dialect,\n\u001b[0;32m    937\u001b[0m     delimiter,\n\u001b[1;32m   (...)\u001b[0m\n\u001b[0;32m    946\u001b[0m     defaults\u001b[38;5;241m=\u001b[39m{\u001b[38;5;124m\"\u001b[39m\u001b[38;5;124mdelimiter\u001b[39m\u001b[38;5;124m\"\u001b[39m: \u001b[38;5;124m\"\u001b[39m\u001b[38;5;124m,\u001b[39m\u001b[38;5;124m\"\u001b[39m},\n\u001b[0;32m    947\u001b[0m )\n\u001b[0;32m    948\u001b[0m kwds\u001b[38;5;241m.\u001b[39mupdate(kwds_defaults)\n\u001b[1;32m--> 950\u001b[0m \u001b[38;5;28;01mreturn\u001b[39;00m _read(filepath_or_buffer, kwds)\n",
      "File \u001b[1;32m~\\anaconda3\\Lib\\site-packages\\pandas\\io\\parsers\\readers.py:605\u001b[0m, in \u001b[0;36m_read\u001b[1;34m(filepath_or_buffer, kwds)\u001b[0m\n\u001b[0;32m    602\u001b[0m _validate_names(kwds\u001b[38;5;241m.\u001b[39mget(\u001b[38;5;124m\"\u001b[39m\u001b[38;5;124mnames\u001b[39m\u001b[38;5;124m\"\u001b[39m, \u001b[38;5;28;01mNone\u001b[39;00m))\n\u001b[0;32m    604\u001b[0m \u001b[38;5;66;03m# Create the parser.\u001b[39;00m\n\u001b[1;32m--> 605\u001b[0m parser \u001b[38;5;241m=\u001b[39m TextFileReader(filepath_or_buffer, \u001b[38;5;241m*\u001b[39m\u001b[38;5;241m*\u001b[39mkwds)\n\u001b[0;32m    607\u001b[0m \u001b[38;5;28;01mif\u001b[39;00m chunksize \u001b[38;5;129;01mor\u001b[39;00m iterator:\n\u001b[0;32m    608\u001b[0m     \u001b[38;5;28;01mreturn\u001b[39;00m parser\n",
      "File \u001b[1;32m~\\anaconda3\\Lib\\site-packages\\pandas\\io\\parsers\\readers.py:1442\u001b[0m, in \u001b[0;36mTextFileReader.__init__\u001b[1;34m(self, f, engine, **kwds)\u001b[0m\n\u001b[0;32m   1439\u001b[0m     \u001b[38;5;28mself\u001b[39m\u001b[38;5;241m.\u001b[39moptions[\u001b[38;5;124m\"\u001b[39m\u001b[38;5;124mhas_index_names\u001b[39m\u001b[38;5;124m\"\u001b[39m] \u001b[38;5;241m=\u001b[39m kwds[\u001b[38;5;124m\"\u001b[39m\u001b[38;5;124mhas_index_names\u001b[39m\u001b[38;5;124m\"\u001b[39m]\n\u001b[0;32m   1441\u001b[0m \u001b[38;5;28mself\u001b[39m\u001b[38;5;241m.\u001b[39mhandles: IOHandles \u001b[38;5;241m|\u001b[39m \u001b[38;5;28;01mNone\u001b[39;00m \u001b[38;5;241m=\u001b[39m \u001b[38;5;28;01mNone\u001b[39;00m\n\u001b[1;32m-> 1442\u001b[0m \u001b[38;5;28mself\u001b[39m\u001b[38;5;241m.\u001b[39m_engine \u001b[38;5;241m=\u001b[39m \u001b[38;5;28mself\u001b[39m\u001b[38;5;241m.\u001b[39m_make_engine(f, \u001b[38;5;28mself\u001b[39m\u001b[38;5;241m.\u001b[39mengine)\n",
      "File \u001b[1;32m~\\anaconda3\\Lib\\site-packages\\pandas\\io\\parsers\\readers.py:1735\u001b[0m, in \u001b[0;36mTextFileReader._make_engine\u001b[1;34m(self, f, engine)\u001b[0m\n\u001b[0;32m   1733\u001b[0m     \u001b[38;5;28;01mif\u001b[39;00m \u001b[38;5;124m\"\u001b[39m\u001b[38;5;124mb\u001b[39m\u001b[38;5;124m\"\u001b[39m \u001b[38;5;129;01mnot\u001b[39;00m \u001b[38;5;129;01min\u001b[39;00m mode:\n\u001b[0;32m   1734\u001b[0m         mode \u001b[38;5;241m+\u001b[39m\u001b[38;5;241m=\u001b[39m \u001b[38;5;124m\"\u001b[39m\u001b[38;5;124mb\u001b[39m\u001b[38;5;124m\"\u001b[39m\n\u001b[1;32m-> 1735\u001b[0m \u001b[38;5;28mself\u001b[39m\u001b[38;5;241m.\u001b[39mhandles \u001b[38;5;241m=\u001b[39m get_handle(\n\u001b[0;32m   1736\u001b[0m     f,\n\u001b[0;32m   1737\u001b[0m     mode,\n\u001b[0;32m   1738\u001b[0m     encoding\u001b[38;5;241m=\u001b[39m\u001b[38;5;28mself\u001b[39m\u001b[38;5;241m.\u001b[39moptions\u001b[38;5;241m.\u001b[39mget(\u001b[38;5;124m\"\u001b[39m\u001b[38;5;124mencoding\u001b[39m\u001b[38;5;124m\"\u001b[39m, \u001b[38;5;28;01mNone\u001b[39;00m),\n\u001b[0;32m   1739\u001b[0m     compression\u001b[38;5;241m=\u001b[39m\u001b[38;5;28mself\u001b[39m\u001b[38;5;241m.\u001b[39moptions\u001b[38;5;241m.\u001b[39mget(\u001b[38;5;124m\"\u001b[39m\u001b[38;5;124mcompression\u001b[39m\u001b[38;5;124m\"\u001b[39m, \u001b[38;5;28;01mNone\u001b[39;00m),\n\u001b[0;32m   1740\u001b[0m     memory_map\u001b[38;5;241m=\u001b[39m\u001b[38;5;28mself\u001b[39m\u001b[38;5;241m.\u001b[39moptions\u001b[38;5;241m.\u001b[39mget(\u001b[38;5;124m\"\u001b[39m\u001b[38;5;124mmemory_map\u001b[39m\u001b[38;5;124m\"\u001b[39m, \u001b[38;5;28;01mFalse\u001b[39;00m),\n\u001b[0;32m   1741\u001b[0m     is_text\u001b[38;5;241m=\u001b[39mis_text,\n\u001b[0;32m   1742\u001b[0m     errors\u001b[38;5;241m=\u001b[39m\u001b[38;5;28mself\u001b[39m\u001b[38;5;241m.\u001b[39moptions\u001b[38;5;241m.\u001b[39mget(\u001b[38;5;124m\"\u001b[39m\u001b[38;5;124mencoding_errors\u001b[39m\u001b[38;5;124m\"\u001b[39m, \u001b[38;5;124m\"\u001b[39m\u001b[38;5;124mstrict\u001b[39m\u001b[38;5;124m\"\u001b[39m),\n\u001b[0;32m   1743\u001b[0m     storage_options\u001b[38;5;241m=\u001b[39m\u001b[38;5;28mself\u001b[39m\u001b[38;5;241m.\u001b[39moptions\u001b[38;5;241m.\u001b[39mget(\u001b[38;5;124m\"\u001b[39m\u001b[38;5;124mstorage_options\u001b[39m\u001b[38;5;124m\"\u001b[39m, \u001b[38;5;28;01mNone\u001b[39;00m),\n\u001b[0;32m   1744\u001b[0m )\n\u001b[0;32m   1745\u001b[0m \u001b[38;5;28;01massert\u001b[39;00m \u001b[38;5;28mself\u001b[39m\u001b[38;5;241m.\u001b[39mhandles \u001b[38;5;129;01mis\u001b[39;00m \u001b[38;5;129;01mnot\u001b[39;00m \u001b[38;5;28;01mNone\u001b[39;00m\n\u001b[0;32m   1746\u001b[0m f \u001b[38;5;241m=\u001b[39m \u001b[38;5;28mself\u001b[39m\u001b[38;5;241m.\u001b[39mhandles\u001b[38;5;241m.\u001b[39mhandle\n",
      "File \u001b[1;32m~\\anaconda3\\Lib\\site-packages\\pandas\\io\\common.py:856\u001b[0m, in \u001b[0;36mget_handle\u001b[1;34m(path_or_buf, mode, encoding, compression, memory_map, is_text, errors, storage_options)\u001b[0m\n\u001b[0;32m    851\u001b[0m \u001b[38;5;28;01melif\u001b[39;00m \u001b[38;5;28misinstance\u001b[39m(handle, \u001b[38;5;28mstr\u001b[39m):\n\u001b[0;32m    852\u001b[0m     \u001b[38;5;66;03m# Check whether the filename is to be opened in binary mode.\u001b[39;00m\n\u001b[0;32m    853\u001b[0m     \u001b[38;5;66;03m# Binary mode does not support 'encoding' and 'newline'.\u001b[39;00m\n\u001b[0;32m    854\u001b[0m     \u001b[38;5;28;01mif\u001b[39;00m ioargs\u001b[38;5;241m.\u001b[39mencoding \u001b[38;5;129;01mand\u001b[39;00m \u001b[38;5;124m\"\u001b[39m\u001b[38;5;124mb\u001b[39m\u001b[38;5;124m\"\u001b[39m \u001b[38;5;129;01mnot\u001b[39;00m \u001b[38;5;129;01min\u001b[39;00m ioargs\u001b[38;5;241m.\u001b[39mmode:\n\u001b[0;32m    855\u001b[0m         \u001b[38;5;66;03m# Encoding\u001b[39;00m\n\u001b[1;32m--> 856\u001b[0m         handle \u001b[38;5;241m=\u001b[39m \u001b[38;5;28mopen\u001b[39m(\n\u001b[0;32m    857\u001b[0m             handle,\n\u001b[0;32m    858\u001b[0m             ioargs\u001b[38;5;241m.\u001b[39mmode,\n\u001b[0;32m    859\u001b[0m             encoding\u001b[38;5;241m=\u001b[39mioargs\u001b[38;5;241m.\u001b[39mencoding,\n\u001b[0;32m    860\u001b[0m             errors\u001b[38;5;241m=\u001b[39merrors,\n\u001b[0;32m    861\u001b[0m             newline\u001b[38;5;241m=\u001b[39m\u001b[38;5;124m\"\u001b[39m\u001b[38;5;124m\"\u001b[39m,\n\u001b[0;32m    862\u001b[0m         )\n\u001b[0;32m    863\u001b[0m     \u001b[38;5;28;01melse\u001b[39;00m:\n\u001b[0;32m    864\u001b[0m         \u001b[38;5;66;03m# Binary mode\u001b[39;00m\n\u001b[0;32m    865\u001b[0m         handle \u001b[38;5;241m=\u001b[39m \u001b[38;5;28mopen\u001b[39m(handle, ioargs\u001b[38;5;241m.\u001b[39mmode)\n",
      "\u001b[1;31mFileNotFoundError\u001b[0m: [Errno 2] No such file or directory: 'pandas_ex1.csv'"
     ]
    }
   ],
   "source": [
    "# Reading a csv\n",
    "prov_support = pd.read_csv('pandas_ex1.csv', sep=',') \n",
    "prov_support"
   ]
  },
  {
   "cell_type": "markdown",
   "metadata": {
    "id": "68ru0F4EdE5h"
   },
   "source": [
    "What do you see in this `DataFrame`? \n",
    "\n",
    "1. The first row in the file was indeed a header row\n",
    "2. Pandas created a `DataFrame` with the index from 0 to 12\n",
    "\n",
    "Let's check the summary information of the `DataFrame` object:"
   ]
  },
  {
   "cell_type": "code",
   "execution_count": null,
   "metadata": {
    "colab": {
     "base_uri": "https://localhost:8080/"
    },
    "id": "L8kdKB0qcapU",
    "outputId": "bab67c54-760c-4f78-8303-aea65334ac8c"
   },
   "outputs": [],
   "source": [
    "prov_support.info()"
   ]
  },
  {
   "cell_type": "markdown",
   "metadata": {
    "id": "YLnJyUQ9dIA4"
   },
   "source": [
    "We can see that the `DataFrame` object has 5 columns of data, 3 columns are integers and 2 columns are of `object` data type. In pandas, \"object\" usually means `string`. We can also use method `dtypes` to check data types for each column of data:"
   ]
  },
  {
   "cell_type": "code",
   "execution_count": null,
   "metadata": {
    "colab": {
     "base_uri": "https://localhost:8080/"
    },
    "id": "G93M50KEdJ8U",
    "outputId": "f79d5315-889d-4e4d-fbd5-c2470c695a71"
   },
   "outputs": [],
   "source": [
    "prov_support.dtypes"
   ]
  },
  {
   "cell_type": "markdown",
   "metadata": {
    "id": "_gmV8QpkdMSU"
   },
   "source": [
    "When creating a `DataFrame`, `pandas` attempts to infer type and automatically do data conversion on read.  This includes user-defined value conversions including custom values for missing value markers. \n",
    "\n",
    "**Type inference** is one of the most important features of `pandas`.  It means *you do not have to specify which columns are numeric, integer, Boolean, or string*.  Pandas will inspect and specify for you the types.  However, this can lead to problems if not following good practices. \n",
    "\n",
    "For example, suppose  a data set uses numbers to represent nominal category levels instead of string labels.  When trying to do an analysis, most statistical packages would default to treating the levels as a numeric, unintentionally implying an ordering and quantity.  If these Python analysis packages also make inferences from the data, then it is also possible that the package would default to another methodology.  Simple time saving features can quickly spiral into more problems.\n",
    "\n",
    "Therefore, it is a good practice to always check if `pandas` has read the data correctly.  One common problem is when the numeric fields in the data file to be read has leading or trailing spaces, or if the numeric fields contain special characters, for example dollar signs, or thousands separators.  Pandas will read such numeric fields as strings.  You might run into problems with this data if you try to do any calculations on these columns, or use them in visualizations or models\n",
    "\n",
    "*We can set more parameters while reading the file*.  In the previous section, while creating the `DataFrame` from the dictionary, we decided to use one of the columns as an index.  We can do the same here and use the column with province abbreviations as index for the `DataFrame`.  Of course, we can always update the `DataFrame` afterwards using `set_index()` function, but `read_csv()` has a parameter that accomplishes this when reading the data.\n",
    "\n",
    "We might also decide to not use the header row from the file as it is too verbose, and specify different names for the columns.  We will demonstrate below how to add column names, because you might not always have a header in the data file, and you will need to specify a header yourself.  It is possible to add it later, but you can also name the columns within `read_csv()`.  Let us see how:"
   ]
  },
  {
   "cell_type": "code",
   "execution_count": null,
   "metadata": {
    "colab": {
     "base_uri": "https://localhost:8080/",
     "height": 488
    },
    "id": "WycobVP1dOLz",
    "outputId": "c3218210-9a35-4e99-cc40-54784ce592e5"
   },
   "outputs": [],
   "source": [
    "prov_support = pd.read_csv('pandas_ex1.csv', \n",
    "                           sep=',', \n",
    "                           skiprows=1,   # skipping one row\n",
    "                           header=None,  # we are telling pandas that there is no header in the file, as we skipped the first row\n",
    "                           names=['province_name','province','2016','2017','2018'], # names of columns\n",
    "                           index_col='province')   # use column 'province' as index\n",
    "\n",
    "prov_support"
   ]
  },
  {
   "cell_type": "markdown",
   "metadata": {
    "id": "KvkaeF_xdR0i"
   },
   "source": [
    "We now know how to set both row and column indexes and load the data from the `csv` file into the `DataFrame`."
   ]
  },
  {
   "cell_type": "markdown",
   "metadata": {
    "id": "e1C8Zku_dXFX"
   },
   "source": [
    "#### Saving DataFrames\n",
    "\n",
    "We now understand how to read data. In this section we will discuss how to write and save data once we've finished preparing data for an analysis. \n",
    "\n",
    "In `pandas`, we utilize the `to_csv()` function for writing out `DataFrame` data to `csv` format. It is similar to the reading function, except now the parameters are used for formatting output instead of parsing input formatting."
   ]
  },
  {
   "cell_type": "code",
   "execution_count": null,
   "metadata": {
    "colab": {
     "base_uri": "https://localhost:8080/",
     "height": 72
    },
    "id": "_EnWlDRmdUyD",
    "outputId": "ae9b622c-9424-4146-8ae3-2fb827d1477d"
   },
   "outputs": [],
   "source": [
    "csv_out = prov_support.to_csv()\n",
    "csv_out"
   ]
  },
  {
   "cell_type": "code",
   "execution_count": null,
   "metadata": {
    "id": "FGR2748Rdc7_"
   },
   "outputs": [],
   "source": [
    "# writing to a file\n",
    "prov_support.to_csv('csv_out1.csv')"
   ]
  },
  {
   "cell_type": "code",
   "execution_count": null,
   "metadata": {},
   "outputs": [],
   "source": [
    "newdf= pd.read_csv('csv_out1.csv')\n",
    "newdf"
   ]
  },
  {
   "cell_type": "markdown",
   "metadata": {
    "id": "nY23Szzddao2"
   },
   "source": [
    "We can also make a more elaborate call and specify if we want to include a header row and index, and what character should be used as a column separator:"
   ]
  },
  {
   "cell_type": "code",
   "execution_count": null,
   "metadata": {
    "id": "1GYo2xXsdgDc"
   },
   "outputs": [],
   "source": [
    "prov_support.to_csv('csv_out2.csv',sep='\\t',#the seperator used for the columns\n",
    "                    index=True,     #whether to include indexes in output\n",
    "                    header=True)    #whether to include headers in output"
   ]
  },
  {
   "cell_type": "code",
   "execution_count": null,
   "metadata": {},
   "outputs": [],
   "source": [
    "newdf1= pd.read_csv('csv_out2.csv',sep='\\t')\n",
    "newdf1"
   ]
  },
  {
   "cell_type": "markdown",
   "metadata": {
    "id": "yBOJ0bJLdi9i"
   },
   "source": [
    "We can find the files on the file system, open them in any text editor and validate the data. The data in the first file, `csv_out1.csv` should be formated as follows:"
   ]
  },
  {
   "cell_type": "markdown",
   "metadata": {
    "id": "KgM-CUQCdoHG"
   },
   "source": [
    "```\n",
    "province,province_name,2016,2017,2018\n",
    "NL,Newfoundland and Labrador,724,734,750\n",
    "PE,Prince Edward Island,584,601,638\n",
    "NS,Nova Scotia,3060,3138,3201\n",
    "NB,New Brunswick,2741,2814,2956\n",
    "```"
   ]
  },
  {
   "cell_type": "markdown",
   "metadata": {
    "id": "eo3F8SD8drCw"
   },
   "source": [
    "Format of the second file, `csv_out2.csv`, will look as follows, the columns are separated by tabs instead of commas:"
   ]
  },
  {
   "cell_type": "markdown",
   "metadata": {
    "id": "wg_2mbGnduIW"
   },
   "source": [
    "```\n",
    "province\tprovince_name\t2016\t2017\t2018\n",
    "NL\tNewfoundland and Labrador\t724\t734\t750\n",
    "PE\tPrince Edward Island\t584\t601\t638\n",
    "NS\tNova Scotia\t3060\t3138\t3201\n",
    "NB\tNew Brunswick\t2741\t2814\t2956\n",
    "```"
   ]
  },
  {
   "cell_type": "code",
   "execution_count": null,
   "metadata": {},
   "outputs": [],
   "source": [
    "csv_out2= pd.read_csv('csv_out2.csv', sep='\\t') \n",
    "csv_out2"
   ]
  },
  {
   "cell_type": "markdown",
   "metadata": {
    "id": "Jcd2kcEBeVn4"
   },
   "source": [
    "#### Renaming DataFrame columns"
   ]
  },
  {
   "cell_type": "markdown",
   "metadata": {
    "id": "qGZ6WGXteXzd"
   },
   "source": [
    "Quite often, after you have read the file and created a `DataFrame`, you realize that the column names are either too long, or contain special characters, or not descriptive enough. \n",
    "\n",
    "In our example, we might decide to shorten the names of the first and second columns. We might want to rename \"Canadian Provinces and Territories\" into \"Province Name\" and \"Two-Letter Abbreviation\" into \"Province Abbreviation\". We also might want to rename the numeric columns to display only one year instead of the range of years. For example, rename `\"2016-17\"` to be `\"2016\"` and so on.\n",
    "\n",
    "Let's load the data into the `DataFrame` one more time without specifying any parameters for the `read_csv()` function, like we did in the beginning of this section:"
   ]
  },
  {
   "cell_type": "code",
   "execution_count": null,
   "metadata": {
    "colab": {
     "base_uri": "https://localhost:8080/",
     "height": 456
    },
    "id": "aNTGO5yRdkgE",
    "outputId": "ebaea869-1767-4244-cafc-3d0641662e64"
   },
   "outputs": [],
   "source": [
    "fed_sup = pd.read_csv('pandas_ex1.csv', sep=',') \n",
    "fed_sup"
   ]
  },
  {
   "cell_type": "markdown",
   "metadata": {
    "id": "9e_4RwVZedol"
   },
   "source": [
    "Pandas allows us to easily rename the columns in one line of code. All we need to do is to use `.columns` attribute and pass to it a list of new column names:"
   ]
  },
  {
   "cell_type": "code",
   "execution_count": null,
   "metadata": {
    "colab": {
     "base_uri": "https://localhost:8080/",
     "height": 456
    },
    "id": "4aIfxWiyeeKk",
    "outputId": "d8b6ef49-ffb9-443f-e0e0-4e706defa41a"
   },
   "outputs": [],
   "source": [
    "fed_sup.columns = ['Province Name', 'Province Abbreviation', '2016', '2017', '2018']\n",
    "fed_sup"
   ]
  },
  {
   "cell_type": "markdown",
   "metadata": {
    "id": "bYGO0AgVeh9h"
   },
   "source": [
    "Now, what if we decide that we don't want to have spaces in the column names (we will discuss in the next section the advantages of having column names without spaces). In this case, we can use `pandas`' `rename()` function:"
   ]
  },
  {
   "cell_type": "code",
   "execution_count": null,
   "metadata": {
    "colab": {
     "base_uri": "https://localhost:8080/",
     "height": 456
    },
    "id": "jEw6ijKHej4z",
    "outputId": "5f2279dd-08c7-4843-e139-f32dd8d66177"
   },
   "outputs": [],
   "source": [
    "fed_sup = fed_sup.rename(columns={'Province Name':'province_name', 'Province Abbreviation':'Provence'})\n",
    "fed_sup"
   ]
  },
  {
   "cell_type": "markdown",
   "metadata": {
    "id": "HFeXFIwCep82"
   },
   "source": [
    "The advantage of using the `rename()` function is that you can include only those column names that require the change and be specific about what column names you want to rename."
   ]
  },
  {
   "cell_type": "markdown",
   "metadata": {
    "id": "W6mxipRTfWkr"
   },
   "source": [
    "### Working with DataFrames"
   ]
  },
  {
   "cell_type": "markdown",
   "metadata": {
    "id": "SeKHSFzdhUSF"
   },
   "source": [
    "In this section, we will learn how to access, select and manipulate data in `pandas` `DataFrame`.\n",
    "\n",
    "We have read the data from the file and loaded it into the `DataFrame`. If you have thousands or even millions of rows of data, you might want to look at the small sample of the data within the notebook. Pandas has two very convenient methods to do that, `head()` and `tail()`. Both functions, by default, will display only 5 rows of data, the first or the last 5 rows, correspondingly. "
   ]
  },
  {
   "cell_type": "code",
   "execution_count": null,
   "metadata": {
    "colab": {
     "base_uri": "https://localhost:8080/",
     "height": 237
    },
    "id": "_mlh9j5NfJ4R",
    "outputId": "31a7b45e-6e95-478d-8d56-b1ca87b39edc"
   },
   "outputs": [],
   "source": [
    "# first 5 rows of the DataFrame\n",
    "prov_support.head()"
   ]
  },
  {
   "cell_type": "code",
   "execution_count": null,
   "metadata": {
    "colab": {
     "base_uri": "https://localhost:8080/",
     "height": 237
    },
    "id": "fzfBnicfhZm6",
    "outputId": "60dc9c50-b99e-4950-bb32-e3f370141f00"
   },
   "outputs": [],
   "source": [
    "# last 5 rows\n",
    "prov_support.tail()"
   ]
  },
  {
   "cell_type": "code",
   "execution_count": null,
   "metadata": {
    "colab": {
     "base_uri": "https://localhost:8080/",
     "height": 300
    },
    "id": "_pHY_qmzheyA",
    "outputId": "f0b6aa67-d304-428a-bc25-63a1d4b2d299"
   },
   "outputs": [],
   "source": [
    "# It is possible to specify how many rows of data we want to see:\n",
    "\n",
    "prov_support.head(7)"
   ]
  },
  {
   "cell_type": "markdown",
   "metadata": {
    "id": "QZGz7Cc5hhZQ"
   },
   "source": [
    "#### Axes and indexes"
   ]
  },
  {
   "cell_type": "markdown",
   "metadata": {
    "id": "0WF9PyQohjzq"
   },
   "source": [
    "To see the dimensions of the `DataFrame`, we can use method `shape`, it returns a tuple in the form (number of rows, number of columns):"
   ]
  },
  {
   "cell_type": "code",
   "execution_count": null,
   "metadata": {
    "colab": {
     "base_uri": "https://localhost:8080/"
    },
    "id": "x1z__A9LhiHj",
    "outputId": "0b96ccdb-0705-41ad-9f54-3a868ce4db8c"
   },
   "outputs": [],
   "source": [
    "prov_support.shape"
   ]
  },
  {
   "cell_type": "markdown",
   "metadata": {
    "id": "DDXZyn3bhnAE"
   },
   "source": [
    "Method `columns` returns a list of all columns from a `DataFrame`, and method `index` returns a `DataFrame`'s index:"
   ]
  },
  {
   "cell_type": "code",
   "execution_count": null,
   "metadata": {
    "colab": {
     "base_uri": "https://localhost:8080/"
    },
    "id": "2sCpLhwphr86",
    "outputId": "40f1cd5c-35f0-40c2-a893-ae275d42521a"
   },
   "outputs": [],
   "source": [
    "prov_support.index"
   ]
  },
  {
   "cell_type": "markdown",
   "metadata": {
    "id": "slQalhLWhtjS"
   },
   "source": [
    "One of the important concepts used in `pandas` is the concept of **`DataFrame` axes**. In the `DataFrame`, axes are indexes, where `axis=0` is the rows index, and `axis=1` is columns names. \n",
    "\n",
    "`DataFrame` definition of axes is the same as the corresponding definition of [axes in NumPy](https://docs.scipy.org/doc/numpy/glossary.html), which is: \"A 2-dimensional array has two corresponding axes: the first running vertically downwards across rows (axis 0), and the second running horizontally across columns (axis 1).\"\n",
    "\n",
    "![AxesPandas.png](data:image/png;base64,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)\n",
    "\n",
    "\n",
    "**Picture 9.** DataFrame axes.\n",
    "\n",
    "DataFrame's method `axes` can be used to output both axes, the rows index (`axis = 0`) first, then column names (`axis=1`). "
   ]
  },
  {
   "cell_type": "code",
   "execution_count": null,
   "metadata": {
    "colab": {
     "base_uri": "https://localhost:8080/"
    },
    "id": "aTLKO9Vmhv96",
    "outputId": "19eeb1e2-e519-42a8-80c3-113754b4bde7"
   },
   "outputs": [],
   "source": [
    "prov_support.axes"
   ]
  },
  {
   "cell_type": "markdown",
   "metadata": {
    "id": "DGe5yYrxiON_"
   },
   "source": [
    "Multiple methods in `pandas` are using `axis` as a parameter. Let's see an example. Pandas has method `sort_index()` which will sort a `DataFrame` based on either index or column headers.\n",
    "\n",
    "The code below will sort a `DataFrame` based on the index (`axis = 0`). The default order is ascending, which means in our case - alphabetical order, since our index is of a *string* type. We can change the sort order using the `ascending=` parameter."
   ]
  },
  {
   "cell_type": "code",
   "execution_count": null,
   "metadata": {
    "colab": {
     "base_uri": "https://localhost:8080/",
     "height": 488
    },
    "id": "KWWA2QNLiQLC",
    "outputId": "9e212f10-d825-460d-a603-b55927287452"
   },
   "outputs": [],
   "source": [
    "prov_support.sort_index(axis=0, ascending=True) "
   ]
  },
  {
   "cell_type": "code",
   "execution_count": null,
   "metadata": {
    "colab": {
     "base_uri": "https://localhost:8080/",
     "height": 488
    },
    "id": "HgwmKhHmiVHo",
    "outputId": "d91f79e0-7dcb-49e9-d927-e3700e44efb1"
   },
   "outputs": [],
   "source": [
    "# Sorting by column names:\n",
    "\n",
    "prov_support.sort_index(axis=1, ascending=True) "
   ]
  },
  {
   "cell_type": "markdown",
   "metadata": {
    "id": "mzsab8mHiXZY"
   },
   "source": [
    "**NOTE:** `Series` have only one axis and it is a row axis.\n",
    "\n",
    "You can also see that indexes are of `pandas` **`Index`** object type:"
   ]
  },
  {
   "cell_type": "code",
   "execution_count": null,
   "metadata": {
    "colab": {
     "base_uri": "https://localhost:8080/"
    },
    "id": "adgSBRoYiYDq",
    "outputId": "be097189-4a2d-437b-e318-bb05162abe17"
   },
   "outputs": [],
   "source": [
    "obj1 = prov_support.index\n",
    "type(obj1)\n",
    "obj1"
   ]
  },
  {
   "cell_type": "code",
   "execution_count": null,
   "metadata": {
    "colab": {
     "base_uri": "https://localhost:8080/"
    },
    "id": "88DWxpxAibyL",
    "outputId": "41c9c3ce-3bc5-41b4-d3ac-99c551546546"
   },
   "outputs": [],
   "source": [
    "obj2 = prov_support.columns\n",
    "type(obj2)\n"
   ]
  },
  {
   "cell_type": "code",
   "execution_count": null,
   "metadata": {
    "colab": {
     "base_uri": "https://localhost:8080/"
    },
    "id": "7qk6VTjsie2I",
    "outputId": "3341be5f-c456-47b1-e946-55c07b31dc37"
   },
   "outputs": [],
   "source": [
    "print(obj1); print(obj2)"
   ]
  },
  {
   "cell_type": "markdown",
   "metadata": {
    "id": "SaUn5cZjigU0"
   },
   "source": [
    "#### Hierarchical indexes in DataFrames"
   ]
  },
  {
   "cell_type": "markdown",
   "metadata": {
    "id": "mKqK5Gutiu7K"
   },
   "source": [
    "Pandas supports hierarchical indexes, or multi-level index. Hierarchical index allows us to manipulate the data with any number of dimensions within a two-dimensional `DataFrame`. Please refer to [`pandas` documentation](https://pandas.pydata.org/pandas-docs/stable/advanced.html) for more details. We will come back to hierarchical indexes later, where we are going to talk about aggregating the data in the `DataFrame`.\n",
    "\n",
    "To introduce the concept, here is a simple example:"
   ]
  },
  {
   "cell_type": "code",
   "execution_count": null,
   "metadata": {
    "id": "2JwHZ7MwitAT"
   },
   "outputs": [],
   "source": [
    "df_hierarch = pd.DataFrame(data=[4, 7, 2, 5, 6],\n",
    "                           columns=['Data'],\n",
    "                           index= \n",
    "                           [['a', 'a', 'b', 'b', 'a'],\n",
    "                            ['x', 'y', 'x', 'y', 'x']])"
   ]
  },
  {
   "cell_type": "code",
   "execution_count": null,
   "metadata": {
    "colab": {
     "base_uri": "https://localhost:8080/",
     "height": 206
    },
    "id": "pkgLgH7ji3ZR",
    "outputId": "060274b9-293c-4e38-cb5f-3f3c18def944"
   },
   "outputs": [],
   "source": [
    "df_hierarch"
   ]
  },
  {
   "cell_type": "code",
   "execution_count": null,
   "metadata": {
    "colab": {
     "base_uri": "https://localhost:8080/"
    },
    "id": "hjIN5Absi6uQ",
    "outputId": "54bf033f-778f-4938-973c-f41aff0dd083"
   },
   "outputs": [],
   "source": [
    "df_hierarch.index"
   ]
  },
  {
   "cell_type": "markdown",
   "metadata": {
    "id": "dLfh6Elli2x3"
   },
   "source": [
    "As you can see, the index of this `DataFrame` has 2 levels, one level has indexes `'a'` and `'b'`, and the second level, - `'x'` and `'y'`. The type of this index is `MultiIndex`."
   ]
  },
  {
   "cell_type": "markdown",
   "metadata": {
    "id": "Qkd9LoLHjAsY"
   },
   "source": [
    "Now that we understand axes and indexes, let's talk about selecting data, indexing and slicing."
   ]
  },
  {
   "cell_type": "markdown",
   "metadata": {
    "id": "HrRXlKYhjBuk"
   },
   "source": [
    "A column in a `DataFrame` can be retrieved either by dictionary-like notation using column's name, or by attribute:"
   ]
  },
  {
   "cell_type": "code",
   "execution_count": null,
   "metadata": {},
   "outputs": [],
   "source": [
    "prov_support"
   ]
  },
  {
   "cell_type": "code",
   "execution_count": null,
   "metadata": {},
   "outputs": [],
   "source": [
    "type(prov_support)"
   ]
  },
  {
   "cell_type": "code",
   "execution_count": null,
   "metadata": {
    "colab": {
     "base_uri": "https://localhost:8080/"
    },
    "id": "yYn5YbLzjAG5",
    "outputId": "ffa9b81c-f6b1-4071-cf7e-17c6d7bd04fc"
   },
   "outputs": [],
   "source": [
    "# Here we are using a column name\n",
    "\n",
    "prov_support['province_name']"
   ]
  },
  {
   "cell_type": "code",
   "execution_count": null,
   "metadata": {
    "colab": {
     "base_uri": "https://localhost:8080/"
    },
    "id": "_B7TExAhjIJB",
    "outputId": "7470bb0a-641c-4b50-e29b-ff7d62afbe07"
   },
   "outputs": [],
   "source": [
    "# Here we are using an attribute\n",
    "\n",
    "prov_support.province_name"
   ]
  },
  {
   "cell_type": "markdown",
   "metadata": {
    "id": "fj4Rb8_2jLtv"
   },
   "source": [
    "The result is the same, in both cases the data is retrieved as a `Series` object, and in both cases it is exactly the same object. We can confirm it as follows:"
   ]
  },
  {
   "cell_type": "code",
   "execution_count": null,
   "metadata": {
    "colab": {
     "base_uri": "https://localhost:8080/"
    },
    "id": "aOVSE-b4jMQ6",
    "outputId": "09b6a265-a9f5-46a8-efbc-d241ed57b3a8"
   },
   "outputs": [],
   "source": [
    "prov_support['province_name'] is prov_support.province_name"
   ]
  },
  {
   "cell_type": "code",
   "execution_count": null,
   "metadata": {
    "colab": {
     "base_uri": "https://localhost:8080/"
    },
    "id": "Q5aI2TxbjS3y",
    "outputId": "668dc962-96ec-48a0-c734-d3264aed39ab"
   },
   "outputs": [],
   "source": [
    "print(type(prov_support['province_name']))\n",
    "print(type(prov_support.province_name))"
   ]
  },
  {
   "cell_type": "markdown",
   "metadata": {
    "id": "R2dhoJrvjU5d"
   },
   "source": [
    "## **NOTE**:\n",
    "#### Please note that retrieving the data using column name, ` prov_support['province_name']`, works for any column name, but getting the data by attribute will work only if the column name does not contain any spaces and is, in general, a valid Python variable. This means that we cannot use this method to access columns with year as a column name because it starts with a number:"
   ]
  },
  {
   "cell_type": "code",
   "execution_count": null,
   "metadata": {
    "colab": {
     "base_uri": "https://localhost:8080/",
     "height": 135
    },
    "id": "a_Wp3t48jVby",
    "outputId": "4a96cda6-87d1-4ff7-95c9-2ed8adb1b551"
   },
   "outputs": [],
   "source": [
    "# This will return an error because a number is not a valid Python variable name\n",
    "# We know that Python variables cannot start with a number\n",
    "\n",
    "prov_support.2016"
   ]
  },
  {
   "cell_type": "code",
   "execution_count": null,
   "metadata": {
    "colab": {
     "base_uri": "https://localhost:8080/"
    },
    "id": "YR8RUxJ7jcXz",
    "outputId": "a2761e42-a8ce-420e-f716-b527128f40ba"
   },
   "outputs": [],
   "source": [
    "# This will always work:\n",
    "\n",
    "pro_2016=prov_support['2016']\n",
    "pro_2016\n",
    "type(pro_2016)"
   ]
  },
  {
   "cell_type": "markdown",
   "metadata": {
    "id": "QXk2umJtjeMN"
   },
   "source": [
    "To select multiple columns of data, we need to pass a list of columns. The output will be a `DataFrame`:"
   ]
  },
  {
   "cell_type": "code",
   "execution_count": null,
   "metadata": {
    "colab": {
     "base_uri": "https://localhost:8080/",
     "height": 488
    },
    "id": "9IUsy7A_jnQ5",
    "outputId": "96381bed-df79-46e8-8483-af35db2d006c"
   },
   "outputs": [],
   "source": [
    "ddd=prov_support[['province_name','2018']]\n",
    "ddd\n",
    "type(ddd)"
   ]
  },
  {
   "cell_type": "markdown",
   "metadata": {
    "id": "0WclF6JKjpDb"
   },
   "source": [
    "To select rows from the `DataFrame`, use the indexing operators `.loc` or `.iloc`:"
   ]
  },
  {
   "cell_type": "markdown",
   "metadata": {
    "id": "SFNSvYAFjrad"
   },
   "source": [
    "- `.loc` is used to select rows by index labels\n",
    "- `.iloc` is used to select rows by integer index, by position"
   ]
  },
  {
   "cell_type": "markdown",
   "metadata": {
    "id": "ZfgoEK7Yjvsx"
   },
   "source": [
    "Here are examples of both methods:"
   ]
  },
  {
   "cell_type": "code",
   "execution_count": null,
   "metadata": {
    "colab": {
     "base_uri": "https://localhost:8080/"
    },
    "id": "2QGM00HUjqtN",
    "outputId": "ed5962f4-49da-4b07-b702-c7ac9c60f258"
   },
   "outputs": [],
   "source": [
    "# Select data for Ontario by the label 'ON':\n",
    "ont= prov_support.loc['ON']\n",
    "ont\n",
    "#type(ont)  # check the type type(ont)"
   ]
  },
  {
   "cell_type": "code",
   "execution_count": null,
   "metadata": {
    "colab": {
     "base_uri": "https://localhost:8080/",
     "height": 175
    },
    "id": "JrPpuUxWj0YA",
    "outputId": "79e17c0f-8e46-40d9-fcdc-a922023f6642"
   },
   "outputs": [],
   "source": [
    "# Selecting data for Ontario, British Columbia and Quebec by labels:\n",
    "\n",
    "prov_support.loc[['ON', 'BC', 'QC']]"
   ]
  },
  {
   "cell_type": "code",
   "execution_count": null,
   "metadata": {
    "colab": {
     "base_uri": "https://localhost:8080/"
    },
    "id": "XQdRsWrFj1AA",
    "outputId": "afa21710-770d-4f77-d869-37bdc12b3c2c"
   },
   "outputs": [],
   "source": [
    "# Selecting Ontario by position using .iloc method:\n",
    "\n",
    "prov_support.iloc[5]"
   ]
  },
  {
   "cell_type": "code",
   "execution_count": null,
   "metadata": {
    "colab": {
     "base_uri": "https://localhost:8080/",
     "height": 175
    },
    "id": "_9owUB0lj2xD",
    "outputId": "8d89567d-3703-40d6-be9c-e15aab3b8302"
   },
   "outputs": [],
   "source": [
    "# Selecting data for Ontario, British Columbia and Quebec by position:\n",
    "\n",
    "prov_support.iloc[[5,9,4]]"
   ]
  },
  {
   "cell_type": "markdown",
   "metadata": {
    "id": "KhH2buFHj6Fa"
   },
   "source": [
    "We can select a range, or a slice, of rows by specifying the start and end row position or index label. If we use row position, `.iloc[start:end]`, then the row identified by `end` position is not included in the resulting output."
   ]
  },
  {
   "cell_type": "code",
   "execution_count": null,
   "metadata": {
    "colab": {
     "base_uri": "https://localhost:8080/",
     "height": 175
    },
    "id": "9r7eNbSxj4fK",
    "outputId": "8e9950fe-5b4e-478d-f7af-abf61608afe3"
   },
   "outputs": [],
   "source": [
    "prov_support.iloc[:5]   # rows with position 0, 1,2,3,and 4 but not 5"
   ]
  },
  {
   "cell_type": "code",
   "execution_count": null,
   "metadata": {},
   "outputs": [],
   "source": [
    "fed_sup.loc[:5] # is used only if we use the default index label,we can not apply it on  dataframe prov_support"
   ]
  },
  {
   "cell_type": "code",
   "execution_count": null,
   "metadata": {},
   "outputs": [],
   "source": [
    "fed_sup.iloc[:5]"
   ]
  },
  {
   "cell_type": "markdown",
   "metadata": {},
   "source": [
    "The loc method returned rows with index label in the list of values from 0 to 5, which includes 0, 1, 2, 3, 4, and 5 (six rows). However, the iloc method returns the rows in the positions included in the range 0 to 5. Since integer ranges don't include the upper-bound value, this includes positions 0, 1, 2, 3, and 4 (five rows)."
   ]
  },
  {
   "cell_type": "markdown",
   "metadata": {
    "id": "yWdQVwT-j9Jy"
   },
   "source": [
    "However, when we use index labels, both the start and the end positions are included:"
   ]
  },
  {
   "cell_type": "code",
   "execution_count": null,
   "metadata": {
    "colab": {
     "base_uri": "https://localhost:8080/",
     "height": 175
    },
    "id": "IUXv8XI4j_BR",
    "outputId": "3137e7b5-dd19-4b57-e3f0-1cf53390a618"
   },
   "outputs": [],
   "source": [
    "prov_support.loc[:'NS'] "
   ]
  },
  {
   "cell_type": "code",
   "execution_count": null,
   "metadata": {
    "colab": {
     "base_uri": "https://localhost:8080/",
     "height": 488
    },
    "id": "gsTesdnhkA-k",
    "outputId": "94c08ac9-bf04-4e0e-868f-85f961fc0921"
   },
   "outputs": [],
   "source": [
    "# Only numeric columns:\n",
    "\n",
    "prov_support[['2016', '2017', '2018']]"
   ]
  },
  {
   "cell_type": "code",
   "execution_count": null,
   "metadata": {
    "colab": {
     "base_uri": "https://localhost:8080/",
     "height": 488
    },
    "id": "OhND_poIkEqR",
    "outputId": "d66945df-ae06-4485-afa3-e0c9067a3ab9"
   },
   "outputs": [],
   "source": [
    "# We can achieve the same result using .iloc()\n",
    "\n",
    "prov_support.iloc[:, 1:]"
   ]
  },
  {
   "cell_type": "markdown",
   "metadata": {
    "id": "JWSKoe7_kG6W"
   },
   "source": [
    "As we just saw, we can select a slice (subset) of rows and columns. In the example below we are selecting the first 3 rows and the first 2 columns only:"
   ]
  },
  {
   "cell_type": "code",
   "execution_count": null,
   "metadata": {
    "colab": {
     "base_uri": "https://localhost:8080/",
     "height": 175
    },
    "id": "BItvVb-PkHb6",
    "outputId": "e58fecae-66a5-42f4-d132-e04aa18f779f"
   },
   "outputs": [],
   "source": [
    "prov_support.iloc[:3, :2]"
   ]
  },
  {
   "cell_type": "code",
   "execution_count": null,
   "metadata": {
    "colab": {
     "base_uri": "https://localhost:8080/",
     "height": 175
    },
    "id": "TK-WT4NukKv8",
    "outputId": "fa1a730e-4313-4845-812b-a0532c8bbc08"
   },
   "outputs": [],
   "source": [
    "# Same, but using row and column labels\n",
    "\n",
    "prov_support.loc[:'ON', :'2017']"
   ]
  },
  {
   "cell_type": "markdown",
   "metadata": {
    "id": "uouWfHwUkMoY"
   },
   "source": [
    "Sometimes there is a need to select data based on the condition, for example, select all rows where federal support in 2018 is greater than 3000. This is called **Boolean indexing**:"
   ]
  },
  {
   "cell_type": "code",
   "execution_count": null,
   "metadata": {
    "colab": {
     "base_uri": "https://localhost:8080/",
     "height": 269
    },
    "id": "jBDT5sKBkRZe",
    "outputId": "589c0e82-0d23-4be7-a352-891c801ee25b"
   },
   "outputs": [],
   "source": [
    "prov_support[prov_support['2018'] > 3000]"
   ]
  },
  {
   "cell_type": "markdown",
   "metadata": {
    "id": "Nw_ktzsKkTBK"
   },
   "source": [
    "If there is a list of values that we are looking for within the `DataFrame`, we can use `isin()` function. In the example below, we are looking for rows with indexes 'AB', 'ON' and 'BC':"
   ]
  },
  {
   "cell_type": "code",
   "execution_count": null,
   "metadata": {
    "colab": {
     "base_uri": "https://localhost:8080/",
     "height": 175
    },
    "id": "ldal84eUkTby",
    "outputId": "0378dfb2-05c1-43db-9a07-42d4563baa93"
   },
   "outputs": [],
   "source": [
    "prov_support[prov_support.index.isin(['AB', 'ON', 'BC'])]"
   ]
  },
  {
   "cell_type": "code",
   "execution_count": null,
   "metadata": {
    "colab": {
     "base_uri": "https://localhost:8080/",
     "height": 144
    },
    "id": "Gth1vABgkXD7",
    "outputId": "75ca7e9d-cab8-4ff5-fdc6-f3887bfa63ee"
   },
   "outputs": [],
   "source": [
    "prov_support[prov_support['2017'].isin([22720, 21101])]\n"
   ]
  },
  {
   "cell_type": "markdown",
   "metadata": {
    "id": "9geqgp7Nk5ex"
   },
   "source": [
    "If we need to combine multiple conditions, we can use `and` operator `&`:"
   ]
  },
  {
   "cell_type": "code",
   "execution_count": null,
   "metadata": {
    "colab": {
     "base_uri": "https://localhost:8080/",
     "height": 144
    },
    "id": "lBJqC4ysk7T2",
    "outputId": "8c6e613c-d5a4-4988-a53d-9977953cdd14"
   },
   "outputs": [],
   "source": [
    "prov_support[(prov_support['2017'] > 6000) & (prov_support.index.isin(['AB', 'ON', 'BC']))]"
   ]
  },
  {
   "cell_type": "markdown",
   "metadata": {
    "id": "EgsppfjZk-y5"
   },
   "source": [
    "\"Is not\" can be coded using `~` operator:"
   ]
  },
  {
   "cell_type": "code",
   "execution_count": null,
   "metadata": {
    "colab": {
     "base_uri": "https://localhost:8080/",
     "height": 456
    },
    "id": "hxfq-anFk_Us",
    "outputId": "9036f550-bba9-4d91-b057-281a597bf1a3"
   },
   "outputs": [],
   "source": [
    "# Selecting rows where support in 2017 does not equal to 6680:\n",
    "prov_support[~(prov_support['2017'] == 6680)]  # returns all rows except British Columbia"
   ]
  },
  {
   "cell_type": "code",
   "execution_count": null,
   "metadata": {
    "colab": {
     "base_uri": "https://localhost:8080/",
     "height": 456
    },
    "id": "A3id6dm1lBms",
    "outputId": "ade92988-3389-4618-f3f4-ca1a15bf6ede"
   },
   "outputs": [],
   "source": [
    "# Another way of doing the same thing:\n",
    "\n",
    "prov_support[prov_support['2017'] != 6680] "
   ]
  },
  {
   "cell_type": "markdown",
   "metadata": {
    "id": "CES4NtmJlD4U"
   },
   "source": [
    "#### Pandas string methods"
   ]
  },
  {
   "cell_type": "markdown",
   "metadata": {
    "id": "yoVJwULslH0i"
   },
   "source": [
    "We can use all `string` methods in `pandas` `DataFrame` through `str()` method. For example, here is how we can convert all province names to lower case:"
   ]
  },
  {
   "cell_type": "code",
   "execution_count": null,
   "metadata": {
    "colab": {
     "base_uri": "https://localhost:8080/"
    },
    "id": "ZOJEUolrlF8N",
    "outputId": "f0f36f93-b7af-4548-ab00-7637c83f6619"
   },
   "outputs": [],
   "source": [
    "prov_support.province_name.str.lower()"
   ]
  },
  {
   "cell_type": "code",
   "execution_count": null,
   "metadata": {
    "colab": {
     "base_uri": "https://localhost:8080/",
     "height": 112
    },
    "id": "VQPddJvLlLzV",
    "outputId": "bbdcd506-1a23-46e4-911b-34c0c6b920bd"
   },
   "outputs": [],
   "source": [
    "# Selecting all rows where province name contains character 'm'\n",
    "prov_support[prov_support.province_name.str.contains('m')]"
   ]
  },
  {
   "cell_type": "code",
   "execution_count": null,
   "metadata": {
    "colab": {
     "base_uri": "https://localhost:8080/",
     "height": 144
    },
    "id": "4HOAntTalN8x",
    "outputId": "e6d1c43f-f910-4162-ba05-2aba6cb0adf0"
   },
   "outputs": [],
   "source": [
    "# In the result set, we don't see Manitoba because the name of the province\n",
    "# starts with the upper-case 'M'. Let's fix it:\n",
    "\n",
    "prov_support[prov_support.province_name.str.lower().str.contains('m')]"
   ]
  },
  {
   "cell_type": "code",
   "execution_count": null,
   "metadata": {
    "colab": {
     "base_uri": "https://localhost:8080/",
     "height": 144
    },
    "id": "PtnO69u0lOwZ",
    "outputId": "935b0047-4638-425a-bcf1-284d35059f4b"
   },
   "outputs": [],
   "source": [
    "# Same result as above, but we want only a column with province names:\n",
    "prov_support.loc[prov_support.province_name.str.lower().str.contains('m'), ['province_name']]"
   ]
  },
  {
   "cell_type": "markdown",
   "metadata": {
    "id": "F4_Z09XilRzM"
   },
   "source": [
    "**NOTE:** We can use all built-in Python string methods in `pandas`. Their application is not limited to the methods we used in this section."
   ]
  },
  {
   "cell_type": "markdown",
   "metadata": {
    "id": "8dAxw_JZlaU1"
   },
   "source": [
    "#### **EXERCISE 3:** Loading data into DataFrame, exploring"
   ]
  },
  {
   "cell_type": "markdown",
   "metadata": {
    "id": "BEXQvRqjldBU"
   },
   "source": [
    "For this exercise, we will take the Chocolate Bar Ratings dataset. We have downloaded the data from [Kaggle](https://www.kaggle.com/rtatman/chocolate-bar-ratings), \"Data\" tab. The dataset contains expert ratings of over 1,700 individual chocolate bars, along with information on their regional origin, percentage of cocoa, the variety of chocolate bean used and where the beans were grown.\n",
    "\n",
    "You can read about the data either on the \"Overview\" page of the dataset on Kaggle web site, or go to the [Flavors of Cacao](http://flavorsofcacao.com/index.html) website where the data originally [came from](http://flavorsofcacao.com/chocolate_database.html), and read about the rating system used in this dataset, overview of factors that contribute to the chocolate flavour and other useful and interesting information about chocolate.\n",
    "\n",
    "The dataset contains the following data attributes:"
   ]
  },
  {
   "cell_type": "markdown",
   "metadata": {
    "id": "VjoQXpjQll0c"
   },
   "source": [
    "| ***Attribute*** | ***Description*** |\n",
    "| ---: | :--- |\n",
    "| **Company (Maker-if known)** | Name of the company manufacturing the bar. |\n",
    "| **Specific Bean Origin or Bar Name** | The specific geo-region of origin for the bar. |\n",
    "| **REF** | Reference number, a value linked to when the review was entered in the database. Higher = more recent. |\n",
    "| **Review Date** | Date of publication of the review. |\n",
    "| **Cocoa Percent** | Cocoa percentage (darkness) of the chocolate bar being reviewed. |\n",
    "| **Company Location** | Manufacturer base country. |\n",
    "| **Rating** | Expert rating for the bar. |\n",
    "| **Bean Type** | The variety of bean used, if provided. |\n",
    "| **Broad Bean Origin** | The broad geo-region of origin for the bean. |\n",
    "|||"
   ]
  },
  {
   "cell_type": "markdown",
   "metadata": {
    "id": "ufh7cgkClo0u"
   },
   "source": [
    "**Task 1** - Load the data from `flavors_of_cacao.csv` file into the `DataFrame`, assume that the file is in the same folder as the notebook. If the file is in different directory on your system, make sure you include the full path to the file. \n",
    "\n",
    "Answer the following questions:\n",
    "- How many entries are there in the dataset?\n",
    "- What is the `dtype` of the data in the `Rating` column?"
   ]
  },
  {
   "cell_type": "code",
   "execution_count": 36,
   "metadata": {
    "id": "Ar6if7hAlTHJ"
   },
   "outputs": [
    {
     "data": {
      "text/html": [
       "<div>\n",
       "<style scoped>\n",
       "    .dataframe tbody tr th:only-of-type {\n",
       "        vertical-align: middle;\n",
       "    }\n",
       "\n",
       "    .dataframe tbody tr th {\n",
       "        vertical-align: top;\n",
       "    }\n",
       "\n",
       "    .dataframe thead th {\n",
       "        text-align: right;\n",
       "    }\n",
       "</style>\n",
       "<table border=\"1\" class=\"dataframe\">\n",
       "  <thead>\n",
       "    <tr style=\"text-align: right;\">\n",
       "      <th></th>\n",
       "      <th>Company \\n(Maker-if known)</th>\n",
       "      <th>Specific Bean Origin\\nor Bar Name</th>\n",
       "      <th>REF</th>\n",
       "      <th>Review\\nDate</th>\n",
       "      <th>Cocoa\\nPercent</th>\n",
       "      <th>Company\\nLocation</th>\n",
       "      <th>Rating</th>\n",
       "      <th>Bean\\nType</th>\n",
       "      <th>Broad Bean\\nOrigin</th>\n",
       "    </tr>\n",
       "  </thead>\n",
       "  <tbody>\n",
       "    <tr>\n",
       "      <th>0</th>\n",
       "      <td>A. Morin</td>\n",
       "      <td>Agua Grande</td>\n",
       "      <td>1876</td>\n",
       "      <td>2016</td>\n",
       "      <td>63%</td>\n",
       "      <td>France</td>\n",
       "      <td>3.75</td>\n",
       "      <td></td>\n",
       "      <td>Sao Tome</td>\n",
       "    </tr>\n",
       "    <tr>\n",
       "      <th>1</th>\n",
       "      <td>A. Morin</td>\n",
       "      <td>Kpime</td>\n",
       "      <td>1676</td>\n",
       "      <td>2015</td>\n",
       "      <td>70%</td>\n",
       "      <td>France</td>\n",
       "      <td>2.75</td>\n",
       "      <td></td>\n",
       "      <td>Togo</td>\n",
       "    </tr>\n",
       "    <tr>\n",
       "      <th>2</th>\n",
       "      <td>A. Morin</td>\n",
       "      <td>Atsane</td>\n",
       "      <td>1676</td>\n",
       "      <td>2015</td>\n",
       "      <td>70%</td>\n",
       "      <td>France</td>\n",
       "      <td>3.00</td>\n",
       "      <td></td>\n",
       "      <td>Togo</td>\n",
       "    </tr>\n",
       "    <tr>\n",
       "      <th>3</th>\n",
       "      <td>A. Morin</td>\n",
       "      <td>Akata</td>\n",
       "      <td>1680</td>\n",
       "      <td>2015</td>\n",
       "      <td>70%</td>\n",
       "      <td>France</td>\n",
       "      <td>3.50</td>\n",
       "      <td></td>\n",
       "      <td>Togo</td>\n",
       "    </tr>\n",
       "    <tr>\n",
       "      <th>4</th>\n",
       "      <td>A. Morin</td>\n",
       "      <td>Quilla</td>\n",
       "      <td>1704</td>\n",
       "      <td>2015</td>\n",
       "      <td>70%</td>\n",
       "      <td>France</td>\n",
       "      <td>3.50</td>\n",
       "      <td></td>\n",
       "      <td>Peru</td>\n",
       "    </tr>\n",
       "    <tr>\n",
       "      <th>5</th>\n",
       "      <td>A. Morin</td>\n",
       "      <td>Carenero</td>\n",
       "      <td>1315</td>\n",
       "      <td>2014</td>\n",
       "      <td>70%</td>\n",
       "      <td>France</td>\n",
       "      <td>2.75</td>\n",
       "      <td>Criollo</td>\n",
       "      <td>Venezuela</td>\n",
       "    </tr>\n",
       "    <tr>\n",
       "      <th>6</th>\n",
       "      <td>A. Morin</td>\n",
       "      <td>Cuba</td>\n",
       "      <td>1315</td>\n",
       "      <td>2014</td>\n",
       "      <td>70%</td>\n",
       "      <td>France</td>\n",
       "      <td>3.50</td>\n",
       "      <td></td>\n",
       "      <td>Cuba</td>\n",
       "    </tr>\n",
       "    <tr>\n",
       "      <th>7</th>\n",
       "      <td>A. Morin</td>\n",
       "      <td>Sur del Lago</td>\n",
       "      <td>1315</td>\n",
       "      <td>2014</td>\n",
       "      <td>70%</td>\n",
       "      <td>France</td>\n",
       "      <td>3.50</td>\n",
       "      <td>Criollo</td>\n",
       "      <td>Venezuela</td>\n",
       "    </tr>\n",
       "    <tr>\n",
       "      <th>8</th>\n",
       "      <td>A. Morin</td>\n",
       "      <td>Puerto Cabello</td>\n",
       "      <td>1319</td>\n",
       "      <td>2014</td>\n",
       "      <td>70%</td>\n",
       "      <td>France</td>\n",
       "      <td>3.75</td>\n",
       "      <td>Criollo</td>\n",
       "      <td>Venezuela</td>\n",
       "    </tr>\n",
       "    <tr>\n",
       "      <th>9</th>\n",
       "      <td>A. Morin</td>\n",
       "      <td>Pablino</td>\n",
       "      <td>1319</td>\n",
       "      <td>2014</td>\n",
       "      <td>70%</td>\n",
       "      <td>France</td>\n",
       "      <td>4.00</td>\n",
       "      <td></td>\n",
       "      <td>Peru</td>\n",
       "    </tr>\n",
       "  </tbody>\n",
       "</table>\n",
       "</div>"
      ],
      "text/plain": [
       "  Company \\n(Maker-if known) Specific Bean Origin\\nor Bar Name   REF  \\\n",
       "0                   A. Morin                       Agua Grande  1876   \n",
       "1                   A. Morin                             Kpime  1676   \n",
       "2                   A. Morin                            Atsane  1676   \n",
       "3                   A. Morin                             Akata  1680   \n",
       "4                   A. Morin                            Quilla  1704   \n",
       "5                   A. Morin                          Carenero  1315   \n",
       "6                   A. Morin                              Cuba  1315   \n",
       "7                   A. Morin                      Sur del Lago  1315   \n",
       "8                   A. Morin                    Puerto Cabello  1319   \n",
       "9                   A. Morin                           Pablino  1319   \n",
       "\n",
       "   Review\\nDate Cocoa\\nPercent Company\\nLocation  Rating Bean\\nType  \\\n",
       "0          2016            63%            France    3.75              \n",
       "1          2015            70%            France    2.75              \n",
       "2          2015            70%            France    3.00              \n",
       "3          2015            70%            France    3.50              \n",
       "4          2015            70%            France    3.50              \n",
       "5          2014            70%            France    2.75    Criollo   \n",
       "6          2014            70%            France    3.50              \n",
       "7          2014            70%            France    3.50    Criollo   \n",
       "8          2014            70%            France    3.75    Criollo   \n",
       "9          2014            70%            France    4.00              \n",
       "\n",
       "  Broad Bean\\nOrigin  \n",
       "0           Sao Tome  \n",
       "1               Togo  \n",
       "2               Togo  \n",
       "3               Togo  \n",
       "4               Peru  \n",
       "5          Venezuela  \n",
       "6               Cuba  \n",
       "7          Venezuela  \n",
       "8          Venezuela  \n",
       "9               Peru  "
      ]
     },
     "execution_count": 36,
     "metadata": {},
     "output_type": "execute_result"
    }
   ],
   "source": [
    "# Type your code here\n",
    "# We can simply load all the data without specifying any parameters at this point\n",
    "\n",
    "chocolate = pd.read_csv('flavors_of_cacao.csv')\n",
    "chocolate.head(10)"
   ]
  },
  {
   "cell_type": "markdown",
   "metadata": {
    "id": "r30PqVeIqK1E"
   },
   "source": [
    "In order to answer the questions, all we can do is to use `info()` method to explore the dataset:"
   ]
  },
  {
   "cell_type": "code",
   "execution_count": null,
   "metadata": {
    "id": "4iy9PE7IlsOb"
   },
   "outputs": [],
   "source": [
    "chocolate.info()"
   ]
  },
  {
   "cell_type": "code",
   "execution_count": null,
   "metadata": {
    "id": "T-ICjsEzltzr"
   },
   "outputs": [],
   "source": [
    "# We can also use `.shape` attribute\n",
    "# it will output 2 numbers, the number of rows and number of columns\n",
    "# this will give us an answer to the first question only\n",
    "\n",
    "chocolate.shape"
   ]
  },
  {
   "cell_type": "markdown",
   "metadata": {
    "id": "kut_dSBDqSYC"
   },
   "source": [
    "Q1: How many entries are there in the dataset?\n",
    "\n",
    "Answer: There are 1795 entries in the dataset, we can see it from the second line: "
   ]
  },
  {
   "cell_type": "markdown",
   "metadata": {
    "id": "WSF4o4k7qVxz"
   },
   "source": [
    "```\n",
    "RangeIndex: 1795 entries, 0 to 1794\n",
    "```"
   ]
  },
  {
   "cell_type": "markdown",
   "metadata": {
    "id": "b4Gq3hb4qZ06"
   },
   "source": [
    "Q2: What is the `dtype` of the data in the `Rating` column?\n",
    "\n",
    "Answer: we can answer this question by looking at the output of the `info()` above. The `Rating` column has `float64` dtype. We can also retrieve information about this column as follows:"
   ]
  },
  {
   "cell_type": "code",
   "execution_count": null,
   "metadata": {
    "id": "ntDES0owltfv"
   },
   "outputs": [],
   "source": [
    "chocolate[['Rating']].info()"
   ]
  },
  {
   "cell_type": "code",
   "execution_count": null,
   "metadata": {
    "id": "xQ1vEV7iltGZ"
   },
   "outputs": [],
   "source": [
    "chocolate['Rating'].dtypes"
   ]
  },
  {
   "cell_type": "markdown",
   "metadata": {
    "id": "C5FsBvXIlxOi"
   },
   "source": [
    "**Task 2 -** In this task, we want to take a look at the header row of the `DataFrame` with column names. We also want to investigate \"Bean Type\" column.\n",
    "\n",
    "- Print out the column names. What can you tell about the format of the column names?\n",
    "- Update column names, assign names that are easy to work with. You can update all column names or only some of them, and you can assign any new names.\n",
    "- Explore \"Bean Type\" column. How many entries are there in this column? Are there any empty values?"
   ]
  },
  {
   "cell_type": "markdown",
   "metadata": {
    "id": "NrTvdPOXqihS"
   },
   "source": [
    "**Task 2**. Let's print out the names of the columns:"
   ]
  },
  {
   "cell_type": "code",
   "execution_count": null,
   "metadata": {
    "id": "Z-u-nFkvlxsK"
   },
   "outputs": [],
   "source": [
    "# Type your code here"
   ]
  },
  {
   "cell_type": "code",
   "execution_count": 35,
   "metadata": {
    "id": "IDj3CkhRl0FE"
   },
   "outputs": [
    {
     "ename": "NameError",
     "evalue": "name 'chocolate' is not defined",
     "output_type": "error",
     "traceback": [
      "\u001b[1;31m---------------------------------------------------------------------------\u001b[0m",
      "\u001b[1;31mNameError\u001b[0m                                 Traceback (most recent call last)",
      "Cell \u001b[1;32mIn[35], line 1\u001b[0m\n\u001b[1;32m----> 1\u001b[0m chocolate\u001b[38;5;241m.\u001b[39mcolumns\n",
      "\u001b[1;31mNameError\u001b[0m: name 'chocolate' is not defined"
     ]
    }
   ],
   "source": [
    "chocolate.columns"
   ]
  },
  {
   "cell_type": "markdown",
   "metadata": {
    "id": "AEE2W3kkqmot"
   },
   "source": [
    "You can see that almost every column name contains a special character, `\\n`, which is a newline character. Also, some of the column names are quite long, e.g. `'Company \\n(Maker-if known)'`. To simplify the data manipulation, we suggest renaming the columns:"
   ]
  },
  {
   "cell_type": "code",
   "execution_count": 40,
   "metadata": {
    "id": "Ud1s3YhPl1VQ"
   },
   "outputs": [
    {
     "data": {
      "text/html": [
       "<div>\n",
       "<style scoped>\n",
       "    .dataframe tbody tr th:only-of-type {\n",
       "        vertical-align: middle;\n",
       "    }\n",
       "\n",
       "    .dataframe tbody tr th {\n",
       "        vertical-align: top;\n",
       "    }\n",
       "\n",
       "    .dataframe thead th {\n",
       "        text-align: right;\n",
       "    }\n",
       "</style>\n",
       "<table border=\"1\" class=\"dataframe\">\n",
       "  <thead>\n",
       "    <tr style=\"text-align: right;\">\n",
       "      <th></th>\n",
       "      <th>Company \\n(Maker-if known)</th>\n",
       "      <th>Specific Bean Origin\\nor Bar Name</th>\n",
       "      <th>REF</th>\n",
       "      <th>Review\\nDate</th>\n",
       "      <th>Cocoa\\nPercent</th>\n",
       "      <th>Company\\nLocation</th>\n",
       "      <th>Rating</th>\n",
       "      <th>Bean\\nType</th>\n",
       "      <th>Broad Bean\\nOrigin</th>\n",
       "    </tr>\n",
       "  </thead>\n",
       "  <tbody>\n",
       "    <tr>\n",
       "      <th>0</th>\n",
       "      <td>A. Morin</td>\n",
       "      <td>Agua Grande</td>\n",
       "      <td>1876</td>\n",
       "      <td>2016</td>\n",
       "      <td>63%</td>\n",
       "      <td>France</td>\n",
       "      <td>3.75</td>\n",
       "      <td></td>\n",
       "      <td>Sao Tome</td>\n",
       "    </tr>\n",
       "    <tr>\n",
       "      <th>1</th>\n",
       "      <td>A. Morin</td>\n",
       "      <td>Kpime</td>\n",
       "      <td>1676</td>\n",
       "      <td>2015</td>\n",
       "      <td>70%</td>\n",
       "      <td>France</td>\n",
       "      <td>2.75</td>\n",
       "      <td></td>\n",
       "      <td>Togo</td>\n",
       "    </tr>\n",
       "    <tr>\n",
       "      <th>2</th>\n",
       "      <td>A. Morin</td>\n",
       "      <td>Atsane</td>\n",
       "      <td>1676</td>\n",
       "      <td>2015</td>\n",
       "      <td>70%</td>\n",
       "      <td>France</td>\n",
       "      <td>3.00</td>\n",
       "      <td></td>\n",
       "      <td>Togo</td>\n",
       "    </tr>\n",
       "    <tr>\n",
       "      <th>3</th>\n",
       "      <td>A. Morin</td>\n",
       "      <td>Akata</td>\n",
       "      <td>1680</td>\n",
       "      <td>2015</td>\n",
       "      <td>70%</td>\n",
       "      <td>France</td>\n",
       "      <td>3.50</td>\n",
       "      <td></td>\n",
       "      <td>Togo</td>\n",
       "    </tr>\n",
       "    <tr>\n",
       "      <th>4</th>\n",
       "      <td>A. Morin</td>\n",
       "      <td>Quilla</td>\n",
       "      <td>1704</td>\n",
       "      <td>2015</td>\n",
       "      <td>70%</td>\n",
       "      <td>France</td>\n",
       "      <td>3.50</td>\n",
       "      <td></td>\n",
       "      <td>Peru</td>\n",
       "    </tr>\n",
       "    <tr>\n",
       "      <th>5</th>\n",
       "      <td>A. Morin</td>\n",
       "      <td>Carenero</td>\n",
       "      <td>1315</td>\n",
       "      <td>2014</td>\n",
       "      <td>70%</td>\n",
       "      <td>France</td>\n",
       "      <td>2.75</td>\n",
       "      <td>Criollo</td>\n",
       "      <td>Venezuela</td>\n",
       "    </tr>\n",
       "    <tr>\n",
       "      <th>6</th>\n",
       "      <td>A. Morin</td>\n",
       "      <td>Cuba</td>\n",
       "      <td>1315</td>\n",
       "      <td>2014</td>\n",
       "      <td>70%</td>\n",
       "      <td>France</td>\n",
       "      <td>3.50</td>\n",
       "      <td></td>\n",
       "      <td>Cuba</td>\n",
       "    </tr>\n",
       "    <tr>\n",
       "      <th>7</th>\n",
       "      <td>A. Morin</td>\n",
       "      <td>Sur del Lago</td>\n",
       "      <td>1315</td>\n",
       "      <td>2014</td>\n",
       "      <td>70%</td>\n",
       "      <td>France</td>\n",
       "      <td>3.50</td>\n",
       "      <td>Criollo</td>\n",
       "      <td>Venezuela</td>\n",
       "    </tr>\n",
       "    <tr>\n",
       "      <th>8</th>\n",
       "      <td>A. Morin</td>\n",
       "      <td>Puerto Cabello</td>\n",
       "      <td>1319</td>\n",
       "      <td>2014</td>\n",
       "      <td>70%</td>\n",
       "      <td>France</td>\n",
       "      <td>3.75</td>\n",
       "      <td>Criollo</td>\n",
       "      <td>Venezuela</td>\n",
       "    </tr>\n",
       "    <tr>\n",
       "      <th>9</th>\n",
       "      <td>A. Morin</td>\n",
       "      <td>Pablino</td>\n",
       "      <td>1319</td>\n",
       "      <td>2014</td>\n",
       "      <td>70%</td>\n",
       "      <td>France</td>\n",
       "      <td>4.00</td>\n",
       "      <td></td>\n",
       "      <td>Peru</td>\n",
       "    </tr>\n",
       "  </tbody>\n",
       "</table>\n",
       "</div>"
      ],
      "text/plain": [
       "  Company \\n(Maker-if known) Specific Bean Origin\\nor Bar Name   REF  \\\n",
       "0                   A. Morin                       Agua Grande  1876   \n",
       "1                   A. Morin                             Kpime  1676   \n",
       "2                   A. Morin                            Atsane  1676   \n",
       "3                   A. Morin                             Akata  1680   \n",
       "4                   A. Morin                            Quilla  1704   \n",
       "5                   A. Morin                          Carenero  1315   \n",
       "6                   A. Morin                              Cuba  1315   \n",
       "7                   A. Morin                      Sur del Lago  1315   \n",
       "8                   A. Morin                    Puerto Cabello  1319   \n",
       "9                   A. Morin                           Pablino  1319   \n",
       "\n",
       "   Review\\nDate Cocoa\\nPercent Company\\nLocation  Rating Bean\\nType  \\\n",
       "0          2016            63%            France    3.75              \n",
       "1          2015            70%            France    2.75              \n",
       "2          2015            70%            France    3.00              \n",
       "3          2015            70%            France    3.50              \n",
       "4          2015            70%            France    3.50              \n",
       "5          2014            70%            France    2.75    Criollo   \n",
       "6          2014            70%            France    3.50              \n",
       "7          2014            70%            France    3.50    Criollo   \n",
       "8          2014            70%            France    3.75    Criollo   \n",
       "9          2014            70%            France    4.00              \n",
       "\n",
       "  Broad Bean\\nOrigin  \n",
       "0           Sao Tome  \n",
       "1               Togo  \n",
       "2               Togo  \n",
       "3               Togo  \n",
       "4               Peru  \n",
       "5          Venezuela  \n",
       "6               Cuba  \n",
       "7          Venezuela  \n",
       "8          Venezuela  \n",
       "9               Peru  "
      ]
     },
     "execution_count": 40,
     "metadata": {},
     "output_type": "execute_result"
    }
   ],
   "source": [
    "#chocolate.columns = ['company', 'bar_name', 'REF', 'review_date', 'cocoa_per', 'company_location', 'rating','bean_type', 'bean_origin']\n",
    "chocolate.rename(columns={'Company\\n(Maker-if known)':'Company'},inplace=True)\n",
    "chocolate.head(10)"
   ]
  },
  {
   "cell_type": "markdown",
   "metadata": {
    "id": "MaO8Pfu6qrJJ"
   },
   "source": [
    "The answer to the last question requires a little investigation. If you look at the output of the `info()` function, you will notice that there are 1974 entries in this column, but in the output of the `.head(10)` function we can see that only 3 out of 10 rows have values populated. This means that other rows contain some special characters which `pandas` treat as values. Let's pick a row and look closer at the `bean_type` value:"
   ]
  },
  {
   "cell_type": "code",
   "execution_count": null,
   "metadata": {
    "id": "faV7J9AFl1MG"
   },
   "outputs": [],
   "source": [
    "chocolate.bean_type[3]\n",
    "#chocolate.bean_type.info"
   ]
  },
  {
   "cell_type": "markdown",
   "metadata": {
    "id": "DxB-d0snqvZW"
   },
   "source": [
    "The `\\xa0` is a symbol for [non-breaking space](https://en.wikipedia.org/wiki/Non-breaking_space). We can check unique values in this column and see if there are other special characters in the data:"
   ]
  },
  {
   "cell_type": "code",
   "execution_count": null,
   "metadata": {
    "id": "hB_zNIEol04F"
   },
   "outputs": [],
   "source": [
    "chocolate.bean_type.unique()"
   ]
  },
  {
   "cell_type": "markdown",
   "metadata": {
    "id": "TJ5-sJjOqzNx"
   },
   "source": [
    "You will learn in the next lectures how to deal with the empty/missing values and how to clean your data and prepare it for further analysis. For now, we will provide you with a quick solution to clean `bean_type` column:"
   ]
  },
  {
   "cell_type": "code",
   "execution_count": null,
   "metadata": {
    "id": "hsqO78Hbl0rW"
   },
   "outputs": [],
   "source": [
    "import numpy as np\n",
    "\n",
    "chocolate.replace(u'\\xa0', np.nan, regex=True, inplace=True)\n",
    "#we cannot manually list out all the texts that we want to replace. So in those cases,\n",
    "#we use regular expressions (regex=True) to deal with such data having some pattern in it.\n"
   ]
  },
  {
   "cell_type": "code",
   "execution_count": null,
   "metadata": {},
   "outputs": [],
   "source": [
    "chocolate.head(10)"
   ]
  },
  {
   "cell_type": "code",
   "execution_count": null,
   "metadata": {},
   "outputs": [],
   "source": [
    "chocolate.info()"
   ]
  },
  {
   "cell_type": "markdown",
   "metadata": {
    "id": "hdV1y99Xq4Gm"
   },
   "source": [
    "We simply replaced the `'\\xa0'` character with `NaN` values. As you can see, now the `bean_type` column contains only 907 values.\n",
    "\n",
    "**NOTE**: The `u` character in front of the `'\\xa0'` indicates that we ask Python to treat this character as a Unicode string. For more information on Unicode please refer to Python Documentation [Unicode HOWTO](https://docs.python.org/3/howto/unicode.html).\n",
    "\n",
    "Another way to clean the non-breaking spaces from the data set is to use `na_values='\\xa0'` parameter in the `read_csv()` function and remove these special characters at the time we read the `.csv` file and create the `DataFrame`:"
   ]
  },
  {
   "cell_type": "code",
   "execution_count": null,
   "metadata": {
    "id": "qQZNrX14q4mY"
   },
   "outputs": [],
   "source": [
    "chocolate = pd.read_csv('flavors_of_cacao.csv', na_values='\\xa0')\n",
    "chocolate"
   ]
  },
  {
   "cell_type": "markdown",
   "metadata": {
    "id": "KxrGVMNtq7bV"
   },
   "source": [
    "You will learn more about Null values handling in the coming lectures."
   ]
  },
  {
   "cell_type": "code",
   "execution_count": null,
   "metadata": {
    "id": "moCTA7gPrCaw"
   },
   "outputs": [],
   "source": []
  }
 ],
 "metadata": {
  "colab": {
   "name": "Week03_Lab01_Sol.ipynb",
   "provenance": []
  },
  "kernelspec": {
   "display_name": "Python 3 (ipykernel)",
   "language": "python",
   "name": "python3"
  },
  "language_info": {
   "codemirror_mode": {
    "name": "ipython",
    "version": 3
   },
   "file_extension": ".py",
   "mimetype": "text/x-python",
   "name": "python",
   "nbconvert_exporter": "python",
   "pygments_lexer": "ipython3",
   "version": "3.11.4"
  }
 },
 "nbformat": 4,
 "nbformat_minor": 4
}
