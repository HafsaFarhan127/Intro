{
 "cells": [
  {
   "cell_type": "markdown",
   "metadata": {
    "id": "_xv1xmMqiBsU"
   },
   "source": [
    "## Introduction to Pandas"
   ]
  },
  {
   "cell_type": "markdown",
   "metadata": {
    "id": "OiktfOmMq5ka"
   },
   "source": [
    "#### **EXERCISE 1:** Introduction to Series"
   ]
  },
  {
   "cell_type": "markdown",
   "metadata": {
    "id": "u_1OlHZ0iVjr"
   },
   "source": [
    "To start working with pandas package, we will be importing it. Import Pandas in the cell below."
   ]
  },
  {
   "cell_type": "code",
   "execution_count": 1,
   "metadata": {
    "id": "sAdtUoGnerBi",
    "tags": []
   },
   "outputs": [],
   "source": [
    "#import the pandas library here\n",
    "import pandas as pd\n"
   ]
  },
  {
   "cell_type": "markdown",
   "metadata": {
    "id": "IpC5uHgLijh0"
   },
   "source": [
    "**Series** and **DataFrame** are two major data structures that we will explain in this session."
   ]
  },
  {
   "cell_type": "markdown",
   "metadata": {
    "id": "oO8rv-T7ixoQ"
   },
   "source": [
    "### Series"
   ]
  },
  {
   "cell_type": "markdown",
   "metadata": {
    "id": "xYOGzTori1WG"
   },
   "source": [
    "Pandas **Series** is *a one-dimensional array that can hold indexed data of any type (integers, strings, floating point numbers, Python objects, etc.)*. Series can be created using: \n",
    "\n",
    "* Python dictionary\n",
    "* NumPy ndarray (more on this later)\n",
    "* Scalar value\n",
    "* List\n",
    "\n",
    "By using the following list, create a pandas Series:"
   ]
  },
  {
   "cell_type": "markdown",
   "metadata": {
    "id": "BcR4u33cjLW0"
   },
   "source": [
    "list_ser = [45, 123, 67, 1, 14]"
   ]
  },
  {
   "cell_type": "code",
   "execution_count": 2,
   "metadata": {
    "id": "cWSxuXC2iqGR",
    "tags": []
   },
   "outputs": [
    {
     "name": "stdout",
     "output_type": "stream",
     "text": [
      "0     45\n",
      "1    123\n",
      "2     67\n",
      "3      1\n",
      "4     14\n",
      "dtype: int64\n"
     ]
    }
   ],
   "source": [
    "#Create a pandas series using the given list\n",
    "panda_serie=pd.Series([45, 123, 67, 1, 14])\n",
    "\n",
    "#below is another way to do the same\n",
    "list_ser=[45, 123, 67, 1, 14]\n",
    "list_ser=pd.Series(list_ser)\n",
    "print(list_ser)"
   ]
  },
  {
   "cell_type": "code",
   "execution_count": 3,
   "metadata": {
    "id": "SRZ5n_U5jbEx",
    "tags": []
   },
   "outputs": [
    {
     "name": "stdout",
     "output_type": "stream",
     "text": [
      "<class 'pandas.core.series.Series'>\n"
     ]
    }
   ],
   "source": [
    "#Check the type of created series\n",
    "print(type(list_ser))    #we can check the type  by using the normal python instruction,the oanda version for checking dtype is series_name.dtypes\n",
    "                        #columns in an dataframe not for series"
   ]
  },
  {
   "cell_type": "markdown",
   "metadata": {
    "id": "dtjhi4xVjsMF"
   },
   "source": [
    "Two columns will be displayed when you print the created series. Investigate column one. Check its values. After that create another pandas series with the same above given list but with ['Num1','Num2','Num3','Num4','Num5'] as indices, float as a data type, and \"Numbers\" as a name."
   ]
  },
  {
   "cell_type": "code",
   "execution_count": 4,
   "metadata": {
    "id": "_06jHpYElb-5",
    "tags": []
   },
   "outputs": [
    {
     "name": "stdout",
     "output_type": "stream",
     "text": [
      "Num1     45.0\n",
      "Num2    123.0\n",
      "Num3     67.0\n",
      "Num4      1.0\n",
      "Num5     14.0\n",
      "dtype: float64\n"
     ]
    }
   ],
   "source": [
    "list_ser=[45, 123, 67, 1, 14]\n",
    "Indice=['Num1','Num2','Num3','Num4','Num5']\n",
    "Numbers=pd.Series(list_ser,index=Indice,dtype=float)  #kinda like constructor for dframes,just we dont have columns\n",
    "print(Numbers)                                                   #if we remove the index= and dtype=;it still works\n",
    "\n",
    "#another way to do the same is use the series_name.index=[required indices] method."
   ]
  },
  {
   "cell_type": "markdown",
   "metadata": {
    "id": "E_ZyEc4tlfPx"
   },
   "source": [
    "Print the index of the new series."
   ]
  },
  {
   "cell_type": "code",
   "execution_count": 5,
   "metadata": {
    "id": "davej6x8ljiw",
    "tags": []
   },
   "outputs": [
    {
     "name": "stdout",
     "output_type": "stream",
     "text": [
      "Index(['Num1', 'Num2', 'Num3', 'Num4', 'Num5'], dtype='object')\n"
     ]
    }
   ],
   "source": [
    "print(Numbers.index)  #this method shows the index of series"
   ]
  },
  {
   "cell_type": "markdown",
   "metadata": {
    "id": "mJg11x4dlkBD"
   },
   "source": [
    "Print the values of the new series"
   ]
  },
  {
   "cell_type": "code",
   "execution_count": 6,
   "metadata": {
    "id": "zEv2LxoHlmIo",
    "tags": []
   },
   "outputs": [
    {
     "name": "stdout",
     "output_type": "stream",
     "text": [
      "45.0\n",
      "[ 45. 123.  67.   1.  14.]\n"
     ]
    }
   ],
   "source": [
    "print(Numbers['Num1'])#even 0 instead of Num1 would work but its slower;try it with a loop self hw\n",
    "print(Numbers.values) #another way to do it"
   ]
  },
  {
   "cell_type": "markdown",
   "metadata": {
    "id": "usHrUqTImkH6"
   },
   "source": [
    "In the next exercise we will create a `Series` from a dictionary. You will use population of the top 5 Canadian provinces (retrieved from [Statistics Canada](https://www150.statcan.gc.ca/n1/pub/12-581-x/2018000/pop-eng.htm) web site, the 2017 column of data has been used):"
   ]
  },
  {
   "cell_type": "code",
   "execution_count": 7,
   "metadata": {
    "id": "A4mKcS9inABP",
    "tags": []
   },
   "outputs": [],
   "source": [
    "population_dict = {'ON': 14193384, 'QC': 8394034, 'BC': 4817160, 'AB': 4286134, 'MB': 1338109}"
   ]
  },
  {
   "cell_type": "code",
   "execution_count": 8,
   "metadata": {
    "id": "Of-FtwwfnI0n",
    "tags": []
   },
   "outputs": [],
   "source": [
    "#Create a pandas series using the given above dictionary\n",
    "dict_ser=pd.Series(population_dict)"
   ]
  },
  {
   "cell_type": "code",
   "execution_count": 9,
   "metadata": {
    "id": "HTOkqhrznQKx",
    "tags": []
   },
   "outputs": [
    {
     "name": "stdout",
     "output_type": "stream",
     "text": [
      "ON    14193384\n",
      "QC     8394034\n",
      "BC     4817160\n",
      "AB     4286134\n",
      "MB     1338109\n",
      "dtype: int64\n"
     ]
    }
   ],
   "source": [
    "#print out the newly created series.\n",
    "print(dict_ser) #when putting a dict,notice that the keys automatically become indices,so the series index method would return keys of dict\n"
   ]
  },
  {
   "cell_type": "markdown",
   "metadata": {
    "id": "s-a0KsXAnuai"
   },
   "source": [
    "Determine the indices and the values.\n",
    "Are the indices sorted by default. What if you want the indices to be sorted by population?"
   ]
  },
  {
   "cell_type": "markdown",
   "metadata": {
    "id": "pqxck39Cnt0g"
   },
   "source": [
    "#Recreate the series, but this time sort the indices by poplution of the provinces."
   ]
  },
  {
   "cell_type": "code",
   "execution_count": 10,
   "metadata": {
    "id": "vqF2Bk2borCP",
    "tags": []
   },
   "outputs": [
    {
     "name": "stdout",
     "output_type": "stream",
     "text": [
      "ON    14193384\n",
      "QC     8394034\n",
      "BC     4817160\n",
      "AB     4286134\n",
      "MB     1338109\n",
      "dtype: int64\n"
     ]
    }
   ],
   "source": [
    "print(dict_ser.sort_values(ascending=False)) #by making ascending false we sort from biggest to smallest,also other stuff we can do with this sort_values method"
   ]
  },
  {
   "cell_type": "markdown",
   "metadata": {
    "id": "0MZiDwtGotPb"
   },
   "source": [
    "We can use the index to select values from a Series. Answer the following questions."
   ]
  },
  {
   "cell_type": "code",
   "execution_count": 11,
   "metadata": {
    "id": "LRoacLPko3AH",
    "tags": []
   },
   "outputs": [
    {
     "name": "stdout",
     "output_type": "stream",
     "text": [
      "14193384\n"
     ]
    }
   ],
   "source": [
    "# Population of Ontario\n",
    "print(dict_ser['ON'])"
   ]
  },
  {
   "cell_type": "code",
   "execution_count": 12,
   "metadata": {
    "id": "C-iy1BQdo8WX",
    "tags": []
   },
   "outputs": [
    {
     "data": {
      "text/plain": [
       "ON    14193384\n",
       "QC     8394034\n",
       "dtype: int64"
      ]
     },
     "execution_count": 12,
     "metadata": {},
     "output_type": "execute_result"
    }
   ],
   "source": [
    "# Selecting only provinces with population greater than 5 million.\n",
    "# This type of selection is called boolean indexing:\n",
    "#for i in dict_ser: #print(dict_ser.index(i),i)   #i is the value not the index if we did the loop method\n",
    "dict_ser.loc[dict_ser>5000000] #using the loc methodto just output the required stuff,we can also use a mask\n",
    "   \n",
    "       \n",
    "        "
   ]
  },
  {
   "cell_type": "code",
   "execution_count": 13,
   "metadata": {
    "id": "gKsqPXUeo_7f",
    "tags": []
   },
   "outputs": [
    {
     "name": "stdout",
     "output_type": "stream",
     "text": [
      "BC    4817160\n",
      "AB    4286134\n",
      "dtype: int64\n"
     ]
    }
   ],
   "source": [
    "# Entries with index positions of 2 and 3, should return British Columbia and Alberta: (Use the integer position as an index key)\n",
    "print(dict_ser[2:4])"
   ]
  },
  {
   "cell_type": "code",
   "execution_count": 14,
   "metadata": {
    "id": "G6KEpdLypESv"
   },
   "outputs": [],
   "source": [
    "# The result of this command should be 3 provinces,\n",
    "# British Columbia, Alberta and Manitoba (use the strings as indices)"
   ]
  },
  {
   "cell_type": "code",
   "execution_count": 15,
   "metadata": {
    "id": "2tm5JVtep06_",
    "tags": []
   },
   "outputs": [
    {
     "name": "stdout",
     "output_type": "stream",
     "text": [
      "BC    4817160\n",
      "AB    4286134\n",
      "MB    1338109\n",
      "dtype: int64\n"
     ]
    }
   ],
   "source": [
    "print(dict_ser['BC':'MB']) #another way to slice"
   ]
  },
  {
   "cell_type": "markdown",
   "metadata": {
    "id": "GYauzBnOqDov"
   },
   "source": [
    "Check if Quebec is within the top 5 provinces (by population):"
   ]
  },
  {
   "cell_type": "code",
   "execution_count": 16,
   "metadata": {
    "id": "T8f6feEoqFdn"
   },
   "outputs": [
    {
     "name": "stdout",
     "output_type": "stream",
     "text": [
      " Quebec is within the top 5 provinces\n"
     ]
    }
   ],
   "source": [
    "if 'QC' in dict_ser.index:\n",
    "    print(' Quebec is within the top 5 provinces')"
   ]
  },
  {
   "cell_type": "markdown",
   "metadata": {
    "id": "3mw3D2_JqINA"
   },
   "source": [
    "And what about Nova Scotia:"
   ]
  },
  {
   "cell_type": "code",
   "execution_count": 17,
   "metadata": {
    "id": "WXUuwxQDqKr_"
   },
   "outputs": [
    {
     "name": "stdout",
     "output_type": "stream",
     "text": [
      "Nope\n"
     ]
    }
   ],
   "source": [
    "if 'NS' in dict_ser.index:\n",
    "    print(' Nova Scotia is within the top 5 provinces')\n",
    "else:\n",
    "    print('Nope')"
   ]
  },
  {
   "cell_type": "markdown",
   "metadata": {
    "id": "L_gZN-TaqTPj"
   },
   "source": [
    "Use a built-in function to find the sum of all elements in the above created series"
   ]
  },
  {
   "cell_type": "code",
   "execution_count": 18,
   "metadata": {
    "id": "CHUX0MxGql-X"
   },
   "outputs": [
    {
     "name": "stdout",
     "output_type": "stream",
     "text": [
      "33028821\n"
     ]
    }
   ],
   "source": [
    "print(dict_ser.sum())  #dont forget the brackets after the method\n"
   ]
  },
  {
   "cell_type": "markdown",
   "metadata": {
    "id": "khBl8VgXqmiz"
   },
   "source": [
    "What about the mean?"
   ]
  },
  {
   "cell_type": "code",
   "execution_count": 19,
   "metadata": {
    "id": "wjPzqwvZqoen"
   },
   "outputs": [
    {
     "name": "stdout",
     "output_type": "stream",
     "text": [
      "6605764.2\n"
     ]
    }
   ],
   "source": [
    "print(dict_ser.mean())"
   ]
  },
  {
   "cell_type": "markdown",
   "metadata": {
    "id": "r9oe0DrSqub4"
   },
   "source": [
    "#### **EXERCISE 2:** Series manipulation "
   ]
  },
  {
   "cell_type": "markdown",
   "metadata": {
    "id": "suU301DrrJeX"
   },
   "source": [
    "**Task 1**: Create a new `Series` object which will contain population of Nova Scotia and New Brunswick. Use the data from the [Statistics Canada website](https://www150.statcan.gc.ca/n1/pub/12-581-x/2018000/pop-eng.htm)."
   ]
  },
  {
   "cell_type": "code",
   "execution_count": 20,
   "metadata": {
    "id": "MOS55woirJJC"
   },
   "outputs": [],
   "source": [
    "# Type your code here"
   ]
  },
  {
   "cell_type": "code",
   "execution_count": 21,
   "metadata": {
    "id": "HQW0HkU1q3uH"
   },
   "outputs": [],
   "source": [
    "new_places_dict = {'NS':953869,'NB':759655}\n"
   ]
  },
  {
   "cell_type": "code",
   "execution_count": 22,
   "metadata": {
    "id": "1A3Xx4nFrOF7"
   },
   "outputs": [],
   "source": [
    "new_places_ser=pd.Series(new_places_dict)\n",
    "trial_ser=pd.Series(['hi','hello','cat'])"
   ]
  },
  {
   "cell_type": "code",
   "execution_count": 23,
   "metadata": {
    "id": "KQS44M5orN4G"
   },
   "outputs": [
    {
     "name": "stdout",
     "output_type": "stream",
     "text": [
      "NS    953869\n",
      "NB    759655\n",
      "dtype: int64\n",
      "0       hi\n",
      "1    hello\n",
      "2      cat\n",
      "dtype: object\n"
     ]
    }
   ],
   "source": [
    "print(new_places_ser)\n",
    "print(trial_ser)#notice when we create the series from dict,the keys are automatically made index"
   ]
  },
  {
   "cell_type": "markdown",
   "metadata": {
    "id": "kCPiuvPyrOmM"
   },
   "source": [
    "**Task 2:** Merge your new `Series` and the `provinces_population` into a single `Series` object. Use the [`append()` function](https://pandas.pydata.org/pandas-docs/stable/generated/pandas.Series.append.html)"
   ]
  },
  {
   "cell_type": "code",
   "execution_count": 24,
   "metadata": {
    "id": "d754brXsrQ0V"
   },
   "outputs": [],
   "source": [
    "# Type your code here"
   ]
  },
  {
   "cell_type": "code",
   "execution_count": 25,
   "metadata": {
    "id": "i6FGmHh5rUAT"
   },
   "outputs": [
    {
     "name": "stderr",
     "output_type": "stream",
     "text": [
      "C:\\Users\\hafsa\\AppData\\Local\\Temp\\ipykernel_12748\\1695590341.py:1: FutureWarning: The series.append method is deprecated and will be removed from pandas in a future version. Use pandas.concat instead.\n",
      "  final_series=dict_ser.append(new_places_ser)  #where the dict_ser is the series of provinces_population\n"
     ]
    }
   ],
   "source": [
    "final_series=dict_ser.append(new_places_ser)  #where the dict_ser is the series of provinces_population"
   ]
  },
  {
   "cell_type": "code",
   "execution_count": 26,
   "metadata": {
    "id": "cKc5z4ENrT1l"
   },
   "outputs": [
    {
     "name": "stdout",
     "output_type": "stream",
     "text": [
      "ON    14193384\n",
      "QC     8394034\n",
      "BC     4817160\n",
      "AB     4286134\n",
      "MB     1338109\n",
      "NS      953869\n",
      "NB      759655\n",
      "dtype: int64\n"
     ]
    }
   ],
   "source": [
    "print(final_series) #from the append it prints here"
   ]
  },
  {
   "cell_type": "code",
   "execution_count": null,
   "metadata": {
    "id": "l3xtTRGarTh_"
   },
   "outputs": [],
   "source": []
  },
  {
   "cell_type": "code",
   "execution_count": null,
   "metadata": {
    "id": "i2KvXVEqrTPh"
   },
   "outputs": [],
   "source": []
  },
  {
   "cell_type": "markdown",
   "metadata": {
    "id": "zcVBffeor7oN"
   },
   "source": [
    "### DataFrames"
   ]
  },
  {
   "cell_type": "markdown",
   "metadata": {
    "id": "vO6Dsb-MsAs0"
   },
   "source": [
    "A pandas **DataFrame** is a *2-dimensional tabular data structure with labeled columns and rows*. Columns in `DataFrame` can be of different data types. \n",
    "\n",
    "You can think of a `DataFrame` as a group of `pandas` `Series` where each `Series` represents a column of data. You can also think of a `DataFrame` as a collection of columns with the same index rather than a collection of rows. This view will also help in understanding some of `pandas` `DataFrame` functionality."
   ]
  },
  {
   "cell_type": "markdown",
   "metadata": {
    "id": "pRYjBJwJsEwc"
   },
   "source": [
    "#### Creating a DataFrame"
   ]
  },
  {
   "cell_type": "markdown",
   "metadata": {
    "id": "1kFshErRsJ84"
   },
   "source": [
    "A `DataFrame` can be created from:\n",
    "\n",
    "- Dictionary of 1-D structures (`ndarray`s, `list`s, dictionaries, tuples or `Series`)\n",
    "- List of 1-D structures\n",
    "- 2-D NumPy `ndarray`\n",
    "- A `Series`\n",
    "- Another `DataFrame`\n",
    "\n",
    "Create a `DataFrame` from the my_data and my_columns:"
   ]
  },
  {
   "cell_type": "code",
   "execution_count": 27,
   "metadata": {
    "id": "63iF4y0ar-hm"
   },
   "outputs": [],
   "source": [
    "my_data = [[8, 128, 27.5], [10, 138.9, 34.5], [16, 157.3, 91.1], [6, 116.6, 21.4], [14, 159.2, 54.4]]\n",
    "my_columns = ['Age', 'Height', 'Weight']"
   ]
  },
  {
   "cell_type": "code",
   "execution_count": 28,
   "metadata": {
    "id": "EFvMheIZtGSC"
   },
   "outputs": [
    {
     "name": "stdout",
     "output_type": "stream",
     "text": [
      "   Age  Height  Weight\n",
      "0    8   128.0    27.5\n",
      "1   10   138.9    34.5\n",
      "2   16   157.3    91.1\n",
      "3    6   116.6    21.4\n",
      "4   14   159.2    54.4\n"
     ]
    }
   ],
   "source": [
    "# Type your code here\n",
    "df=pd.DataFrame(my_data,columns=my_columns)  #the index will be by default,the emthod in lecture for df is reading from a file\n",
    "print(df)"
   ]
  },
  {
   "cell_type": "markdown",
   "metadata": {
    "id": "h5BFCWXKtQWw"
   },
   "source": [
    "Use info() function to output the summary information about the DataFrame"
   ]
  },
  {
   "cell_type": "code",
   "execution_count": 29,
   "metadata": {
    "id": "04u0wjq5tKNP"
   },
   "outputs": [
    {
     "name": "stdout",
     "output_type": "stream",
     "text": [
      "<class 'pandas.core.frame.DataFrame'>\n",
      "RangeIndex: 5 entries, 0 to 4\n",
      "Data columns (total 3 columns):\n",
      " #   Column  Non-Null Count  Dtype  \n",
      "---  ------  --------------  -----  \n",
      " 0   Age     5 non-null      int64  \n",
      " 1   Height  5 non-null      float64\n",
      " 2   Weight  5 non-null      float64\n",
      "dtypes: float64(2), int64(1)\n",
      "memory usage: 252.0 bytes\n",
      "None\n"
     ]
    }
   ],
   "source": [
    "print(df.info())"
   ]
  },
  {
   "cell_type": "markdown",
   "metadata": {
    "id": "TzogJ3VZtZ2E"
   },
   "source": [
    "Examine the DataFrame's indices:"
   ]
  },
  {
   "cell_type": "code",
   "execution_count": 30,
   "metadata": {
    "id": "0DGacsMCtpXO"
   },
   "outputs": [
    {
     "name": "stdout",
     "output_type": "stream",
     "text": [
      "RangeIndex(start=0, stop=5, step=1)\n"
     ]
    }
   ],
   "source": [
    "# Index labels\n",
    "print(df.index) #gives info about the type of index,see the example below when the index are str\n"
   ]
  },
  {
   "cell_type": "markdown",
   "metadata": {
    "id": "tPBkziFStuy9"
   },
   "source": [
    "Examine the DataFrame's columns:"
   ]
  },
  {
   "cell_type": "code",
   "execution_count": 31,
   "metadata": {
    "id": "0BA-hjOjtr0e"
   },
   "outputs": [
    {
     "name": "stdout",
     "output_type": "stream",
     "text": [
      "Index(['Age', 'Height', 'Weight'], dtype='object')\n"
     ]
    }
   ],
   "source": [
    "print(df.columns)"
   ]
  },
  {
   "cell_type": "markdown",
   "metadata": {
    "id": "6IW7KE8bt6jA"
   },
   "source": [
    " Create a DataFrame from a dictionary.\n",
    " Given the following dictionary. Create a dataframe."
   ]
  },
  {
   "cell_type": "code",
   "execution_count": 32,
   "metadata": {
    "id": "8_ZfG-gYuNRt"
   },
   "outputs": [],
   "source": [
    "area = {'province':['ON', 'QC', 'BC', 'AB', 'MB'],\n",
    "        'area_land': [917741, 1356128, 925186, 642317, 553556],\n",
    "        'area_water': [158654, 185928, 19549, 19531, 94241]}"
   ]
  },
  {
   "cell_type": "code",
   "execution_count": 33,
   "metadata": {
    "id": "0yDuMw-FuO_d"
   },
   "outputs": [
    {
     "name": "stdout",
     "output_type": "stream",
     "text": [
      "  province  area_land  area_water\n",
      "0       ON     917741      158654\n",
      "1       QC    1356128      185928\n",
      "2       BC     925186       19549\n",
      "3       AB     642317       19531\n",
      "4       MB     553556       94241\n"
     ]
    }
   ],
   "source": [
    "dict_df=pd.DataFrame(area)\n",
    "print(dict_df)\n"
   ]
  },
  {
   "cell_type": "markdown",
   "metadata": {
    "id": "gJFXiAqCuTih"
   },
   "source": [
    "Set province to be an index for this DataFrame."
   ]
  },
  {
   "cell_type": "code",
   "execution_count": 34,
   "metadata": {
    "id": "3heKfJXBuaw2"
   },
   "outputs": [
    {
     "name": "stdout",
     "output_type": "stream",
     "text": [
      "    area_land  area_water\n",
      "ON     917741      158654\n",
      "QC    1356128      185928\n",
      "BC     925186       19549\n",
      "AB     642317       19531\n",
      "MB     553556       94241\n",
      "Index(['ON', 'QC', 'BC', 'AB', 'MB'], dtype='object')\n"
     ]
    }
   ],
   "source": [
    "\n",
    "dict_df=pd.DataFrame(area,index=area['province'],columns=['area_land','area_water']) #this is accessing keys and setting custom cols,by default the keys become columns and values become rows \n",
    "print(dict_df)                                                                   #we can also set custom rows thru index \n",
    "print(dict_df.index)\n"
   ]
  },
  {
   "cell_type": "code",
   "execution_count": 35,
   "metadata": {},
   "outputs": [],
   "source": [
    "#ANOTHER WAY OF DOING THE SAME PROBLEM"
   ]
  },
  {
   "cell_type": "code",
   "execution_count": 36,
   "metadata": {
    "id": "3heKfJXBuaw2"
   },
   "outputs": [
    {
     "name": "stdout",
     "output_type": "stream",
     "text": [
      "    area_land  area_water\n",
      "ON     917741      158654\n",
      "QC    1356128      185928\n",
      "BC     925186       19549\n",
      "AB     642317       19531\n",
      "MB     553556       94241\n"
     ]
    }
   ],
   "source": [
    "# Syntax of from_dict()\n",
    "#DataFrame.from_dict(data, orient='columns', dtype=None, columns=None)\n",
    "\n",
    "anotherMethod_df=pd.DataFrame.from_dict(area,orient='index') #this is another method for dicts,by setting the orient as index or columns we can make the keys rows or cols \n",
    "print(dict_df)                                                                   \n"
   ]
  },
  {
   "cell_type": "markdown",
   "metadata": {
    "id": "_adndr-QumA4"
   },
   "source": [
    "### Loading/Saving DataFrames\n",
    "\n",
    "During your career as a data scientists, you will be analysing the data that will come from different systems, you will receive the data stored in many different formats. Some datasets will be stored in `csv` format or as plain text (`.txt` or no extension plain text), data will be in Excel files (i.e., `.xlsx `), sometimes it will be even stored as documents in `.doc` or `.pdf` formats. You will be retrieving the data from relational and noSQL datastores. \n",
    "\n",
    "Most of the time, regardless of the source of the data and its current format, one of the first steps in the data analysis would be to load the data into a `pandas` `DataFrame` and perform exploratory analysis.\n",
    "\n",
    "In this section, we will learn how to read the data stored in `.csv` format and load it into a `DataFrame`. We will also learn how to save a `DataFrame` to `.csv` format after the processing of the data is complete."
   ]
  },
  {
   "cell_type": "markdown",
   "metadata": {
    "id": "3w4yR3B9b2-7"
   },
   "source": [
    "#### Loading DataFrames\n",
    "\n",
    "For this exercise, we will continue looking into the data that describes Canadian provinces. This time, we will use the data of the last 3 years of [Federal Support to all Canadian Provinces and Territories](https://www.fin.gc.ca/fedprov/mtp-eng.asp). All numbers are in millions of dollars.\n",
    "\n",
    "Pandas has a `read_csv()` function which we will use. There are quite a few parameters that can be specified to either filter out the characters or even lines within the file which are not relevant or make sure that the data is read in a proper format. For example, by default, the `read_csv()` function expects the column separator to be a comma, but you can change that using the `sep=` parameter, or you can skip rows with `skiprows=` parameter. A complete list of all parameter can be found on the corresponding documentation page for [`read_csv()` function](https://pandas.pydata.org/pandas-docs/stable/generated/pandas.read_csv.html).\n",
    "\n",
    "The dataset that we are planning to use in this section is stored in the `pandas_ex1.csv` file, we assume that the file is in the same folder as the notebook working directory. You can open the file in any text editor, which you have installed on your system, and validate the data. The first six rows will look as follows: "
   ]
  },
  {
   "cell_type": "markdown",
   "metadata": {
    "id": "MIUFPc8cb_uB"
   },
   "source": [
    "```\n",
    "Canadian Provinces and Territories,Two-Letter Abbreviation,2016-17,2017-18,2018-19\n",
    "Newfoundland and Labrador,NL,724,734,750\n",
    "Prince Edward Island,PE,584,601,638\n",
    "Nova Scotia,NS,3060,3138,3201\n",
    "New Brunswick,NB,2741,2814,2956\n",
    "Quebec,QC,21372,22720,23749\n",
    "```"
   ]
  },
  {
   "cell_type": "markdown",
   "metadata": {
    "id": "MuDydC4lcCM3"
   },
   "source": [
    "As you can see, the data is formatted perfectly, it contains what looks like a header row and the fields are separated by comma. In this case, we can simply specify the name of the file, and have only one more parameter, separator `sep=`, to make sure that the Python interpreter reads the data correctly:"
   ]
  },
  {
   "cell_type": "code",
   "execution_count": 37,
   "metadata": {
    "colab": {
     "base_uri": "https://localhost:8080/",
     "height": 208
    },
    "id": "8u2iQqNjurfV",
    "outputId": "395b7921-7634-4e20-d64d-6ea4d711bfcb"
   },
   "outputs": [
    {
     "ename": "FileNotFoundError",
     "evalue": "[Errno 2] No such file or directory: 'pandas_ex1.csv'",
     "output_type": "error",
     "traceback": [
      "\u001b[1;31m---------------------------------------------------------------------------\u001b[0m",
      "\u001b[1;31mFileNotFoundError\u001b[0m                         Traceback (most recent call last)",
      "Cell \u001b[1;32mIn[37], line 2\u001b[0m\n\u001b[0;32m      1\u001b[0m \u001b[38;5;66;03m# Reading a csv\u001b[39;00m\n\u001b[1;32m----> 2\u001b[0m prov_support \u001b[38;5;241m=\u001b[39m pd\u001b[38;5;241m.\u001b[39mread_csv(\u001b[38;5;124m'\u001b[39m\u001b[38;5;124mpandas_ex1.csv\u001b[39m\u001b[38;5;124m'\u001b[39m, sep\u001b[38;5;241m=\u001b[39m\u001b[38;5;124m'\u001b[39m\u001b[38;5;124m,\u001b[39m\u001b[38;5;124m'\u001b[39m) \n\u001b[0;32m      3\u001b[0m prov_support\n",
      "File \u001b[1;32m~\\anaconda3\\Lib\\site-packages\\pandas\\util\\_decorators.py:211\u001b[0m, in \u001b[0;36mdeprecate_kwarg.<locals>._deprecate_kwarg.<locals>.wrapper\u001b[1;34m(*args, **kwargs)\u001b[0m\n\u001b[0;32m    209\u001b[0m     \u001b[38;5;28;01melse\u001b[39;00m:\n\u001b[0;32m    210\u001b[0m         kwargs[new_arg_name] \u001b[38;5;241m=\u001b[39m new_arg_value\n\u001b[1;32m--> 211\u001b[0m \u001b[38;5;28;01mreturn\u001b[39;00m func(\u001b[38;5;241m*\u001b[39margs, \u001b[38;5;241m*\u001b[39m\u001b[38;5;241m*\u001b[39mkwargs)\n",
      "File \u001b[1;32m~\\anaconda3\\Lib\\site-packages\\pandas\\util\\_decorators.py:331\u001b[0m, in \u001b[0;36mdeprecate_nonkeyword_arguments.<locals>.decorate.<locals>.wrapper\u001b[1;34m(*args, **kwargs)\u001b[0m\n\u001b[0;32m    325\u001b[0m \u001b[38;5;28;01mif\u001b[39;00m \u001b[38;5;28mlen\u001b[39m(args) \u001b[38;5;241m>\u001b[39m num_allow_args:\n\u001b[0;32m    326\u001b[0m     warnings\u001b[38;5;241m.\u001b[39mwarn(\n\u001b[0;32m    327\u001b[0m         msg\u001b[38;5;241m.\u001b[39mformat(arguments\u001b[38;5;241m=\u001b[39m_format_argument_list(allow_args)),\n\u001b[0;32m    328\u001b[0m         \u001b[38;5;167;01mFutureWarning\u001b[39;00m,\n\u001b[0;32m    329\u001b[0m         stacklevel\u001b[38;5;241m=\u001b[39mfind_stack_level(),\n\u001b[0;32m    330\u001b[0m     )\n\u001b[1;32m--> 331\u001b[0m \u001b[38;5;28;01mreturn\u001b[39;00m func(\u001b[38;5;241m*\u001b[39margs, \u001b[38;5;241m*\u001b[39m\u001b[38;5;241m*\u001b[39mkwargs)\n",
      "File \u001b[1;32m~\\anaconda3\\Lib\\site-packages\\pandas\\io\\parsers\\readers.py:950\u001b[0m, in \u001b[0;36mread_csv\u001b[1;34m(filepath_or_buffer, sep, delimiter, header, names, index_col, usecols, squeeze, prefix, mangle_dupe_cols, dtype, engine, converters, true_values, false_values, skipinitialspace, skiprows, skipfooter, nrows, na_values, keep_default_na, na_filter, verbose, skip_blank_lines, parse_dates, infer_datetime_format, keep_date_col, date_parser, dayfirst, cache_dates, iterator, chunksize, compression, thousands, decimal, lineterminator, quotechar, quoting, doublequote, escapechar, comment, encoding, encoding_errors, dialect, error_bad_lines, warn_bad_lines, on_bad_lines, delim_whitespace, low_memory, memory_map, float_precision, storage_options)\u001b[0m\n\u001b[0;32m    935\u001b[0m kwds_defaults \u001b[38;5;241m=\u001b[39m _refine_defaults_read(\n\u001b[0;32m    936\u001b[0m     dialect,\n\u001b[0;32m    937\u001b[0m     delimiter,\n\u001b[1;32m   (...)\u001b[0m\n\u001b[0;32m    946\u001b[0m     defaults\u001b[38;5;241m=\u001b[39m{\u001b[38;5;124m\"\u001b[39m\u001b[38;5;124mdelimiter\u001b[39m\u001b[38;5;124m\"\u001b[39m: \u001b[38;5;124m\"\u001b[39m\u001b[38;5;124m,\u001b[39m\u001b[38;5;124m\"\u001b[39m},\n\u001b[0;32m    947\u001b[0m )\n\u001b[0;32m    948\u001b[0m kwds\u001b[38;5;241m.\u001b[39mupdate(kwds_defaults)\n\u001b[1;32m--> 950\u001b[0m \u001b[38;5;28;01mreturn\u001b[39;00m _read(filepath_or_buffer, kwds)\n",
      "File \u001b[1;32m~\\anaconda3\\Lib\\site-packages\\pandas\\io\\parsers\\readers.py:605\u001b[0m, in \u001b[0;36m_read\u001b[1;34m(filepath_or_buffer, kwds)\u001b[0m\n\u001b[0;32m    602\u001b[0m _validate_names(kwds\u001b[38;5;241m.\u001b[39mget(\u001b[38;5;124m\"\u001b[39m\u001b[38;5;124mnames\u001b[39m\u001b[38;5;124m\"\u001b[39m, \u001b[38;5;28;01mNone\u001b[39;00m))\n\u001b[0;32m    604\u001b[0m \u001b[38;5;66;03m# Create the parser.\u001b[39;00m\n\u001b[1;32m--> 605\u001b[0m parser \u001b[38;5;241m=\u001b[39m TextFileReader(filepath_or_buffer, \u001b[38;5;241m*\u001b[39m\u001b[38;5;241m*\u001b[39mkwds)\n\u001b[0;32m    607\u001b[0m \u001b[38;5;28;01mif\u001b[39;00m chunksize \u001b[38;5;129;01mor\u001b[39;00m iterator:\n\u001b[0;32m    608\u001b[0m     \u001b[38;5;28;01mreturn\u001b[39;00m parser\n",
      "File \u001b[1;32m~\\anaconda3\\Lib\\site-packages\\pandas\\io\\parsers\\readers.py:1442\u001b[0m, in \u001b[0;36mTextFileReader.__init__\u001b[1;34m(self, f, engine, **kwds)\u001b[0m\n\u001b[0;32m   1439\u001b[0m     \u001b[38;5;28mself\u001b[39m\u001b[38;5;241m.\u001b[39moptions[\u001b[38;5;124m\"\u001b[39m\u001b[38;5;124mhas_index_names\u001b[39m\u001b[38;5;124m\"\u001b[39m] \u001b[38;5;241m=\u001b[39m kwds[\u001b[38;5;124m\"\u001b[39m\u001b[38;5;124mhas_index_names\u001b[39m\u001b[38;5;124m\"\u001b[39m]\n\u001b[0;32m   1441\u001b[0m \u001b[38;5;28mself\u001b[39m\u001b[38;5;241m.\u001b[39mhandles: IOHandles \u001b[38;5;241m|\u001b[39m \u001b[38;5;28;01mNone\u001b[39;00m \u001b[38;5;241m=\u001b[39m \u001b[38;5;28;01mNone\u001b[39;00m\n\u001b[1;32m-> 1442\u001b[0m \u001b[38;5;28mself\u001b[39m\u001b[38;5;241m.\u001b[39m_engine \u001b[38;5;241m=\u001b[39m \u001b[38;5;28mself\u001b[39m\u001b[38;5;241m.\u001b[39m_make_engine(f, \u001b[38;5;28mself\u001b[39m\u001b[38;5;241m.\u001b[39mengine)\n",
      "File \u001b[1;32m~\\anaconda3\\Lib\\site-packages\\pandas\\io\\parsers\\readers.py:1735\u001b[0m, in \u001b[0;36mTextFileReader._make_engine\u001b[1;34m(self, f, engine)\u001b[0m\n\u001b[0;32m   1733\u001b[0m     \u001b[38;5;28;01mif\u001b[39;00m \u001b[38;5;124m\"\u001b[39m\u001b[38;5;124mb\u001b[39m\u001b[38;5;124m\"\u001b[39m \u001b[38;5;129;01mnot\u001b[39;00m \u001b[38;5;129;01min\u001b[39;00m mode:\n\u001b[0;32m   1734\u001b[0m         mode \u001b[38;5;241m+\u001b[39m\u001b[38;5;241m=\u001b[39m \u001b[38;5;124m\"\u001b[39m\u001b[38;5;124mb\u001b[39m\u001b[38;5;124m\"\u001b[39m\n\u001b[1;32m-> 1735\u001b[0m \u001b[38;5;28mself\u001b[39m\u001b[38;5;241m.\u001b[39mhandles \u001b[38;5;241m=\u001b[39m get_handle(\n\u001b[0;32m   1736\u001b[0m     f,\n\u001b[0;32m   1737\u001b[0m     mode,\n\u001b[0;32m   1738\u001b[0m     encoding\u001b[38;5;241m=\u001b[39m\u001b[38;5;28mself\u001b[39m\u001b[38;5;241m.\u001b[39moptions\u001b[38;5;241m.\u001b[39mget(\u001b[38;5;124m\"\u001b[39m\u001b[38;5;124mencoding\u001b[39m\u001b[38;5;124m\"\u001b[39m, \u001b[38;5;28;01mNone\u001b[39;00m),\n\u001b[0;32m   1739\u001b[0m     compression\u001b[38;5;241m=\u001b[39m\u001b[38;5;28mself\u001b[39m\u001b[38;5;241m.\u001b[39moptions\u001b[38;5;241m.\u001b[39mget(\u001b[38;5;124m\"\u001b[39m\u001b[38;5;124mcompression\u001b[39m\u001b[38;5;124m\"\u001b[39m, \u001b[38;5;28;01mNone\u001b[39;00m),\n\u001b[0;32m   1740\u001b[0m     memory_map\u001b[38;5;241m=\u001b[39m\u001b[38;5;28mself\u001b[39m\u001b[38;5;241m.\u001b[39moptions\u001b[38;5;241m.\u001b[39mget(\u001b[38;5;124m\"\u001b[39m\u001b[38;5;124mmemory_map\u001b[39m\u001b[38;5;124m\"\u001b[39m, \u001b[38;5;28;01mFalse\u001b[39;00m),\n\u001b[0;32m   1741\u001b[0m     is_text\u001b[38;5;241m=\u001b[39mis_text,\n\u001b[0;32m   1742\u001b[0m     errors\u001b[38;5;241m=\u001b[39m\u001b[38;5;28mself\u001b[39m\u001b[38;5;241m.\u001b[39moptions\u001b[38;5;241m.\u001b[39mget(\u001b[38;5;124m\"\u001b[39m\u001b[38;5;124mencoding_errors\u001b[39m\u001b[38;5;124m\"\u001b[39m, \u001b[38;5;124m\"\u001b[39m\u001b[38;5;124mstrict\u001b[39m\u001b[38;5;124m\"\u001b[39m),\n\u001b[0;32m   1743\u001b[0m     storage_options\u001b[38;5;241m=\u001b[39m\u001b[38;5;28mself\u001b[39m\u001b[38;5;241m.\u001b[39moptions\u001b[38;5;241m.\u001b[39mget(\u001b[38;5;124m\"\u001b[39m\u001b[38;5;124mstorage_options\u001b[39m\u001b[38;5;124m\"\u001b[39m, \u001b[38;5;28;01mNone\u001b[39;00m),\n\u001b[0;32m   1744\u001b[0m )\n\u001b[0;32m   1745\u001b[0m \u001b[38;5;28;01massert\u001b[39;00m \u001b[38;5;28mself\u001b[39m\u001b[38;5;241m.\u001b[39mhandles \u001b[38;5;129;01mis\u001b[39;00m \u001b[38;5;129;01mnot\u001b[39;00m \u001b[38;5;28;01mNone\u001b[39;00m\n\u001b[0;32m   1746\u001b[0m f \u001b[38;5;241m=\u001b[39m \u001b[38;5;28mself\u001b[39m\u001b[38;5;241m.\u001b[39mhandles\u001b[38;5;241m.\u001b[39mhandle\n",
      "File \u001b[1;32m~\\anaconda3\\Lib\\site-packages\\pandas\\io\\common.py:856\u001b[0m, in \u001b[0;36mget_handle\u001b[1;34m(path_or_buf, mode, encoding, compression, memory_map, is_text, errors, storage_options)\u001b[0m\n\u001b[0;32m    851\u001b[0m \u001b[38;5;28;01melif\u001b[39;00m \u001b[38;5;28misinstance\u001b[39m(handle, \u001b[38;5;28mstr\u001b[39m):\n\u001b[0;32m    852\u001b[0m     \u001b[38;5;66;03m# Check whether the filename is to be opened in binary mode.\u001b[39;00m\n\u001b[0;32m    853\u001b[0m     \u001b[38;5;66;03m# Binary mode does not support 'encoding' and 'newline'.\u001b[39;00m\n\u001b[0;32m    854\u001b[0m     \u001b[38;5;28;01mif\u001b[39;00m ioargs\u001b[38;5;241m.\u001b[39mencoding \u001b[38;5;129;01mand\u001b[39;00m \u001b[38;5;124m\"\u001b[39m\u001b[38;5;124mb\u001b[39m\u001b[38;5;124m\"\u001b[39m \u001b[38;5;129;01mnot\u001b[39;00m \u001b[38;5;129;01min\u001b[39;00m ioargs\u001b[38;5;241m.\u001b[39mmode:\n\u001b[0;32m    855\u001b[0m         \u001b[38;5;66;03m# Encoding\u001b[39;00m\n\u001b[1;32m--> 856\u001b[0m         handle \u001b[38;5;241m=\u001b[39m \u001b[38;5;28mopen\u001b[39m(\n\u001b[0;32m    857\u001b[0m             handle,\n\u001b[0;32m    858\u001b[0m             ioargs\u001b[38;5;241m.\u001b[39mmode,\n\u001b[0;32m    859\u001b[0m             encoding\u001b[38;5;241m=\u001b[39mioargs\u001b[38;5;241m.\u001b[39mencoding,\n\u001b[0;32m    860\u001b[0m             errors\u001b[38;5;241m=\u001b[39merrors,\n\u001b[0;32m    861\u001b[0m             newline\u001b[38;5;241m=\u001b[39m\u001b[38;5;124m\"\u001b[39m\u001b[38;5;124m\"\u001b[39m,\n\u001b[0;32m    862\u001b[0m         )\n\u001b[0;32m    863\u001b[0m     \u001b[38;5;28;01melse\u001b[39;00m:\n\u001b[0;32m    864\u001b[0m         \u001b[38;5;66;03m# Binary mode\u001b[39;00m\n\u001b[0;32m    865\u001b[0m         handle \u001b[38;5;241m=\u001b[39m \u001b[38;5;28mopen\u001b[39m(handle, ioargs\u001b[38;5;241m.\u001b[39mmode)\n",
      "\u001b[1;31mFileNotFoundError\u001b[0m: [Errno 2] No such file or directory: 'pandas_ex1.csv'"
     ]
    }
   ],
   "source": [
    "# Reading a csv\n",
    "prov_support = pd.read_csv('pandas_ex1.csv', sep=',') \n",
    "prov_support"
   ]
  },
  {
   "cell_type": "markdown",
   "metadata": {
    "id": "68ru0F4EdE5h"
   },
   "source": [
    "What do you see in this `DataFrame`? \n",
    "\n",
    "1. The first row in the file was indeed a header row\n",
    "2. Pandas created a `DataFrame` with the index from 0 to 12\n",
    "\n",
    "Let's check the summary information of the `DataFrame` object:"
   ]
  },
  {
   "cell_type": "code",
   "execution_count": null,
   "metadata": {
    "id": "L8kdKB0qcapU"
   },
   "outputs": [],
   "source": [
    "prov_support.info()"
   ]
  },
  {
   "cell_type": "markdown",
   "metadata": {
    "id": "YLnJyUQ9dIA4"
   },
   "source": [
    "We can see that the `DataFrame` object has 5 columns of data, 3 columns are integers and 2 columns are of `object` data type. In pandas, \"object\" usually means `string`. We can also use method `dtypes` to check data types for each column of data:"
   ]
  },
  {
   "cell_type": "code",
   "execution_count": null,
   "metadata": {
    "id": "G93M50KEdJ8U"
   },
   "outputs": [],
   "source": [
    "prov_support.dtypes"
   ]
  },
  {
   "cell_type": "markdown",
   "metadata": {
    "id": "_gmV8QpkdMSU"
   },
   "source": [
    "When creating a `DataFrame`, `pandas` attempts to infer type and automatically do data conversion on read.  This includes user-defined value conversions including custom values for missing value markers. \n",
    "\n",
    "**Type inference** is one of the most important features of `pandas`.  It means *you do not have to specify which columns are numeric, integer, Boolean, or string*.  Pandas will inspect and specify for you the types.  However, this can lead to problems if not following good practices. \n",
    "\n",
    "For example, suppose  a data set uses numbers to represent nominal category levels instead of string labels.  When trying to do an analysis, most statistical packages would default to treating the levels as a numeric, unintentionally implying an ordering and quantity.  If these Python analysis packages also make inferences from the data, then it is also possible that the package would default to another methodology.  Simple time saving features can quickly spiral into more problems.\n",
    "\n",
    "Therefore, it is a good practice to always check if `pandas` has read the data correctly.  One common problem is when the numeric fields in the data file to be read has leading or trailing spaces, or if the numeric fields contain special characters, for example dollar signs, or thousands separators.  Pandas will read such numeric fields as strings.  You might run into problems with this data if you try to do any calculations on these columns, or use them in visualizations or models\n",
    "\n",
    "We can set more parameters while reading the file.  In the previous section, while creating the `DataFrame` from the dictionary, we decided to use one of the columns as an index.  We can do the same here and use the column with province abbreviations as index for the `DataFrame`.  Of course, we can always update the `DataFrame` afterwards using `set_index()` function, but `read_csv()` has a parameter that accomplishes this when reading the data.\n",
    "\n",
    "We might also decide to not use the header row from the file as it is too verbose, and specify different names for the columns.  We will demonstrate below how to add column names, because you might not always have a header in the data file, and you will need to specify a header yourself.  It is possible to add it later, but you can also name the columns within `read_csv()`.  Let us see how:"
   ]
  },
  {
   "cell_type": "code",
   "execution_count": null,
   "metadata": {
    "id": "WycobVP1dOLz"
   },
   "outputs": [],
   "source": [
    "prov_support = pd.read_csv('pandas_ex1.csv', \n",
    "                           sep=',', \n",
    "                           skiprows=1,   # skipping one row\n",
    "                           header=None,  # we are telling pandas that there is no header in the file, as we skipped the first row\n",
    "                           names=['province_name','province','2016','2017','2018'], # names of columns\n",
    "                           index_col='province')   # use column 'province' as index\n",
    "\n",
    "prov_support"
   ]
  },
  {
   "cell_type": "markdown",
   "metadata": {
    "id": "KvkaeF_xdR0i"
   },
   "source": [
    "We now know how to set both row and column indexes and load the data from the `csv` file into the `DataFrame`."
   ]
  },
  {
   "cell_type": "markdown",
   "metadata": {
    "id": "e1C8Zku_dXFX"
   },
   "source": [
    "#### Saving DataFrames\n",
    "\n",
    "We now understand how to read data. In this section we will discuss how to write and save data once we've finished preparing data for an analysis. \n",
    "\n",
    "In `pandas`, we utilize the `to_csv()` function for writing out `DataFrame` data to `csv` format. It is similar to the reading function, except now the parameters are used for formatting output instead of parsing input formatting."
   ]
  },
  {
   "cell_type": "code",
   "execution_count": null,
   "metadata": {
    "id": "_EnWlDRmdUyD"
   },
   "outputs": [],
   "source": [
    "csv_out = prov_support.to_csv()\n",
    "csv_out"
   ]
  },
  {
   "cell_type": "code",
   "execution_count": null,
   "metadata": {
    "id": "FGR2748Rdc7_"
   },
   "outputs": [],
   "source": [
    "# writing to a file\n",
    "prov_support.to_csv('csv_out1.csv')"
   ]
  },
  {
   "cell_type": "markdown",
   "metadata": {
    "id": "nY23Szzddao2"
   },
   "source": [
    "We can also make a more elaborate call and specify if we want to include a header row and index, and what character should be used as a column separator:"
   ]
  },
  {
   "cell_type": "code",
   "execution_count": null,
   "metadata": {
    "id": "1GYo2xXsdgDc"
   },
   "outputs": [],
   "source": [
    "prov_support.to_csv('csv_out2.csv',\n",
    "                    sep='\\t',       #the seperator used for the columns\n",
    "                    index=True,     #whether to include indexes in output\n",
    "                    header=True)    #whether to include headers in output"
   ]
  },
  {
   "cell_type": "markdown",
   "metadata": {
    "id": "yBOJ0bJLdi9i"
   },
   "source": [
    "We can find the files on the file system, open them in any text editor and validate the data. The data in the first file, `csv_out1.csv` should be formated as follows:"
   ]
  },
  {
   "cell_type": "markdown",
   "metadata": {
    "id": "KgM-CUQCdoHG"
   },
   "source": [
    "```\n",
    "province,province_name,2016,2017,2018\n",
    "NL,Newfoundland and Labrador,724,734,750\n",
    "PE,Prince Edward Island,584,601,638\n",
    "NS,Nova Scotia,3060,3138,3201\n",
    "NB,New Brunswick,2741,2814,2956\n",
    "```"
   ]
  },
  {
   "cell_type": "markdown",
   "metadata": {
    "id": "eo3F8SD8drCw"
   },
   "source": [
    "Format of the second file, `csv_out2.csv`, will look as follows, the columns are separated by tabs instead of commas:"
   ]
  },
  {
   "cell_type": "markdown",
   "metadata": {
    "id": "wg_2mbGnduIW"
   },
   "source": [
    "```\n",
    "province\tprovince_name\t2016\t2017\t2018\n",
    "NL\tNewfoundland and Labrador\t724\t734\t750\n",
    "PE\tPrince Edward Island\t584\t601\t638\n",
    "NS\tNova Scotia\t3060\t3138\t3201\n",
    "NB\tNew Brunswick\t2741\t2814\t2956\n",
    "```"
   ]
  },
  {
   "cell_type": "markdown",
   "metadata": {
    "id": "Jcd2kcEBeVn4"
   },
   "source": [
    "#### Renaming DataFrame columns"
   ]
  },
  {
   "cell_type": "markdown",
   "metadata": {
    "id": "qGZ6WGXteXzd"
   },
   "source": [
    "Quite often, after you have read the file and created a `DataFrame`, you realize that the column names are either too long, or contain special characters, or not descriptive enough. \n",
    "\n",
    "In our example, we might decide to shorten the names of the first and second columns. We might want to rename \"Canadian Provinces and Territories\" into \"Province Name\" and \"Two-Letter Abbreviation\" into \"Province Abbreviation\". We also might want to rename the numeric columns to display only one year instead of the range of years. For example, rename `\"2016-17\"` to be `\"2016\"` and so on.\n",
    "\n",
    "Let's load the data into the `DataFrame` one more time without specifying any parameters for the `read_csv()` function, like we did in the beginning of this section:"
   ]
  },
  {
   "cell_type": "code",
   "execution_count": null,
   "metadata": {
    "id": "aNTGO5yRdkgE"
   },
   "outputs": [],
   "source": [
    "fed_sup = pd.read_csv('pandas_ex1.csv', sep=',') \n",
    "fed_sup"
   ]
  },
  {
   "cell_type": "markdown",
   "metadata": {
    "id": "9e_4RwVZedol"
   },
   "source": [
    "Pandas allows us to easily rename the columns in one line of code. All we need to do is to use `.columns` attribute and pass to it a list of new column names:"
   ]
  },
  {
   "cell_type": "code",
   "execution_count": null,
   "metadata": {
    "id": "4aIfxWiyeeKk"
   },
   "outputs": [],
   "source": [
    "fed_sup.columns = ['Province Name', 'Province Abbreviation', '2016', '2017', '2018']\n",
    "fed_sup"
   ]
  },
  {
   "cell_type": "markdown",
   "metadata": {
    "id": "bYGO0AgVeh9h"
   },
   "source": [
    "Now, what if we decide that we don't want to have spaces in the column names (we will discuss in the next section the advantages of having column names without spaces). In this case, we can use `pandas`' `rename()` function:"
   ]
  },
  {
   "cell_type": "code",
   "execution_count": null,
   "metadata": {
    "id": "jEw6ijKHej4z"
   },
   "outputs": [],
   "source": [
    "fed_sup = fed_sup.rename(columns={'Province Name':'province_name', 'Province Abbreviation':'province'})\n",
    "fed_sup"
   ]
  },
  {
   "cell_type": "markdown",
   "metadata": {
    "id": "HFeXFIwCep82"
   },
   "source": [
    "The advantage of using the `rename()` function is that you can include only those column names that require the change and be specific about what column names you want to rename."
   ]
  },
  {
   "cell_type": "markdown",
   "metadata": {
    "id": "W6mxipRTfWkr"
   },
   "source": [
    "### Working with DataFrames"
   ]
  },
  {
   "cell_type": "markdown",
   "metadata": {
    "id": "SeKHSFzdhUSF"
   },
   "source": [
    "In this section, we will learn how to access, select and manipulate data in `pandas` `DataFrame`.\n",
    "\n",
    "We have read the data from the file and loaded it into the `DataFrame`. If you have thousands or even millions of rows of data, you might want to look at the small sample of the data within the notebook. Pandas has two very convenient methods to do that, `head()` and `tail()`. Both functions, by default, will display only 5 rows of data, the first or the last 5 rows, correspondingly. "
   ]
  },
  {
   "cell_type": "code",
   "execution_count": null,
   "metadata": {
    "id": "_mlh9j5NfJ4R"
   },
   "outputs": [],
   "source": [
    "# first 5 rows of the DataFrame\n",
    "prov_support.head()"
   ]
  },
  {
   "cell_type": "code",
   "execution_count": null,
   "metadata": {
    "id": "fzfBnicfhZm6"
   },
   "outputs": [],
   "source": [
    "# last 5 rows\n",
    "prov_support.tail()"
   ]
  },
  {
   "cell_type": "code",
   "execution_count": null,
   "metadata": {
    "id": "_pHY_qmzheyA"
   },
   "outputs": [],
   "source": [
    "# It is possible to specify how many rows of data we want to see:\n",
    "\n",
    "prov_support.head(7)"
   ]
  },
  {
   "cell_type": "markdown",
   "metadata": {
    "id": "QZGz7Cc5hhZQ"
   },
   "source": [
    "#### Axes and indexes"
   ]
  },
  {
   "cell_type": "markdown",
   "metadata": {
    "id": "0WF9PyQohjzq"
   },
   "source": [
    "To see the dimensions of the `DataFrame`, we can use method `shape`, it returns a tuple in the form (number of rows, number of columns):"
   ]
  },
  {
   "cell_type": "code",
   "execution_count": null,
   "metadata": {
    "id": "x1z__A9LhiHj"
   },
   "outputs": [],
   "source": [
    "prov_support.shape"
   ]
  },
  {
   "cell_type": "markdown",
   "metadata": {
    "id": "DDXZyn3bhnAE"
   },
   "source": [
    "Method `columns` returns a list of all columns from a `DataFrame`, and method `index` returns a `DataFrame`'s index:"
   ]
  },
  {
   "cell_type": "code",
   "execution_count": null,
   "metadata": {
    "id": "2sCpLhwphr86"
   },
   "outputs": [],
   "source": [
    "prov_support.index"
   ]
  },
  {
   "cell_type": "markdown",
   "metadata": {
    "id": "slQalhLWhtjS"
   },
   "source": [
    "One of the important concepts used in `pandas` is the concept of **`DataFrame` axes**. In the `DataFrame`, axes are indexes, where `axis=0` is the rows index, and `axis=1` is columns names. \n",
    "\n",
    "`DataFrame` definition of axes is the same as the corresponding definition of [axes in NumPy](https://docs.scipy.org/doc/numpy/glossary.html), which is: \"A 2-dimensional array has two corresponding axes: the first running vertically downwards across rows (axis 0), and the second running horizontally across columns (axis 1).\"\n",
    "\n",
    "![AxesPandas.png](data:image/png;base64,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)\n",
    "\n",
    "\n",
    "**Picture 9.** DataFrame axes.\n",
    "\n",
    "DataFrame's method `axes` can be used to output both axes, the rows index (`axis = 0`) first, then column names (`axis=1`). "
   ]
  },
  {
   "cell_type": "code",
   "execution_count": null,
   "metadata": {
    "id": "aTLKO9Vmhv96"
   },
   "outputs": [],
   "source": [
    "prov_support.axes"
   ]
  },
  {
   "cell_type": "markdown",
   "metadata": {
    "id": "DGe5yYrxiON_"
   },
   "source": [
    "Multiple methods in `pandas` are using `axis` as a parameter. Let's see an example. Pandas has method `sort_index()` which will sort a `DataFrame` based on either index or column headers.\n",
    "\n",
    "The code below will sort a `DataFrame` based on the index (`axis = 0`). The default order is ascending, which means in our case - alphabetical order, since our index is of a *string* type. We can change the sort order using the `ascending=` parameter."
   ]
  },
  {
   "cell_type": "code",
   "execution_count": null,
   "metadata": {
    "id": "KWWA2QNLiQLC"
   },
   "outputs": [],
   "source": [
    "prov_support.sort_index(axis=0, ascending=True) "
   ]
  },
  {
   "cell_type": "code",
   "execution_count": null,
   "metadata": {
    "id": "HgwmKhHmiVHo"
   },
   "outputs": [],
   "source": [
    "# Sorting by column names:\n",
    "\n",
    "prov_support.sort_index(axis=1, ascending=True) "
   ]
  },
  {
   "cell_type": "markdown",
   "metadata": {
    "id": "mzsab8mHiXZY"
   },
   "source": [
    "**NOTE:** `Series` have only one axis and it is a row axis.\n",
    "\n",
    "You can also see that indexes are of `pandas` **`Index`** object type:"
   ]
  },
  {
   "cell_type": "code",
   "execution_count": null,
   "metadata": {
    "id": "adgSBRoYiYDq"
   },
   "outputs": [],
   "source": [
    "obj1 = prov_support.index\n",
    "type(obj1)"
   ]
  },
  {
   "cell_type": "code",
   "execution_count": null,
   "metadata": {
    "id": "88DWxpxAibyL"
   },
   "outputs": [],
   "source": [
    "obj2 = prov_support.columns\n",
    "type(obj2)"
   ]
  },
  {
   "cell_type": "code",
   "execution_count": null,
   "metadata": {
    "id": "7qk6VTjsie2I"
   },
   "outputs": [],
   "source": [
    "print(obj1); print(obj2)"
   ]
  },
  {
   "cell_type": "markdown",
   "metadata": {
    "id": "SaUn5cZjigU0"
   },
   "source": [
    "#### Hierarchical indexes in DataFrames"
   ]
  },
  {
   "cell_type": "markdown",
   "metadata": {
    "id": "mKqK5Gutiu7K"
   },
   "source": [
    "Pandas supports hierarchical indexes, or multi-level index. Hierarchical index allows us to manipulate the data with any number of dimensions within a two-dimensional `DataFrame`. Please refer to [`pandas` documentation](https://pandas.pydata.org/pandas-docs/stable/advanced.html) for more details. We will come back to hierarchical indexes later, where we are going to talk about aggregating the data in the `DataFrame`.\n",
    "\n",
    "To introduce the concept, here is a simple example:"
   ]
  },
  {
   "cell_type": "code",
   "execution_count": null,
   "metadata": {
    "id": "2JwHZ7MwitAT"
   },
   "outputs": [],
   "source": [
    "df_hierarch = pd.DataFrame(data=[4, 7, 2, 5, 6],\n",
    "                           columns=['Data'],\n",
    "                           index= \n",
    "                           [['a', 'a', 'b', 'b', 'a'],\n",
    "                            ['x', 'y', 'x', 'y', 'x']])"
   ]
  },
  {
   "cell_type": "code",
   "execution_count": null,
   "metadata": {
    "id": "pkgLgH7ji3ZR"
   },
   "outputs": [],
   "source": [
    "df_hierarch"
   ]
  },
  {
   "cell_type": "code",
   "execution_count": null,
   "metadata": {
    "id": "hjIN5Absi6uQ"
   },
   "outputs": [],
   "source": [
    "df_hierarch.index"
   ]
  },
  {
   "cell_type": "markdown",
   "metadata": {
    "id": "dLfh6Elli2x3"
   },
   "source": [
    "As you can see, the index of this `DataFrame` has 2 levels, one level has indexes `'a'` and `'b'`, and the second level, - `'x'` and `'y'`. The type of this index is `MultiIndex`."
   ]
  },
  {
   "cell_type": "markdown",
   "metadata": {
    "id": "Qkd9LoLHjAsY"
   },
   "source": [
    "Now that we understand axes and indexes, let's talk about selecting data, indexing and slicing."
   ]
  },
  {
   "cell_type": "markdown",
   "metadata": {
    "id": "HrRXlKYhjBuk"
   },
   "source": [
    "A column in a `DataFrame` can be retrieved either by dictionary-like notation using column's name, or by attribute:"
   ]
  },
  {
   "cell_type": "code",
   "execution_count": null,
   "metadata": {
    "id": "yYn5YbLzjAG5"
   },
   "outputs": [],
   "source": [
    "# Here we are using a column name\n",
    "\n",
    "prov_support['province_name']"
   ]
  },
  {
   "cell_type": "code",
   "execution_count": null,
   "metadata": {
    "id": "_B7TExAhjIJB"
   },
   "outputs": [],
   "source": [
    "# Here we are using an attribute\n",
    "\n",
    "prov_support.province_name"
   ]
  },
  {
   "cell_type": "markdown",
   "metadata": {
    "id": "fj4Rb8_2jLtv"
   },
   "source": [
    "The result is the same, in both cases the data is retrieved as a `Series` object, and in both cases it is exactly the same object. We can confirm it as follows:"
   ]
  },
  {
   "cell_type": "code",
   "execution_count": null,
   "metadata": {
    "id": "aOVSE-b4jMQ6"
   },
   "outputs": [],
   "source": [
    "prov_support['province_name'] is prov_support.province_name"
   ]
  },
  {
   "cell_type": "code",
   "execution_count": null,
   "metadata": {
    "id": "Q5aI2TxbjS3y"
   },
   "outputs": [],
   "source": [
    "print(type(prov_support['province_name']))\n",
    "print(type(prov_support.province_name))"
   ]
  },
  {
   "cell_type": "markdown",
   "metadata": {
    "id": "R2dhoJrvjU5d"
   },
   "source": [
    "### **NOTE**: Please note that retrieving the data using column name, `prov_support['province_name']`, works for any column name, but getting the data by attribute will work only if the column name does not contain any spaces and is, in general, a valid Python variable. This means that we cannot use this method to access columns with year as a column name because it starts with a number:"
   ]
  },
  {
   "cell_type": "code",
   "execution_count": null,
   "metadata": {
    "id": "a_Wp3t48jVby"
   },
   "outputs": [],
   "source": [
    "# This will return an error because a number is not a valid Python variable name\n",
    "# We know that Python variables cannot start with a number\n",
    "\n",
    "prov_support.2016"
   ]
  },
  {
   "cell_type": "code",
   "execution_count": null,
   "metadata": {
    "id": "YR8RUxJ7jcXz"
   },
   "outputs": [],
   "source": [
    "# This will always work:\n",
    "\n",
    "prov_support['2016']"
   ]
  },
  {
   "cell_type": "markdown",
   "metadata": {
    "id": "QXk2umJtjeMN"
   },
   "source": [
    "To select multiple columns of data, we need to pass a list of columns. The output will be a `DataFrame`:"
   ]
  },
  {
   "cell_type": "code",
   "execution_count": null,
   "metadata": {
    "id": "9IUsy7A_jnQ5"
   },
   "outputs": [],
   "source": [
    "prov_support[['province_name','2018']]"
   ]
  },
  {
   "cell_type": "markdown",
   "metadata": {
    "id": "0WclF6JKjpDb"
   },
   "source": [
    "To select rows from the `DataFrame`, use the indexing operators `.loc` or `.iloc`:"
   ]
  },
  {
   "cell_type": "markdown",
   "metadata": {
    "id": "SFNSvYAFjrad"
   },
   "source": [
    "- `.loc` is used to select rows by index labels\n",
    "- `.iloc` is used to select rows by integer index, by position"
   ]
  },
  {
   "cell_type": "markdown",
   "metadata": {
    "id": "ZfgoEK7Yjvsx"
   },
   "source": [
    "Here are examples of both methods:"
   ]
  },
  {
   "cell_type": "code",
   "execution_count": null,
   "metadata": {
    "id": "2QGM00HUjqtN"
   },
   "outputs": [],
   "source": [
    "# Select data for Ontario by the label 'ON':\n",
    "prov_support.loc['ON']"
   ]
  },
  {
   "cell_type": "code",
   "execution_count": null,
   "metadata": {
    "id": "JrPpuUxWj0YA"
   },
   "outputs": [],
   "source": [
    "# Selecting data for Ontario, British Columbia and Quebec by labels:\n",
    "\n",
    "prov_support.loc[['ON', 'BC', 'QC']]"
   ]
  },
  {
   "cell_type": "code",
   "execution_count": null,
   "metadata": {
    "id": "XQdRsWrFj1AA"
   },
   "outputs": [],
   "source": [
    "# Selecting Ontario by position using .iloc method:\n",
    "\n",
    "prov_support.iloc[5]"
   ]
  },
  {
   "cell_type": "code",
   "execution_count": null,
   "metadata": {
    "id": "_9owUB0lj2xD"
   },
   "outputs": [],
   "source": [
    "# Selecting data for Ontario, British Columbia and Quebec by position:\n",
    "\n",
    "prov_support.iloc[[5,9,4]]"
   ]
  },
  {
   "cell_type": "markdown",
   "metadata": {
    "id": "KhH2buFHj6Fa"
   },
   "source": [
    "We can select a range, or a slice, of rows by specifying the start and end row position or index label. If we use row position, `.iloc[start:end]`, then the row identified by `end` position is not included in the resulting output."
   ]
  },
  {
   "cell_type": "code",
   "execution_count": null,
   "metadata": {
    "id": "9r7eNbSxj4fK"
   },
   "outputs": [],
   "source": [
    "prov_support.iloc[:3]   # rows with position 0, 1 and 2, but not 3"
   ]
  },
  {
   "cell_type": "markdown",
   "metadata": {
    "id": "yWdQVwT-j9Jy"
   },
   "source": [
    "However, when we use index labels, both the start and the end positions are included:"
   ]
  },
  {
   "cell_type": "code",
   "execution_count": null,
   "metadata": {
    "id": "IUXv8XI4j_BR"
   },
   "outputs": [],
   "source": [
    "prov_support.loc[:'NS'] "
   ]
  },
  {
   "cell_type": "code",
   "execution_count": null,
   "metadata": {
    "id": "gsTesdnhkA-k"
   },
   "outputs": [],
   "source": [
    "# Only numeric columns:\n",
    "\n",
    "prov_support[['2016', '2017', '2018']]"
   ]
  },
  {
   "cell_type": "code",
   "execution_count": null,
   "metadata": {
    "id": "OhND_poIkEqR"
   },
   "outputs": [],
   "source": [
    "# We can achieve the same result using .iloc()\n",
    "\n",
    "prov_support.iloc[:, 1:]"
   ]
  },
  {
   "cell_type": "markdown",
   "metadata": {
    "id": "JWSKoe7_kG6W"
   },
   "source": [
    "As we just saw, we can select a slice (subset) of rows and columns. In the example below we are selecting the first 3 rows and the first 2 columns only:"
   ]
  },
  {
   "cell_type": "code",
   "execution_count": null,
   "metadata": {
    "id": "BItvVb-PkHb6"
   },
   "outputs": [],
   "source": [
    "prov_support.iloc[:3, :2]"
   ]
  },
  {
   "cell_type": "code",
   "execution_count": null,
   "metadata": {
    "id": "TK-WT4NukKv8"
   },
   "outputs": [],
   "source": [
    "# Same, but using row and column labels\n",
    "\n",
    "prov_support.loc[:'NS', :'2016']"
   ]
  },
  {
   "cell_type": "markdown",
   "metadata": {
    "id": "uouWfHwUkMoY"
   },
   "source": [
    "Sometimes there is a need to select data based on the condition, for example, select all rows where federal support in 2018 is greater than 3000. This is called **Boolean indexing**:"
   ]
  },
  {
   "cell_type": "code",
   "execution_count": null,
   "metadata": {
    "id": "jBDT5sKBkRZe"
   },
   "outputs": [],
   "source": [
    "prov_support[prov_support['2018'] > 3000]"
   ]
  },
  {
   "cell_type": "markdown",
   "metadata": {
    "id": "Nw_ktzsKkTBK"
   },
   "source": [
    "If there is a list of values that we are looking for within the `DataFrame`, we can use `isin()` function. In the example below, we are looking for rows with indexes 'AB', 'ON' and 'BC':"
   ]
  },
  {
   "cell_type": "code",
   "execution_count": null,
   "metadata": {
    "id": "ldal84eUkTby"
   },
   "outputs": [],
   "source": [
    "prov_support[prov_support.index.isin(['AB', 'ON', 'BC'])]"
   ]
  },
  {
   "cell_type": "code",
   "execution_count": null,
   "metadata": {
    "id": "Gth1vABgkXD7"
   },
   "outputs": [],
   "source": [
    "prov_support[prov_support['2017'].isin(['22720', '21101'])]"
   ]
  },
  {
   "cell_type": "markdown",
   "metadata": {
    "id": "9geqgp7Nk5ex"
   },
   "source": [
    "If we need to combine multiple conditions, we can use `and` operator `&`:"
   ]
  },
  {
   "cell_type": "code",
   "execution_count": null,
   "metadata": {
    "id": "lBJqC4ysk7T2"
   },
   "outputs": [],
   "source": [
    "prov_support[(prov_support['2017'] > 6000) & (prov_support.index.isin(['AB', 'ON', 'BC']))]"
   ]
  },
  {
   "cell_type": "markdown",
   "metadata": {
    "id": "EgsppfjZk-y5"
   },
   "source": [
    "\"Is not\" can be coded using `~` operator:"
   ]
  },
  {
   "cell_type": "code",
   "execution_count": null,
   "metadata": {
    "id": "hxfq-anFk_Us"
   },
   "outputs": [],
   "source": [
    "# Selecting rows where support in 2017 does not equal to 6680:\n",
    "prov_support[~(prov_support['2017'] == 6680)]  # returns all rows except British Columbia"
   ]
  },
  {
   "cell_type": "code",
   "execution_count": null,
   "metadata": {
    "id": "A3id6dm1lBms"
   },
   "outputs": [],
   "source": [
    "# Another way of doing the same thing:\n",
    "\n",
    "prov_support[prov_support['2017'] != 6680] "
   ]
  },
  {
   "cell_type": "markdown",
   "metadata": {
    "id": "CES4NtmJlD4U"
   },
   "source": [
    "#### Pandas string methods"
   ]
  },
  {
   "cell_type": "markdown",
   "metadata": {
    "id": "yoVJwULslH0i"
   },
   "source": [
    "We can use all `string` methods in `pandas` `DataFrame` through `str()` method. For example, here is how we can convert all province names to lower case:"
   ]
  },
  {
   "cell_type": "code",
   "execution_count": null,
   "metadata": {
    "id": "ZOJEUolrlF8N"
   },
   "outputs": [],
   "source": [
    "prov_support.province_name.str.lower()"
   ]
  },
  {
   "cell_type": "code",
   "execution_count": null,
   "metadata": {
    "id": "VQPddJvLlLzV"
   },
   "outputs": [],
   "source": [
    "# Selecting all rows where province name contains character 'm'\n",
    "prov_support[prov_support.province_name.str.contains('m')]"
   ]
  },
  {
   "cell_type": "code",
   "execution_count": null,
   "metadata": {
    "id": "4HOAntTalN8x"
   },
   "outputs": [],
   "source": [
    "# In the result set, we don't see Manitoba because the name of the province\n",
    "# starts with the upper-case 'M'. Let's fix it:\n",
    "\n",
    "prov_support[prov_support.province_name.str.lower().str.contains('m')]"
   ]
  },
  {
   "cell_type": "code",
   "execution_count": null,
   "metadata": {
    "id": "PtnO69u0lOwZ"
   },
   "outputs": [],
   "source": [
    "# Same result as above, but we want only a column with province names:\n",
    "prov_support.loc[prov_support.province_name.str.lower().str.contains('m'), ['province_name']]"
   ]
  },
  {
   "cell_type": "markdown",
   "metadata": {
    "id": "F4_Z09XilRzM"
   },
   "source": [
    "**NOTE:** We can use all built-in Python string methods in `pandas`. Their application is not limited to the methods we used in this section."
   ]
  },
  {
   "cell_type": "markdown",
   "metadata": {
    "id": "8dAxw_JZlaU1"
   },
   "source": [
    "#### **EXERCISE 3:** Loading data into DataFrame, exploring"
   ]
  },
  {
   "cell_type": "markdown",
   "metadata": {
    "id": "BEXQvRqjldBU"
   },
   "source": [
    "For this exercise, we will take the Chocolate Bar Ratings dataset. We have downloaded the data from [Kaggle](https://www.kaggle.com/rtatman/chocolate-bar-ratings), \"Data\" tab. The dataset contains expert ratings of over 1,700 individual chocolate bars, along with information on their regional origin, percentage of cocoa, the variety of chocolate bean used and where the beans were grown.\n",
    "\n",
    "You can read about the data either on the \"Overview\" page of the dataset on Kaggle web site, or go to the [Flavors of Cacao](http://flavorsofcacao.com/index.html) website where the data originally [came from](http://flavorsofcacao.com/chocolate_database.html), and read about the rating system used in this dataset, overview of factors that contribute to the chocolate flavour and other useful and interesting information about chocolate.\n",
    "\n",
    "The dataset contains the following data attributes:"
   ]
  },
  {
   "cell_type": "markdown",
   "metadata": {
    "id": "VjoQXpjQll0c"
   },
   "source": [
    "| ***Attribute*** | ***Description*** |\n",
    "| ---: | :--- |\n",
    "| **Company (Maker-if known)** | Name of the company manufacturing the bar. |\n",
    "| **Specific Bean Origin or Bar Name** | The specific geo-region of origin for the bar. |\n",
    "| **REF** | Reference number, a value linked to when the review was entered in the database. Higher = more recent. |\n",
    "| **Review Date** | Date of publication of the review. |\n",
    "| **Cocoa Percent** | Cocoa percentage (darkness) of the chocolate bar being reviewed. |\n",
    "| **Company Location** | Manufacturer base country. |\n",
    "| **Rating** | Expert rating for the bar. |\n",
    "| **Bean Type** | The variety of bean used, if provided. |\n",
    "| **Broad Bean Origin** | The broad geo-region of origin for the bean. |\n",
    "|||"
   ]
  },
  {
   "cell_type": "markdown",
   "metadata": {
    "id": "ufh7cgkClo0u"
   },
   "source": [
    "**Task 1** - Load the data from `flavors_of_cacao.csv` file into the `DataFrame`, assume that the file is in the same folder as the notebook. If the file is in different directory on your system, make sure you include the full path to the file. \n",
    "\n",
    "Answer the following questions:\n",
    "- How many entries are there in the dataset?\n",
    "- What is the `dtype` of the data in the `Rating` column?"
   ]
  },
  {
   "cell_type": "code",
   "execution_count": null,
   "metadata": {
    "id": "Ar6if7hAlTHJ"
   },
   "outputs": [],
   "source": [
    "# Type your code here"
   ]
  },
  {
   "cell_type": "code",
   "execution_count": 39,
   "metadata": {
    "id": "4iy9PE7IlsOb"
   },
   "outputs": [],
   "source": [
    "flavors_df=pd.read_csv('flavors_of_cacao.csv',sep=',') #make sure file is in same directory,idk why the copy file path isnt working"
   ]
  },
  {
   "cell_type": "code",
   "execution_count": null,
   "metadata": {
    "id": "T-ICjsEzltzr"
   },
   "outputs": [],
   "source": [
    "print(flavors_df.size) #gives number of entries\n",
    "print(flavors_df.info) #why doesnt this give entries too?"
   ]
  },
  {
   "cell_type": "code",
   "execution_count": null,
   "metadata": {
    "id": "ntDES0owltfv"
   },
   "outputs": [],
   "source": [
    "print(flavors_df.shape)"
   ]
  },
  {
   "cell_type": "code",
   "execution_count": null,
   "metadata": {
    "id": "xQ1vEV7iltGZ"
   },
   "outputs": [],
   "source": [
    "print(flavors_df.dtypes['Rating'])"
   ]
  },
  {
   "cell_type": "markdown",
   "metadata": {
    "id": "C5FsBvXIlxOi"
   },
   "source": [
    "**Task 2 -** In this task, we want to take a look at the header row of the `DataFrame` with column names. We also want to investigate \"Bean Type\" column.\n",
    "\n",
    "- Print out the column names. What can you tell about the format of the column names?\n",
    "- Update column names, assign names that are easy to work with. You can update all column names or only some of them, and you can assign any new names.\n",
    "- Explore \"Bean Type\" column. How many entries are there in this column? Are there any empty values?"
   ]
  },
  {
   "cell_type": "code",
   "execution_count": null,
   "metadata": {
    "id": "Z-u-nFkvlxsK"
   },
   "outputs": [],
   "source": [
    "# Type your code here"
   ]
  },
  {
   "cell_type": "code",
   "execution_count": 41,
   "metadata": {
    "id": "IDj3CkhRl0FE"
   },
   "outputs": [
    {
     "name": "stdout",
     "output_type": "stream",
     "text": [
      "Index(['Company \\n(Maker-if known)', 'Bean_Origins', 'REF', 'Review_Date',\n",
      "       'Cocoa_Percent', 'Company\\nLocation', 'Rating', 'Bean_Type',\n",
      "       'Broad Bean\\nOrigin'],\n",
      "      dtype='object')\n"
     ]
    },
    {
     "name": "stderr",
     "output_type": "stream",
     "text": [
      "C:\\Users\\hafsa\\AppData\\Local\\Temp\\ipykernel_12748\\658988496.py:2: FutureWarning: The default value of regex will change from True to False in a future version.\n",
      "  cols=flavors_df.columns.str.replace('()','_')\n"
     ]
    }
   ],
   "source": [
    " #the format is object as the names are str\n",
    "cols=flavors_df.columns.str.replace('()','_')\n",
    "print(flavors_df.columns)"
   ]
  },
  {
   "cell_type": "code",
   "execution_count": null,
   "metadata": {
    "tags": []
   },
   "outputs": [],
   "source": [
    "flavors_df.head()"
   ]
  },
  {
   "cell_type": "code",
   "execution_count": 43,
   "metadata": {
    "id": "Ud1s3YhPl1VQ"
   },
   "outputs": [
    {
     "data": {
      "text/html": [
       "<div>\n",
       "<style scoped>\n",
       "    .dataframe tbody tr th:only-of-type {\n",
       "        vertical-align: middle;\n",
       "    }\n",
       "\n",
       "    .dataframe tbody tr th {\n",
       "        vertical-align: top;\n",
       "    }\n",
       "\n",
       "    .dataframe thead th {\n",
       "        text-align: right;\n",
       "    }\n",
       "</style>\n",
       "<table border=\"1\" class=\"dataframe\">\n",
       "  <thead>\n",
       "    <tr style=\"text-align: right;\">\n",
       "      <th></th>\n",
       "      <th>Company \\n(Maker-if known)</th>\n",
       "      <th>Bean_Origins</th>\n",
       "      <th>REF</th>\n",
       "      <th>Review_Date</th>\n",
       "      <th>Cocoa_Percent</th>\n",
       "      <th>Company_Location</th>\n",
       "      <th>Rating</th>\n",
       "      <th>Bean_Type</th>\n",
       "      <th>Broad_bean_beginnings</th>\n",
       "    </tr>\n",
       "  </thead>\n",
       "  <tbody>\n",
       "    <tr>\n",
       "      <th>0</th>\n",
       "      <td>A. Morin</td>\n",
       "      <td>Agua Grande</td>\n",
       "      <td>1876</td>\n",
       "      <td>2016</td>\n",
       "      <td>63%</td>\n",
       "      <td>France</td>\n",
       "      <td>3.75</td>\n",
       "      <td></td>\n",
       "      <td>Sao Tome</td>\n",
       "    </tr>\n",
       "    <tr>\n",
       "      <th>1</th>\n",
       "      <td>A. Morin</td>\n",
       "      <td>Kpime</td>\n",
       "      <td>1676</td>\n",
       "      <td>2015</td>\n",
       "      <td>70%</td>\n",
       "      <td>France</td>\n",
       "      <td>2.75</td>\n",
       "      <td></td>\n",
       "      <td>Togo</td>\n",
       "    </tr>\n",
       "    <tr>\n",
       "      <th>2</th>\n",
       "      <td>A. Morin</td>\n",
       "      <td>Atsane</td>\n",
       "      <td>1676</td>\n",
       "      <td>2015</td>\n",
       "      <td>70%</td>\n",
       "      <td>France</td>\n",
       "      <td>3.00</td>\n",
       "      <td></td>\n",
       "      <td>Togo</td>\n",
       "    </tr>\n",
       "    <tr>\n",
       "      <th>3</th>\n",
       "      <td>A. Morin</td>\n",
       "      <td>Akata</td>\n",
       "      <td>1680</td>\n",
       "      <td>2015</td>\n",
       "      <td>70%</td>\n",
       "      <td>France</td>\n",
       "      <td>3.50</td>\n",
       "      <td></td>\n",
       "      <td>Togo</td>\n",
       "    </tr>\n",
       "    <tr>\n",
       "      <th>4</th>\n",
       "      <td>A. Morin</td>\n",
       "      <td>Quilla</td>\n",
       "      <td>1704</td>\n",
       "      <td>2015</td>\n",
       "      <td>70%</td>\n",
       "      <td>France</td>\n",
       "      <td>3.50</td>\n",
       "      <td></td>\n",
       "      <td>Peru</td>\n",
       "    </tr>\n",
       "    <tr>\n",
       "      <th>...</th>\n",
       "      <td>...</td>\n",
       "      <td>...</td>\n",
       "      <td>...</td>\n",
       "      <td>...</td>\n",
       "      <td>...</td>\n",
       "      <td>...</td>\n",
       "      <td>...</td>\n",
       "      <td>...</td>\n",
       "      <td>...</td>\n",
       "    </tr>\n",
       "    <tr>\n",
       "      <th>1790</th>\n",
       "      <td>Zotter</td>\n",
       "      <td>Peru</td>\n",
       "      <td>647</td>\n",
       "      <td>2011</td>\n",
       "      <td>70%</td>\n",
       "      <td>Austria</td>\n",
       "      <td>3.75</td>\n",
       "      <td></td>\n",
       "      <td>Peru</td>\n",
       "    </tr>\n",
       "    <tr>\n",
       "      <th>1791</th>\n",
       "      <td>Zotter</td>\n",
       "      <td>Congo</td>\n",
       "      <td>749</td>\n",
       "      <td>2011</td>\n",
       "      <td>65%</td>\n",
       "      <td>Austria</td>\n",
       "      <td>3.00</td>\n",
       "      <td>Forastero</td>\n",
       "      <td>Congo</td>\n",
       "    </tr>\n",
       "    <tr>\n",
       "      <th>1792</th>\n",
       "      <td>Zotter</td>\n",
       "      <td>Kerala State</td>\n",
       "      <td>749</td>\n",
       "      <td>2011</td>\n",
       "      <td>65%</td>\n",
       "      <td>Austria</td>\n",
       "      <td>3.50</td>\n",
       "      <td>Forastero</td>\n",
       "      <td>India</td>\n",
       "    </tr>\n",
       "    <tr>\n",
       "      <th>1793</th>\n",
       "      <td>Zotter</td>\n",
       "      <td>Kerala State</td>\n",
       "      <td>781</td>\n",
       "      <td>2011</td>\n",
       "      <td>62%</td>\n",
       "      <td>Austria</td>\n",
       "      <td>3.25</td>\n",
       "      <td></td>\n",
       "      <td>India</td>\n",
       "    </tr>\n",
       "    <tr>\n",
       "      <th>1794</th>\n",
       "      <td>Zotter</td>\n",
       "      <td>Brazil, Mitzi Blue</td>\n",
       "      <td>486</td>\n",
       "      <td>2010</td>\n",
       "      <td>65%</td>\n",
       "      <td>Austria</td>\n",
       "      <td>3.00</td>\n",
       "      <td></td>\n",
       "      <td>Brazil</td>\n",
       "    </tr>\n",
       "  </tbody>\n",
       "</table>\n",
       "<p>1795 rows × 9 columns</p>\n",
       "</div>"
      ],
      "text/plain": [
       "     Company \\n(Maker-if known)        Bean_Origins   REF  Review_Date  \\\n",
       "0                      A. Morin         Agua Grande  1876         2016   \n",
       "1                      A. Morin               Kpime  1676         2015   \n",
       "2                      A. Morin              Atsane  1676         2015   \n",
       "3                      A. Morin               Akata  1680         2015   \n",
       "4                      A. Morin              Quilla  1704         2015   \n",
       "...                         ...                 ...   ...          ...   \n",
       "1790                     Zotter                Peru   647         2011   \n",
       "1791                     Zotter               Congo   749         2011   \n",
       "1792                     Zotter        Kerala State   749         2011   \n",
       "1793                     Zotter        Kerala State   781         2011   \n",
       "1794                     Zotter  Brazil, Mitzi Blue   486         2010   \n",
       "\n",
       "     Cocoa_Percent Company_Location  Rating  Bean_Type Broad_bean_beginnings  \n",
       "0              63%           France    3.75                         Sao Tome  \n",
       "1              70%           France    2.75                             Togo  \n",
       "2              70%           France    3.00                             Togo  \n",
       "3              70%           France    3.50                             Togo  \n",
       "4              70%           France    3.50                             Peru  \n",
       "...            ...              ...     ...        ...                   ...  \n",
       "1790           70%          Austria    3.75                             Peru  \n",
       "1791           65%          Austria    3.00  Forastero                 Congo  \n",
       "1792           65%          Austria    3.50  Forastero                 India  \n",
       "1793           62%          Austria    3.25                            India  \n",
       "1794           65%          Austria    3.00                           Brazil  \n",
       "\n",
       "[1795 rows x 9 columns]"
      ]
     },
     "execution_count": 43,
     "metadata": {},
     "output_type": "execute_result"
    }
   ],
   "source": [
    "flavors_df.rename(columns={'Company \\n(Maker-if known)':'Bean Maker','Specific Bean Origin\\nor Bar Name':'Bean_Origins','Review\\nDate':'Review_Date','Cocoa\\nPercent':'Cocoa_Percent','Bean\\nType':'Bean_Type','Company\\nLocation':'Company_Location','Broad Bean\\nOrigin':'Broad_bean_beginnings'\n",
    "                          },inplace=True)\n",
    "#company name still wont change\n",
    "#the inplace=true changes the actual data in the file too so that we can access the data like the probem i had later when trying to just use bean type\n",
    "\n",
    "#flavors_df.columns = ['company', 'bar_name', 'REF', 'review_date', 'cocoa_per', 'company_location', 'rating','bean_type', 'bean_origin']\n",
    "flavors_df"
   ]
  },
  {
   "cell_type": "code",
   "execution_count": null,
   "metadata": {
    "id": "faV7J9AFl1MG"
   },
   "outputs": [],
   "source": [
    "bean_type=flavors_df['Bean_Type'] #the length shows the number of entries\n",
    "bean_type.size #why does it not accept bean_type as the name even though in the display it shows the renamed column names?This got solved by uisng inplace=true"
   ]
  },
  {
   "cell_type": "code",
   "execution_count": null,
   "metadata": {
    "id": "hB_zNIEol04F"
   },
   "outputs": [],
   "source": [
    "#first way to check for nulls using boolean  indexing\n",
    "\n",
    "if flavors_df['Bean_Type'].isnull:\n",
    "    print('Null values are present')\n",
    "    \n",
    "be"
   ]
  },
  {
   "cell_type": "code",
   "execution_count": null,
   "metadata": {
    "id": "hsqO78Hbl0rW"
   },
   "outputs": [],
   "source": [
    "#wanna check all individual values and count how many arent null or are null? This is answered perfectly in lab solutions lookat it again"
   ]
  },
  {
   "cell_type": "code",
   "execution_count": null,
   "metadata": {},
   "outputs": [],
   "source": []
  }
 ],
 "metadata": {
  "colab": {
   "name": "Week03_Lab01_Student.ipynb",
   "provenance": []
  },
  "kernelspec": {
   "display_name": "Python 3 (ipykernel)",
   "language": "python",
   "name": "python3"
  },
  "language_info": {
   "codemirror_mode": {
    "name": "ipython",
    "version": 3
   },
   "file_extension": ".py",
   "mimetype": "text/x-python",
   "name": "python",
   "nbconvert_exporter": "python",
   "pygments_lexer": "ipython3",
   "version": "3.11.4"
  }
 },
 "nbformat": 4,
 "nbformat_minor": 4
}
